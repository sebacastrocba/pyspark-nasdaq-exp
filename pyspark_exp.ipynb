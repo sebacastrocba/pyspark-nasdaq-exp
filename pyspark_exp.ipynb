{
 "cells": [
  {
   "cell_type": "markdown",
   "metadata": {},
   "source": [
    "# NASDAQ Stocks data analysis"
   ]
  },
  {
   "cell_type": "code",
   "execution_count": 38,
   "metadata": {},
   "outputs": [],
   "source": [
    "from pyspark import pandas as ps\n",
    "import pandas as pd\n",
    "from pyspark.sql import SparkSession\n",
    "import plotly.express as px"
   ]
  },
  {
   "cell_type": "code",
   "execution_count": 3,
   "metadata": {},
   "outputs": [
    {
     "name": "stdout",
     "output_type": "stream",
     "text": [
      "23/03/06 11:17:00 WARN Utils: Your hostname, seba-G7-7700 resolves to a loopback address: 127.0.1.1; using 192.168.31.22 instead (on interface wlp0s20f3)\n",
      "23/03/06 11:17:00 WARN Utils: Set SPARK_LOCAL_IP if you need to bind to another address\n"
     ]
    },
    {
     "name": "stderr",
     "output_type": "stream",
     "text": [
      "Setting default log level to \"WARN\".\n",
      "To adjust logging level use sc.setLogLevel(newLevel). For SparkR, use setLogLevel(newLevel).\n"
     ]
    },
    {
     "name": "stdout",
     "output_type": "stream",
     "text": [
      "23/03/06 11:17:01 WARN NativeCodeLoader: Unable to load native-hadoop library for your platform... using builtin-java classes where applicable\n"
     ]
    }
   ],
   "source": [
    "# Setup spark session\n",
    "spark = SparkSession.builder.appName(\"pyspark-exp\").getOrCreate()"
   ]
  },
  {
   "cell_type": "code",
   "execution_count": 4,
   "metadata": {},
   "outputs": [
    {
     "data": {
      "text/html": [
       "\n",
       "            <div>\n",
       "                <p><b>SparkSession - in-memory</b></p>\n",
       "                \n",
       "        <div>\n",
       "            <p><b>SparkContext</b></p>\n",
       "\n",
       "            <p><a href=\"http://seba-G7-7700.lan:4040\">Spark UI</a></p>\n",
       "\n",
       "            <dl>\n",
       "              <dt>Version</dt>\n",
       "                <dd><code>v3.3.2</code></dd>\n",
       "              <dt>Master</dt>\n",
       "                <dd><code>local[*]</code></dd>\n",
       "              <dt>AppName</dt>\n",
       "                <dd><code>pyspark-exp</code></dd>\n",
       "            </dl>\n",
       "        </div>\n",
       "        \n",
       "            </div>\n",
       "        "
      ],
      "text/plain": [
       "<pyspark.sql.session.SparkSession at 0x7f3c630c8e20>"
      ]
     },
     "execution_count": 4,
     "metadata": {},
     "output_type": "execute_result"
    }
   ],
   "source": [
    "spark"
   ]
  },
  {
   "cell_type": "code",
   "execution_count": 5,
   "metadata": {},
   "outputs": [
    {
     "data": {
      "text/plain": [
       "'3.3.2'"
      ]
     },
     "execution_count": 5,
     "metadata": {},
     "output_type": "execute_result"
    }
   ],
   "source": [
    "spark.version"
   ]
  },
  {
   "cell_type": "code",
   "execution_count": 6,
   "metadata": {},
   "outputs": [
    {
     "name": "stderr",
     "output_type": "stream",
     "text": [
      "                                                                                \r"
     ]
    }
   ],
   "source": [
    "# NASDAQ Analysis\n",
    "\n",
    "## Read dataset using spark\n",
    "nasdaq_df = spark.read.csv(\"data/nasdaq_data.csv\", inferSchema=True, header=True)"
   ]
  },
  {
   "cell_type": "code",
   "execution_count": 7,
   "metadata": {},
   "outputs": [
    {
     "name": "stdout",
     "output_type": "stream",
     "text": [
      "+------+-------------------+--------+\n",
      "|symbol|               date|adjusted|\n",
      "+------+-------------------+--------+\n",
      "|  AACG|2011-01-03 00:00:00|0.297095|\n",
      "|  AACG|2011-01-04 00:00:00|0.300307|\n",
      "|  AACG|2011-01-05 00:00:00|0.297095|\n",
      "|  AACG|2011-01-06 00:00:00|0.308336|\n",
      "|  AACG|2011-01-07 00:00:00|0.309139|\n",
      "|  AACG|2011-01-10 00:00:00|0.307533|\n",
      "|  AACG|2011-01-11 00:00:00|0.305125|\n",
      "|  AACG|2011-01-12 00:00:00|0.309942|\n",
      "|  AACG|2011-01-13 00:00:00| 0.30111|\n",
      "|  AACG|2011-01-14 00:00:00|0.319578|\n",
      "+------+-------------------+--------+\n",
      "only showing top 10 rows\n",
      "\n"
     ]
    }
   ],
   "source": [
    "# Show dataframe \n",
    "nasdaq_df.show(n=10)"
   ]
  },
  {
   "cell_type": "code",
   "execution_count": 8,
   "metadata": {},
   "outputs": [
    {
     "name": "stdout",
     "output_type": "stream",
     "text": [
      "root\n",
      " |-- symbol: string (nullable = true)\n",
      " |-- date: timestamp (nullable = true)\n",
      " |-- adjusted: string (nullable = true)\n",
      "\n"
     ]
    }
   ],
   "source": [
    "# Check schema\n",
    "nasdaq_df.printSchema()"
   ]
  },
  {
   "cell_type": "code",
   "execution_count": 9,
   "metadata": {},
   "outputs": [
    {
     "data": {
      "text/plain": [
       "['symbol', 'date', 'adjusted']"
      ]
     },
     "execution_count": 9,
     "metadata": {},
     "output_type": "execute_result"
    }
   ],
   "source": [
    "# Dataframe columns\n",
    "nasdaq_df.columns"
   ]
  },
  {
   "cell_type": "code",
   "execution_count": 10,
   "metadata": {},
   "outputs": [
    {
     "name": "stdout",
     "output_type": "stream",
     "text": [
      "+------+\n",
      "|symbol|\n",
      "+------+\n",
      "|  AACG|\n",
      "|  AACG|\n",
      "|  AACG|\n",
      "|  AACG|\n",
      "|  AACG|\n",
      "+------+\n",
      "only showing top 5 rows\n",
      "\n"
     ]
    }
   ],
   "source": [
    "# Select columns\n",
    "nasdaq_df.select(\"symbol\").show(n=5)"
   ]
  },
  {
   "cell_type": "code",
   "execution_count": 11,
   "metadata": {},
   "outputs": [
    {
     "name": "stdout",
     "output_type": "stream",
     "text": [
      "+------+--------+\n",
      "|symbol|adjusted|\n",
      "+------+--------+\n",
      "|  AACG|0.297095|\n",
      "|  AACG|0.300307|\n",
      "|  AACG|0.297095|\n",
      "|  AACG|0.308336|\n",
      "|  AACG|0.309139|\n",
      "+------+--------+\n",
      "only showing top 5 rows\n",
      "\n"
     ]
    }
   ],
   "source": [
    "nasdaq_df.select([\"symbol\", \"adjusted\"]).show(n=5)"
   ]
  },
  {
   "cell_type": "code",
   "execution_count": 12,
   "metadata": {},
   "outputs": [
    {
     "data": {
      "text/plain": [
       "[('symbol', 'string'), ('date', 'timestamp'), ('adjusted', 'string')]"
      ]
     },
     "execution_count": 12,
     "metadata": {},
     "output_type": "execute_result"
    }
   ],
   "source": [
    "nasdaq_df.dtypes"
   ]
  },
  {
   "cell_type": "code",
   "execution_count": 13,
   "metadata": {},
   "outputs": [
    {
     "name": "stdout",
     "output_type": "stream",
     "text": [
      "+------+-------------------+--------+\n",
      "|symbol|               date|adjusted|\n",
      "+------+-------------------+--------+\n",
      "|  AACG|2011-01-03 00:00:00|0.297095|\n",
      "|  AACG|2011-01-04 00:00:00|0.300307|\n",
      "|  AACG|2011-01-05 00:00:00|0.297095|\n",
      "|  AACG|2011-01-06 00:00:00|0.308336|\n",
      "|  AACG|2011-01-07 00:00:00|0.309139|\n",
      "+------+-------------------+--------+\n",
      "only showing top 5 rows\n",
      "\n"
     ]
    }
   ],
   "source": [
    "nasdaq_df = nasdaq_df.withColumn(\"adjusted\", nasdaq_df[\"adjusted\"].cast(\"float\"))\n",
    "nasdaq_df.show(n=5)"
   ]
  },
  {
   "cell_type": "code",
   "execution_count": 14,
   "metadata": {},
   "outputs": [
    {
     "name": "stdout",
     "output_type": "stream",
     "text": [
      "root\n",
      " |-- symbol: string (nullable = true)\n",
      " |-- date: timestamp (nullable = true)\n",
      " |-- adjusted: float (nullable = true)\n",
      "\n"
     ]
    }
   ],
   "source": [
    "nasdaq_df.printSchema()"
   ]
  },
  {
   "cell_type": "code",
   "execution_count": 15,
   "metadata": {},
   "outputs": [
    {
     "name": "stdout",
     "output_type": "stream",
     "text": [
      "+------+-------------------+--------+\n",
      "|symbol|          timestamp|adjusted|\n",
      "+------+-------------------+--------+\n",
      "|  AACG|2011-01-03 00:00:00|0.297095|\n",
      "|  AACG|2011-01-04 00:00:00|0.300307|\n",
      "|  AACG|2011-01-05 00:00:00|0.297095|\n",
      "|  AACG|2011-01-06 00:00:00|0.308336|\n",
      "|  AACG|2011-01-07 00:00:00|0.309139|\n",
      "+------+-------------------+--------+\n",
      "only showing top 5 rows\n",
      "\n"
     ]
    }
   ],
   "source": [
    "# Rename column\n",
    "nasdaq_df.withColumnRenamed(\"date\", \"timestamp\").show(n=5)"
   ]
  },
  {
   "cell_type": "code",
   "execution_count": 16,
   "metadata": {},
   "outputs": [
    {
     "name": "stdout",
     "output_type": "stream",
     "text": [
      "+-------------------+--------+\n",
      "|               date|adjusted|\n",
      "+-------------------+--------+\n",
      "|2011-01-03 00:00:00|0.297095|\n",
      "|2011-01-04 00:00:00|0.300307|\n",
      "|2011-01-05 00:00:00|0.297095|\n",
      "|2011-01-06 00:00:00|0.308336|\n",
      "|2011-01-07 00:00:00|0.309139|\n",
      "+-------------------+--------+\n",
      "only showing top 5 rows\n",
      "\n"
     ]
    }
   ],
   "source": [
    "# Drop column\n",
    "nasdaq_df.drop(\"symbol\").show(n=5)"
   ]
  },
  {
   "cell_type": "code",
   "execution_count": 18,
   "metadata": {},
   "outputs": [
    {
     "name": "stdout",
     "output_type": "stream",
     "text": [
      "+------+-------------------+--------+\n",
      "|symbol|               date|adjusted|\n",
      "+------+-------------------+--------+\n",
      "|  AACG|2011-01-04 00:00:00|0.300307|\n",
      "|  AACG|2011-01-06 00:00:00|0.308336|\n",
      "|  AACG|2011-01-07 00:00:00|0.309139|\n",
      "|  AACG|2011-01-10 00:00:00|0.307533|\n",
      "|  AACG|2011-01-11 00:00:00|0.305125|\n",
      "+------+-------------------+--------+\n",
      "only showing top 5 rows\n",
      "\n"
     ]
    }
   ],
   "source": [
    "# Filter\n",
    "nasdaq_df.filter(\"adjusted > 0.3\").show(n=5)"
   ]
  },
  {
   "cell_type": "code",
   "execution_count": 23,
   "metadata": {},
   "outputs": [
    {
     "name": "stderr",
     "output_type": "stream",
     "text": [
      "[Stage 18:=================================>                       (7 + 5) / 12]\r"
     ]
    },
    {
     "name": "stdout",
     "output_type": "stream",
     "text": [
      "+------+------------------+\n",
      "|symbol|     sum(adjusted)|\n",
      "+------+------------------+\n",
      "|  ABMD|371409.49010181427|\n",
      "|   APM|  6241.03800201416|\n",
      "|  ARRW| 908.8679885864258|\n",
      "|  ARAY|14744.059997081757|\n",
      "|  AMTX| 5515.863501340151|\n",
      "+------+------------------+\n",
      "only showing top 5 rows\n",
      "\n"
     ]
    },
    {
     "name": "stderr",
     "output_type": "stream",
     "text": [
      "                                                                                \r"
     ]
    }
   ],
   "source": [
    "# Groupby\n",
    "nasdaq_df.groupBy(\"symbol\").sum().show(n=5)"
   ]
  },
  {
   "cell_type": "code",
   "execution_count": 22,
   "metadata": {},
   "outputs": [
    {
     "name": "stderr",
     "output_type": "stream",
     "text": [
      "[Stage 15:====>                                                   (1 + 11) / 12]\r"
     ]
    },
    {
     "name": "stdout",
     "output_type": "stream",
     "text": [
      "+------+------------------+\n",
      "|symbol|     avg(adjusted)|\n",
      "+------+------------------+\n",
      "|  ABMD|137.15269206123128|\n",
      "|   APM| 9.111004382502424|\n",
      "|  ARRW| 9.668808389217295|\n",
      "|  ARAY| 5.485141367961963|\n",
      "|  AMTX|2.0368772161521975|\n",
      "+------+------------------+\n",
      "only showing top 5 rows\n",
      "\n"
     ]
    },
    {
     "name": "stderr",
     "output_type": "stream",
     "text": [
      "                                                                                \r"
     ]
    }
   ],
   "source": [
    "nasdaq_df.groupBy(\"symbol\").mean().show(n=5)"
   ]
  },
  {
   "attachments": {},
   "cell_type": "markdown",
   "metadata": {},
   "source": [
    "## From pyspark to pandas"
   ]
  },
  {
   "cell_type": "code",
   "execution_count": 4,
   "metadata": {},
   "outputs": [
    {
     "name": "stderr",
     "output_type": "stream",
     "text": [
      "/home/seba/Documentos/pyspark-nasdaq-exp/.env/lib/python3.10/site-packages/pyspark/pandas/utils.py:975: PandasAPIOnSparkAdviceWarning: If `index_col` is not specified for `read_csv`, the default index is attached which can cause additional overhead.\n",
      "  warnings.warn(message, PandasAPIOnSparkAdviceWarning)\n",
      "/home/seba/Documentos/pyspark-nasdaq-exp/.env/lib/python3.10/site-packages/pyspark/sql/pandas/conversion.py:248: FutureWarning: Passing unit-less datetime64 dtype to .astype is deprecated and will raise in a future version. Pass 'datetime64[ns]' instead\n",
      "  series = series.astype(t, copy=False)\n"
     ]
    },
    {
     "data": {
      "text/html": [
       "<div>\n",
       "<style scoped>\n",
       "    .dataframe tbody tr th:only-of-type {\n",
       "        vertical-align: middle;\n",
       "    }\n",
       "\n",
       "    .dataframe tbody tr th {\n",
       "        vertical-align: top;\n",
       "    }\n",
       "\n",
       "    .dataframe thead th {\n",
       "        text-align: right;\n",
       "    }\n",
       "</style>\n",
       "<table border=\"1\" class=\"dataframe\">\n",
       "  <thead>\n",
       "    <tr style=\"text-align: right;\">\n",
       "      <th></th>\n",
       "      <th>symbol</th>\n",
       "      <th>date</th>\n",
       "      <th>adjusted</th>\n",
       "    </tr>\n",
       "  </thead>\n",
       "  <tbody>\n",
       "    <tr>\n",
       "      <th>0</th>\n",
       "      <td>AACG</td>\n",
       "      <td>2011-01-03</td>\n",
       "      <td>0.297095</td>\n",
       "    </tr>\n",
       "    <tr>\n",
       "      <th>1</th>\n",
       "      <td>AACG</td>\n",
       "      <td>2011-01-04</td>\n",
       "      <td>0.300307</td>\n",
       "    </tr>\n",
       "    <tr>\n",
       "      <th>2</th>\n",
       "      <td>AACG</td>\n",
       "      <td>2011-01-05</td>\n",
       "      <td>0.297095</td>\n",
       "    </tr>\n",
       "    <tr>\n",
       "      <th>3</th>\n",
       "      <td>AACG</td>\n",
       "      <td>2011-01-06</td>\n",
       "      <td>0.308336</td>\n",
       "    </tr>\n",
       "    <tr>\n",
       "      <th>4</th>\n",
       "      <td>AACG</td>\n",
       "      <td>2011-01-07</td>\n",
       "      <td>0.309139</td>\n",
       "    </tr>\n",
       "  </tbody>\n",
       "</table>\n",
       "</div>"
      ],
      "text/plain": [
       "  symbol       date  adjusted\n",
       "0   AACG 2011-01-03  0.297095\n",
       "1   AACG 2011-01-04  0.300307\n",
       "2   AACG 2011-01-05  0.297095\n",
       "3   AACG 2011-01-06  0.308336\n",
       "4   AACG 2011-01-07  0.309139"
      ]
     },
     "execution_count": 4,
     "metadata": {},
     "output_type": "execute_result"
    }
   ],
   "source": [
    "# new spark session\n",
    "\n",
    "spark = SparkSession.builder \\\n",
    "    .master(\"local[12]\") \\\n",
    "    .appName(\"pandas_pyspark\") \\\n",
    "    .config(\"spark.driver.bindAddress\",\"localhost\") \\\n",
    "    .config(\"spark.ui.port\", \"4050\") \\\n",
    "    .config(\"spark.driver.memory\", \"16g\") \\\n",
    "    .config(\"spark.memory.fraction\", \"0.9\") \\\n",
    "    .getOrCreate()\n",
    "\n",
    "nasdaq_df2 = ps.read_csv(\"data/nasdaq_data.csv\")\n",
    "nasdaq_df2.head()"
   ]
  },
  {
   "cell_type": "code",
   "execution_count": 5,
   "metadata": {},
   "outputs": [
    {
     "data": {
      "text/plain": [
       "(5795746, 3)"
      ]
     },
     "execution_count": 5,
     "metadata": {},
     "output_type": "execute_result"
    }
   ],
   "source": [
    "nasdaq_df2.shape"
   ]
  },
  {
   "cell_type": "code",
   "execution_count": 7,
   "metadata": {},
   "outputs": [
    {
     "name": "stderr",
     "output_type": "stream",
     "text": [
      "                                                                                \r"
     ]
    },
    {
     "data": {
      "text/plain": [
       "(3980,)"
      ]
     },
     "execution_count": 7,
     "metadata": {},
     "output_type": "execute_result"
    }
   ],
   "source": [
    "nasdaq_df2['symbol'].value_counts().shape"
   ]
  },
  {
   "cell_type": "code",
   "execution_count": 9,
   "metadata": {},
   "outputs": [
    {
     "name": "stderr",
     "output_type": "stream",
     "text": [
      "/home/seba/Documentos/pyspark-nasdaq-exp/.env/lib/python3.10/site-packages/pyspark/pandas/internal.py:1573: FutureWarning: iteritems is deprecated and will be removed in a future version. Use .items instead.\n",
      "  fields = [\n",
      "/home/seba/Documentos/pyspark-nasdaq-exp/.env/lib/python3.10/site-packages/pyspark/sql/pandas/conversion.py:486: FutureWarning: iteritems is deprecated and will be removed in a future version. Use .items instead.\n",
      "  for column, series in pdf.iteritems():\n",
      "                                                                                \r"
     ]
    },
    {
     "name": "stdout",
     "output_type": "stream",
     "text": [
      "<class 'pyspark.pandas.frame.DataFrame'>\n",
      "Int64Index: 5 entries, 0 to 4\n",
      "Data columns (total 3 columns):\n",
      " #   Column    Non-Null Count  Dtype         \n",
      "---  ------    --------------  -----         \n",
      " 0   symbol    5 non-null      object        \n",
      " 1   date      5 non-null      datetime64[ns]\n",
      " 2   adjusted  5 non-null      object        \n",
      "dtypes: datetime64[ns](1), object(2)"
     ]
    }
   ],
   "source": [
    "nasdaq_df2.head().info()"
   ]
  },
  {
   "cell_type": "code",
   "execution_count": 11,
   "metadata": {},
   "outputs": [],
   "source": [
    "# Change data types\n",
    "nasdaq_df2['symbol'] = nasdaq_df2['symbol'].astype(\"str\")\n",
    "nasdaq_df2['date'] = nasdaq_df2['date'].astype(\"datetime64\")\n",
    "nasdaq_df2['adjusted'] = nasdaq_df2['adjusted'].astype(\"float64\")"
   ]
  },
  {
   "cell_type": "code",
   "execution_count": 13,
   "metadata": {},
   "outputs": [
    {
     "name": "stderr",
     "output_type": "stream",
     "text": [
      "/home/seba/Documentos/pyspark-nasdaq-exp/.env/lib/python3.10/site-packages/pyspark/pandas/internal.py:1573: FutureWarning: iteritems is deprecated and will be removed in a future version. Use .items instead.\n",
      "  fields = [\n",
      "/home/seba/Documentos/pyspark-nasdaq-exp/.env/lib/python3.10/site-packages/pyspark/sql/pandas/conversion.py:486: FutureWarning: iteritems is deprecated and will be removed in a future version. Use .items instead.\n",
      "  for column, series in pdf.iteritems():\n",
      "                                                                                \r"
     ]
    },
    {
     "name": "stdout",
     "output_type": "stream",
     "text": [
      "<class 'pyspark.pandas.frame.DataFrame'>\n",
      "Int64Index: 5 entries, 0 to 4\n",
      "Data columns (total 3 columns):\n",
      " #   Column    Non-Null Count  Dtype     \n",
      "---  ------    --------------  -----     \n",
      " 0   symbol    5 non-null      <U0       \n",
      " 1   date      5 non-null      datetime64\n",
      " 2   adjusted  5 non-null      float64   \n",
      "dtypes: datetime64(1), float64(1), str(1)"
     ]
    }
   ],
   "source": [
    "nasdaq_df2.head().info()"
   ]
  },
  {
   "cell_type": "code",
   "execution_count": 14,
   "metadata": {},
   "outputs": [
    {
     "name": "stdout",
     "output_type": "stream",
     "text": [
      "== Physical Plan ==\n",
      "*(1) Project [__index_level_0__#117L, CASE WHEN isnull(symbol#101) THEN None ELSE symbol#101 END AS symbol#319, date#102, cast(adjusted#103 as double) AS adjusted#325]\n",
      "+- AttachDistributedSequence[__index_level_0__#117L, symbol#101, date#102, adjusted#103] Index: __index_level_0__#117L\n",
      "   +- FileScan csv [symbol#101,date#102,adjusted#103] Batched: false, DataFilters: [], Format: CSV, Location: InMemoryFileIndex(1 paths)[file:/home/seba/Documentos/pyspark-nasdaq-exp/data/nasdaq_data.csv], PartitionFilters: [], PushedFilters: [], ReadSchema: struct<symbol:string,date:timestamp,adjusted:string>\n",
      "\n",
      "\n"
     ]
    }
   ],
   "source": [
    "# What is spark doing?\n",
    "nasdaq_df2.spark.explain()"
   ]
  },
  {
   "cell_type": "code",
   "execution_count": 15,
   "metadata": {},
   "outputs": [
    {
     "name": "stderr",
     "output_type": "stream",
     "text": [
      "                                                                                \r"
     ]
    }
   ],
   "source": [
    "# CHECKPOINTING ----\n",
    "# - Can help to speed up spark by Caching operations\n",
    "nasdaq_df2 = nasdaq_df2.spark.local_checkpoint()"
   ]
  },
  {
   "cell_type": "code",
   "execution_count": 20,
   "metadata": {},
   "outputs": [],
   "source": [
    "# LAG OPERATION ----\n",
    "\n",
    "nasdaq_shifted_df = nasdaq_df2 \\\n",
    "    .drop('date', axis = 1) \\\n",
    "    .groupby(\"symbol\") \\\n",
    "    .shift(1) \\\n",
    "    .rename(columns={'adjusted':'lag1'}) \\\n",
    "    .sort_index()"
   ]
  },
  {
   "cell_type": "code",
   "execution_count": 22,
   "metadata": {},
   "outputs": [
    {
     "name": "stderr",
     "output_type": "stream",
     "text": [
      "                                                                                \r"
     ]
    }
   ],
   "source": [
    "# Create another local checkpoint to speed up \n",
    "nasdaq_shifted_df = nasdaq_shifted_df.spark.local_checkpoint()"
   ]
  },
  {
   "cell_type": "code",
   "execution_count": 23,
   "metadata": {},
   "outputs": [
    {
     "name": "stderr",
     "output_type": "stream",
     "text": [
      "/home/seba/Documentos/pyspark-nasdaq-exp/.env/lib/python3.10/site-packages/pyspark/sql/pandas/conversion.py:248: FutureWarning: Passing unit-less datetime64 dtype to .astype is deprecated and will raise in a future version. Pass 'datetime64[ns]' instead\n",
      "  series = series.astype(t, copy=False)\n"
     ]
    },
    {
     "data": {
      "text/html": [
       "<div>\n",
       "<style scoped>\n",
       "    .dataframe tbody tr th:only-of-type {\n",
       "        vertical-align: middle;\n",
       "    }\n",
       "\n",
       "    .dataframe tbody tr th {\n",
       "        vertical-align: top;\n",
       "    }\n",
       "\n",
       "    .dataframe thead th {\n",
       "        text-align: right;\n",
       "    }\n",
       "</style>\n",
       "<table border=\"1\" class=\"dataframe\">\n",
       "  <thead>\n",
       "    <tr style=\"text-align: right;\">\n",
       "      <th></th>\n",
       "      <th>symbol</th>\n",
       "      <th>date</th>\n",
       "      <th>adjusted</th>\n",
       "      <th>lag1</th>\n",
       "    </tr>\n",
       "  </thead>\n",
       "  <tbody>\n",
       "    <tr>\n",
       "      <th>0</th>\n",
       "      <td>AACG</td>\n",
       "      <td>2011-01-03</td>\n",
       "      <td>0.297095</td>\n",
       "      <td>NaN</td>\n",
       "    </tr>\n",
       "    <tr>\n",
       "      <th>1990193</th>\n",
       "      <td>FORD</td>\n",
       "      <td>2021-09-29</td>\n",
       "      <td>2.350000</td>\n",
       "      <td>2.520000</td>\n",
       "    </tr>\n",
       "    <tr>\n",
       "      <th>2985461</th>\n",
       "      <td>LFVN</td>\n",
       "      <td>2013-04-30</td>\n",
       "      <td>15.960000</td>\n",
       "      <td>15.890000</td>\n",
       "    </tr>\n",
       "    <tr>\n",
       "      <th>2985462</th>\n",
       "      <td>LFVN</td>\n",
       "      <td>2013-05-01</td>\n",
       "      <td>15.960000</td>\n",
       "      <td>15.960000</td>\n",
       "    </tr>\n",
       "    <tr>\n",
       "      <th>3981791</th>\n",
       "      <td>PCTI</td>\n",
       "      <td>2015-08-19</td>\n",
       "      <td>4.915337</td>\n",
       "      <td>4.947516</td>\n",
       "    </tr>\n",
       "  </tbody>\n",
       "</table>\n",
       "</div>"
      ],
      "text/plain": [
       "        symbol       date   adjusted       lag1\n",
       "0         AACG 2011-01-03   0.297095        NaN\n",
       "1990193   FORD 2021-09-29   2.350000   2.520000\n",
       "2985461   LFVN 2013-04-30  15.960000  15.890000\n",
       "2985462   LFVN 2013-05-01  15.960000  15.960000\n",
       "3981791   PCTI 2015-08-19   4.915337   4.947516"
      ]
     },
     "execution_count": 23,
     "metadata": {},
     "output_type": "execute_result"
    }
   ],
   "source": [
    "# COMBINE LAG WITH ADJUSTED PRICES ----\n",
    "# - IF YOU GET ERROR: NEED TO SET OPTION TO COMPUTE ON MULTIPLE DATA FRAMES\n",
    "\n",
    "ps.set_option('compute.ops_on_diff_frames', True)\n",
    "\n",
    "nasdaq_lag_df = nasdaq_df2.copy()\n",
    "nasdaq_lag_df['lag1'] = nasdaq_shifted_df[['lag1']]\n",
    "\n",
    "nasdaq_lag_df.head()"
   ]
  },
  {
   "cell_type": "code",
   "execution_count": 24,
   "metadata": {},
   "outputs": [
    {
     "name": "stderr",
     "output_type": "stream",
     "text": [
      "                                                                                \r"
     ]
    }
   ],
   "source": [
    "nasdaq_lag_df = nasdaq_lag_df.spark.local_checkpoint()"
   ]
  },
  {
   "cell_type": "code",
   "execution_count": 25,
   "metadata": {},
   "outputs": [],
   "source": [
    "# SUMMARIZE RETURNS\n",
    "\n",
    "nasdaq_agg_df = nasdaq_lag_df \\\n",
    "    .assign(returns = lambda x: (x['adjusted'] / x['lag1']) - 1) \\\n",
    "    .groupby('symbol') \\\n",
    "    .aggregate(\n",
    "        {\n",
    "            'returns': ['mean', 'std', 'count'],\n",
    "            'date': ['max', 'min']\n",
    "        }\n",
    "    ) \\\n",
    "    .reset_index()"
   ]
  },
  {
   "cell_type": "code",
   "execution_count": 26,
   "metadata": {},
   "outputs": [
    {
     "name": "stderr",
     "output_type": "stream",
     "text": [
      "/home/seba/Documentos/pyspark-nasdaq-exp/.env/lib/python3.10/site-packages/pyspark/sql/pandas/conversion.py:248: FutureWarning: Passing unit-less datetime64 dtype to .astype is deprecated and will raise in a future version. Pass 'datetime64[ns]' instead\n",
      "  series = series.astype(t, copy=False)\n",
      "/home/seba/Documentos/pyspark-nasdaq-exp/.env/lib/python3.10/site-packages/pyspark/sql/pandas/conversion.py:248: FutureWarning: Passing unit-less datetime64 dtype to .astype is deprecated and will raise in a future version. Pass 'datetime64[ns]' instead\n",
      "  series = series.astype(t, copy=False)\n"
     ]
    },
    {
     "data": {
      "text/html": [
       "<div>\n",
       "<style scoped>\n",
       "    .dataframe tbody tr th:only-of-type {\n",
       "        vertical-align: middle;\n",
       "    }\n",
       "\n",
       "    .dataframe tbody tr th {\n",
       "        vertical-align: top;\n",
       "    }\n",
       "\n",
       "    .dataframe thead tr th {\n",
       "        text-align: left;\n",
       "    }\n",
       "</style>\n",
       "<table border=\"1\" class=\"dataframe\">\n",
       "  <thead>\n",
       "    <tr>\n",
       "      <th></th>\n",
       "      <th>symbol</th>\n",
       "      <th colspan=\"3\" halign=\"left\">returns</th>\n",
       "      <th colspan=\"2\" halign=\"left\">date</th>\n",
       "    </tr>\n",
       "    <tr>\n",
       "      <th></th>\n",
       "      <th></th>\n",
       "      <th>mean</th>\n",
       "      <th>std</th>\n",
       "      <th>count</th>\n",
       "      <th>max</th>\n",
       "      <th>min</th>\n",
       "    </tr>\n",
       "  </thead>\n",
       "  <tbody>\n",
       "    <tr>\n",
       "      <th>0</th>\n",
       "      <td>BAND</td>\n",
       "      <td>0.002173</td>\n",
       "      <td>0.029852</td>\n",
       "      <td>959</td>\n",
       "      <td>2021-10-05</td>\n",
       "      <td>2017-11-09</td>\n",
       "    </tr>\n",
       "    <tr>\n",
       "      <th>1</th>\n",
       "      <td>BMBL</td>\n",
       "      <td>-0.000085</td>\n",
       "      <td>0.041950</td>\n",
       "      <td>143</td>\n",
       "      <td>2021-10-05</td>\n",
       "      <td>2021-02-11</td>\n",
       "    </tr>\n",
       "    <tr>\n",
       "      <th>2</th>\n",
       "      <td>BPTS</td>\n",
       "      <td>-0.002923</td>\n",
       "      <td>0.052964</td>\n",
       "      <td>142</td>\n",
       "      <td>2021-10-05</td>\n",
       "      <td>2021-02-10</td>\n",
       "    </tr>\n",
       "    <tr>\n",
       "      <th>3</th>\n",
       "      <td>BROG</td>\n",
       "      <td>0.000341</td>\n",
       "      <td>0.027809</td>\n",
       "      <td>791</td>\n",
       "      <td>2021-10-05</td>\n",
       "      <td>2018-07-13</td>\n",
       "    </tr>\n",
       "    <tr>\n",
       "      <th>4</th>\n",
       "      <td>CBIO</td>\n",
       "      <td>-0.000535</td>\n",
       "      <td>0.064393</td>\n",
       "      <td>2685</td>\n",
       "      <td>2021-10-05</td>\n",
       "      <td>2011-01-03</td>\n",
       "    </tr>\n",
       "  </tbody>\n",
       "</table>\n",
       "</div>"
      ],
      "text/plain": [
       "  symbol   returns                       date           \n",
       "              mean       std count        max        min\n",
       "0   BAND  0.002173  0.029852   959 2021-10-05 2017-11-09\n",
       "1   BMBL -0.000085  0.041950   143 2021-10-05 2021-02-11\n",
       "2   BPTS -0.002923  0.052964   142 2021-10-05 2021-02-10\n",
       "3   BROG  0.000341  0.027809   791 2021-10-05 2018-07-13\n",
       "4   CBIO -0.000535  0.064393  2685 2021-10-05 2011-01-03"
      ]
     },
     "execution_count": 26,
     "metadata": {},
     "output_type": "execute_result"
    }
   ],
   "source": [
    "nasdaq_agg_df.head()"
   ]
  },
  {
   "cell_type": "code",
   "execution_count": 27,
   "metadata": {},
   "outputs": [],
   "source": [
    "nasdaq_agg_df.columns = [\"_\".join(a) for a in nasdaq_agg_df.columns.to_flat_index()]"
   ]
  },
  {
   "cell_type": "code",
   "execution_count": 28,
   "metadata": {},
   "outputs": [
    {
     "name": "stderr",
     "output_type": "stream",
     "text": [
      "/home/seba/Documentos/pyspark-nasdaq-exp/.env/lib/python3.10/site-packages/pyspark/sql/pandas/conversion.py:248: FutureWarning: Passing unit-less datetime64 dtype to .astype is deprecated and will raise in a future version. Pass 'datetime64[ns]' instead\n",
      "  series = series.astype(t, copy=False)\n",
      "/home/seba/Documentos/pyspark-nasdaq-exp/.env/lib/python3.10/site-packages/pyspark/sql/pandas/conversion.py:248: FutureWarning: Passing unit-less datetime64 dtype to .astype is deprecated and will raise in a future version. Pass 'datetime64[ns]' instead\n",
      "  series = series.astype(t, copy=False)\n"
     ]
    },
    {
     "data": {
      "text/html": [
       "<div>\n",
       "<style scoped>\n",
       "    .dataframe tbody tr th:only-of-type {\n",
       "        vertical-align: middle;\n",
       "    }\n",
       "\n",
       "    .dataframe tbody tr th {\n",
       "        vertical-align: top;\n",
       "    }\n",
       "\n",
       "    .dataframe thead th {\n",
       "        text-align: right;\n",
       "    }\n",
       "</style>\n",
       "<table border=\"1\" class=\"dataframe\">\n",
       "  <thead>\n",
       "    <tr style=\"text-align: right;\">\n",
       "      <th></th>\n",
       "      <th>symbol_</th>\n",
       "      <th>returns_mean</th>\n",
       "      <th>returns_std</th>\n",
       "      <th>returns_count</th>\n",
       "      <th>date_max</th>\n",
       "      <th>date_min</th>\n",
       "    </tr>\n",
       "  </thead>\n",
       "  <tbody>\n",
       "    <tr>\n",
       "      <th>0</th>\n",
       "      <td>BAND</td>\n",
       "      <td>0.002173</td>\n",
       "      <td>0.029852</td>\n",
       "      <td>959</td>\n",
       "      <td>2021-10-05</td>\n",
       "      <td>2017-11-09</td>\n",
       "    </tr>\n",
       "    <tr>\n",
       "      <th>1</th>\n",
       "      <td>BMBL</td>\n",
       "      <td>-0.000085</td>\n",
       "      <td>0.041950</td>\n",
       "      <td>143</td>\n",
       "      <td>2021-10-05</td>\n",
       "      <td>2021-02-11</td>\n",
       "    </tr>\n",
       "    <tr>\n",
       "      <th>2</th>\n",
       "      <td>BPTS</td>\n",
       "      <td>-0.002923</td>\n",
       "      <td>0.052964</td>\n",
       "      <td>142</td>\n",
       "      <td>2021-10-05</td>\n",
       "      <td>2021-02-10</td>\n",
       "    </tr>\n",
       "    <tr>\n",
       "      <th>3</th>\n",
       "      <td>BROG</td>\n",
       "      <td>0.000341</td>\n",
       "      <td>0.027809</td>\n",
       "      <td>791</td>\n",
       "      <td>2021-10-05</td>\n",
       "      <td>2018-07-13</td>\n",
       "    </tr>\n",
       "    <tr>\n",
       "      <th>4</th>\n",
       "      <td>CBIO</td>\n",
       "      <td>-0.000535</td>\n",
       "      <td>0.064393</td>\n",
       "      <td>2685</td>\n",
       "      <td>2021-10-05</td>\n",
       "      <td>2011-01-03</td>\n",
       "    </tr>\n",
       "  </tbody>\n",
       "</table>\n",
       "</div>"
      ],
      "text/plain": [
       "  symbol_  returns_mean  returns_std  returns_count   date_max   date_min\n",
       "0    BAND      0.002173     0.029852            959 2021-10-05 2017-11-09\n",
       "1    BMBL     -0.000085     0.041950            143 2021-10-05 2021-02-11\n",
       "2    BPTS     -0.002923     0.052964            142 2021-10-05 2021-02-10\n",
       "3    BROG      0.000341     0.027809            791 2021-10-05 2018-07-13\n",
       "4    CBIO     -0.000535     0.064393           2685 2021-10-05 2011-01-03"
      ]
     },
     "execution_count": 28,
     "metadata": {},
     "output_type": "execute_result"
    }
   ],
   "source": [
    "nasdaq_agg_df.head()"
   ]
  },
  {
   "cell_type": "code",
   "execution_count": 29,
   "metadata": {},
   "outputs": [],
   "source": [
    "nasdaq_agg_df = nasdaq_agg_df.spark.local_checkpoint()"
   ]
  },
  {
   "cell_type": "code",
   "execution_count": 30,
   "metadata": {},
   "outputs": [
    {
     "name": "stderr",
     "output_type": "stream",
     "text": [
      "/home/seba/Documentos/pyspark-nasdaq-exp/.env/lib/python3.10/site-packages/pyspark/pandas/utils.py:975: PandasAPIOnSparkAdviceWarning: If `index_col` is not specified for `read_csv`, the default index is attached which can cause additional overhead.\n",
      "  warnings.warn(message, PandasAPIOnSparkAdviceWarning)\n"
     ]
    },
    {
     "data": {
      "text/html": [
       "<div>\n",
       "<style scoped>\n",
       "    .dataframe tbody tr th:only-of-type {\n",
       "        vertical-align: middle;\n",
       "    }\n",
       "\n",
       "    .dataframe tbody tr th {\n",
       "        vertical-align: top;\n",
       "    }\n",
       "\n",
       "    .dataframe thead th {\n",
       "        text-align: right;\n",
       "    }\n",
       "</style>\n",
       "<table border=\"1\" class=\"dataframe\">\n",
       "  <thead>\n",
       "    <tr style=\"text-align: right;\">\n",
       "      <th></th>\n",
       "      <th>symbol</th>\n",
       "      <th>company</th>\n",
       "      <th>last.sale.price</th>\n",
       "      <th>market.cap</th>\n",
       "      <th>country</th>\n",
       "      <th>ipo.year</th>\n",
       "      <th>industry</th>\n",
       "    </tr>\n",
       "  </thead>\n",
       "  <tbody>\n",
       "    <tr>\n",
       "      <th>0</th>\n",
       "      <td>AACG</td>\n",
       "      <td>ATA Creativity Global American Depositary Shares</td>\n",
       "      <td>2.2578</td>\n",
       "      <td>71574942</td>\n",
       "      <td>China</td>\n",
       "      <td>NA</td>\n",
       "      <td>Service to the Health Industry</td>\n",
       "    </tr>\n",
       "    <tr>\n",
       "      <th>1</th>\n",
       "      <td>AACIU</td>\n",
       "      <td>Armada Acquisition Corp. I Unit</td>\n",
       "      <td>9.9650</td>\n",
       "      <td>0</td>\n",
       "      <td>United States</td>\n",
       "      <td>2021</td>\n",
       "      <td>Business Services</td>\n",
       "    </tr>\n",
       "    <tr>\n",
       "      <th>2</th>\n",
       "      <td>AADI</td>\n",
       "      <td>Aadi Bioscience Inc. Common Stock</td>\n",
       "      <td>27.5900</td>\n",
       "      <td>575785118</td>\n",
       "      <td>United States</td>\n",
       "      <td>NA</td>\n",
       "      <td>Biotechnology: Pharmaceutical Preparations</td>\n",
       "    </tr>\n",
       "    <tr>\n",
       "      <th>3</th>\n",
       "      <td>AAL</td>\n",
       "      <td>American Airlines Group Inc. Common Stock</td>\n",
       "      <td>20.5676</td>\n",
       "      <td>13316653685</td>\n",
       "      <td>United States</td>\n",
       "      <td>NA</td>\n",
       "      <td>Air Freight/Delivery Services</td>\n",
       "    </tr>\n",
       "    <tr>\n",
       "      <th>4</th>\n",
       "      <td>AAME</td>\n",
       "      <td>Atlantic American Corporation Common Stock</td>\n",
       "      <td>4.4400</td>\n",
       "      <td>90623788</td>\n",
       "      <td>United States</td>\n",
       "      <td>NA</td>\n",
       "      <td>Life Insurance</td>\n",
       "    </tr>\n",
       "  </tbody>\n",
       "</table>\n",
       "</div>"
      ],
      "text/plain": [
       "  symbol                                           company  last.sale.price   market.cap        country ipo.year                                    industry\n",
       "0   AACG  ATA Creativity Global American Depositary Shares           2.2578     71574942          China       NA              Service to the Health Industry\n",
       "1  AACIU                   Armada Acquisition Corp. I Unit           9.9650            0  United States     2021                           Business Services\n",
       "2   AADI                 Aadi Bioscience Inc. Common Stock          27.5900    575785118  United States       NA  Biotechnology: Pharmaceutical Preparations\n",
       "3    AAL         American Airlines Group Inc. Common Stock          20.5676  13316653685  United States       NA               Air Freight/Delivery Services\n",
       "4   AAME        Atlantic American Corporation Common Stock           4.4400     90623788  United States       NA                              Life Insurance"
      ]
     },
     "execution_count": 30,
     "metadata": {},
     "output_type": "execute_result"
    }
   ],
   "source": [
    "# JOIN NASDAQ INDEX META DATA ----\n",
    "\n",
    "nasdaq_index_df = ps.read_csv('data/nasdaq_index.csv')\n",
    "\n",
    "nasdaq_index_df.head()"
   ]
  },
  {
   "cell_type": "code",
   "execution_count": 31,
   "metadata": {},
   "outputs": [
    {
     "name": "stderr",
     "output_type": "stream",
     "text": [
      "/home/seba/Documentos/pyspark-nasdaq-exp/.env/lib/python3.10/site-packages/pyspark/pandas/internal.py:1573: FutureWarning: iteritems is deprecated and will be removed in a future version. Use .items instead.\n",
      "  fields = [\n",
      "/home/seba/Documentos/pyspark-nasdaq-exp/.env/lib/python3.10/site-packages/pyspark/sql/pandas/conversion.py:486: FutureWarning: iteritems is deprecated and will be removed in a future version. Use .items instead.\n",
      "  for column, series in pdf.iteritems():\n"
     ]
    },
    {
     "name": "stdout",
     "output_type": "stream",
     "text": [
      "<class 'pyspark.pandas.frame.DataFrame'>\n",
      "Int64Index: 5 entries, 0 to 4\n",
      "Data columns (total 3 columns):\n",
      " #   Column      Non-Null Count  Dtype \n",
      "---  ------      --------------  ----- \n",
      " 0   symbol      5 non-null      object\n",
      " 1   company     5 non-null      object\n",
      " 2   market.cap  5 non-null      object\n",
      "dtypes: object(3)"
     ]
    }
   ],
   "source": [
    "nasdaq_index_df = nasdaq_index_df[['symbol', 'company', 'market.cap']]\n",
    "\n",
    "nasdaq_index_df.head().info()"
   ]
  },
  {
   "cell_type": "code",
   "execution_count": 32,
   "metadata": {},
   "outputs": [
    {
     "name": "stderr",
     "output_type": "stream",
     "text": [
      "/home/seba/Documentos/pyspark-nasdaq-exp/.env/lib/python3.10/site-packages/pyspark/pandas/internal.py:1573: FutureWarning: iteritems is deprecated and will be removed in a future version. Use .items instead.\n",
      "  fields = [\n",
      "/home/seba/Documentos/pyspark-nasdaq-exp/.env/lib/python3.10/site-packages/pyspark/sql/pandas/conversion.py:486: FutureWarning: iteritems is deprecated and will be removed in a future version. Use .items instead.\n",
      "  for column, series in pdf.iteritems():\n"
     ]
    },
    {
     "name": "stdout",
     "output_type": "stream",
     "text": [
      "<class 'pyspark.pandas.frame.DataFrame'>\n",
      "Int64Index: 5 entries, 0 to 4\n",
      "Data columns (total 3 columns):\n",
      " #   Column      Non-Null Count  Dtype  \n",
      "---  ------      --------------  -----  \n",
      " 0   symbol      5 non-null      <U0    \n",
      " 1   company     5 non-null      <U0    \n",
      " 2   market.cap  5 non-null      float64\n",
      "dtypes: float64(1), str(2)"
     ]
    }
   ],
   "source": [
    "nasdaq_index_df['market.cap'] = nasdaq_index_df['market.cap'].astype('float64')\n",
    "\n",
    "nasdaq_index_df['symbol'] = nasdaq_index_df['symbol'].astype('str')\n",
    "\n",
    "nasdaq_index_df['company'] = nasdaq_index_df['company'].astype('str')\n",
    "\n",
    "nasdaq_index_df.head().info()"
   ]
  },
  {
   "cell_type": "code",
   "execution_count": 33,
   "metadata": {},
   "outputs": [
    {
     "name": "stderr",
     "output_type": "stream",
     "text": [
      "/home/seba/Documentos/pyspark-nasdaq-exp/.env/lib/python3.10/site-packages/pyspark/sql/pandas/conversion.py:248: FutureWarning: Passing unit-less datetime64 dtype to .astype is deprecated and will raise in a future version. Pass 'datetime64[ns]' instead\n",
      "  series = series.astype(t, copy=False)\n",
      "/home/seba/Documentos/pyspark-nasdaq-exp/.env/lib/python3.10/site-packages/pyspark/sql/pandas/conversion.py:248: FutureWarning: Passing unit-less datetime64 dtype to .astype is deprecated and will raise in a future version. Pass 'datetime64[ns]' instead\n",
      "  series = series.astype(t, copy=False)\n"
     ]
    },
    {
     "data": {
      "text/html": [
       "<div>\n",
       "<style scoped>\n",
       "    .dataframe tbody tr th:only-of-type {\n",
       "        vertical-align: middle;\n",
       "    }\n",
       "\n",
       "    .dataframe tbody tr th {\n",
       "        vertical-align: top;\n",
       "    }\n",
       "\n",
       "    .dataframe thead th {\n",
       "        text-align: right;\n",
       "    }\n",
       "</style>\n",
       "<table border=\"1\" class=\"dataframe\">\n",
       "  <thead>\n",
       "    <tr style=\"text-align: right;\">\n",
       "      <th></th>\n",
       "      <th>symbol</th>\n",
       "      <th>returns_mean</th>\n",
       "      <th>returns_std</th>\n",
       "      <th>returns_count</th>\n",
       "      <th>date_max</th>\n",
       "      <th>date_min</th>\n",
       "      <th>company</th>\n",
       "      <th>market.cap</th>\n",
       "    </tr>\n",
       "  </thead>\n",
       "  <tbody>\n",
       "    <tr>\n",
       "      <th>0</th>\n",
       "      <td>BAND</td>\n",
       "      <td>0.002173</td>\n",
       "      <td>0.029852</td>\n",
       "      <td>959</td>\n",
       "      <td>2021-10-05</td>\n",
       "      <td>2017-11-09</td>\n",
       "      <td>Bandwidth Inc. Class A Common Stock</td>\n",
       "      <td>2.055042e+09</td>\n",
       "    </tr>\n",
       "    <tr>\n",
       "      <th>1</th>\n",
       "      <td>BMBL</td>\n",
       "      <td>-0.000085</td>\n",
       "      <td>0.041950</td>\n",
       "      <td>143</td>\n",
       "      <td>2021-10-05</td>\n",
       "      <td>2021-02-11</td>\n",
       "      <td>Bumble Inc. Class A Common Stock</td>\n",
       "      <td>6.354404e+09</td>\n",
       "    </tr>\n",
       "    <tr>\n",
       "      <th>2</th>\n",
       "      <td>BPTS</td>\n",
       "      <td>-0.002923</td>\n",
       "      <td>0.052964</td>\n",
       "      <td>142</td>\n",
       "      <td>2021-10-05</td>\n",
       "      <td>2021-02-10</td>\n",
       "      <td>Biophytis SA American Depositary Share</td>\n",
       "      <td>1.052078e+08</td>\n",
       "    </tr>\n",
       "    <tr>\n",
       "      <th>3</th>\n",
       "      <td>BROG</td>\n",
       "      <td>0.000341</td>\n",
       "      <td>0.027809</td>\n",
       "      <td>791</td>\n",
       "      <td>2021-10-05</td>\n",
       "      <td>2018-07-13</td>\n",
       "      <td>Brooge Energy Limited Ordinary Shares</td>\n",
       "      <td>9.135463e+08</td>\n",
       "    </tr>\n",
       "    <tr>\n",
       "      <th>4</th>\n",
       "      <td>CBIO</td>\n",
       "      <td>-0.000535</td>\n",
       "      <td>0.064393</td>\n",
       "      <td>2685</td>\n",
       "      <td>2021-10-05</td>\n",
       "      <td>2011-01-03</td>\n",
       "      <td>Catalyst Biosciences Inc. Common Stock</td>\n",
       "      <td>1.145094e+08</td>\n",
       "    </tr>\n",
       "  </tbody>\n",
       "</table>\n",
       "</div>"
      ],
      "text/plain": [
       "  symbol  returns_mean  returns_std  returns_count   date_max   date_min                                 company    market.cap\n",
       "0   BAND      0.002173     0.029852            959 2021-10-05 2017-11-09     Bandwidth Inc. Class A Common Stock  2.055042e+09\n",
       "1   BMBL     -0.000085     0.041950            143 2021-10-05 2021-02-11        Bumble Inc. Class A Common Stock  6.354404e+09\n",
       "2   BPTS     -0.002923     0.052964            142 2021-10-05 2021-02-10  Biophytis SA American Depositary Share  1.052078e+08\n",
       "3   BROG      0.000341     0.027809            791 2021-10-05 2018-07-13   Brooge Energy Limited Ordinary Shares  9.135463e+08\n",
       "4   CBIO     -0.000535     0.064393           2685 2021-10-05 2011-01-03  Catalyst Biosciences Inc. Common Stock  1.145094e+08"
      ]
     },
     "execution_count": 33,
     "metadata": {},
     "output_type": "execute_result"
    }
   ],
   "source": [
    "nasdaq_agg_join_df = nasdaq_agg_df \\\n",
    "    .rename({'symbol_':'symbol'}, axis = 1) \\\n",
    "    .set_index('symbol') \\\n",
    "    .join(nasdaq_index_df.set_index('symbol'), how = \"left\", lsuffix = \"_l\", rsuffix = \"_r\") \\\n",
    "    .reset_index()\n",
    "\n",
    "nasdaq_agg_join_df.head()"
   ]
  },
  {
   "cell_type": "code",
   "execution_count": 34,
   "metadata": {},
   "outputs": [
    {
     "data": {
      "text/plain": [
       "pyspark.pandas.frame.DataFrame"
      ]
     },
     "execution_count": 34,
     "metadata": {},
     "output_type": "execute_result"
    }
   ],
   "source": [
    "type(nasdaq_agg_join_df)"
   ]
  },
  {
   "cell_type": "code",
   "execution_count": 35,
   "metadata": {},
   "outputs": [
    {
     "name": "stderr",
     "output_type": "stream",
     "text": [
      "/home/seba/Documentos/pyspark-nasdaq-exp/.env/lib/python3.10/site-packages/pyspark/pandas/utils.py:975: PandasAPIOnSparkAdviceWarning: `to_pandas` loads all data into the driver's memory. It should only be used if the resulting pandas DataFrame is expected to be small.\n",
      "  warnings.warn(message, PandasAPIOnSparkAdviceWarning)\n",
      "/home/seba/Documentos/pyspark-nasdaq-exp/.env/lib/python3.10/site-packages/pyspark/sql/pandas/conversion.py:248: FutureWarning: Passing unit-less datetime64 dtype to .astype is deprecated and will raise in a future version. Pass 'datetime64[ns]' instead\n",
      "  series = series.astype(t, copy=False)\n",
      "/home/seba/Documentos/pyspark-nasdaq-exp/.env/lib/python3.10/site-packages/pyspark/sql/pandas/conversion.py:248: FutureWarning: Passing unit-less datetime64 dtype to .astype is deprecated and will raise in a future version. Pass 'datetime64[ns]' instead\n",
      "  series = series.astype(t, copy=False)\n"
     ]
    }
   ],
   "source": [
    "nasdaq_screened_df = nasdaq_agg_join_df \\\n",
    "    .rename({\"market.cap\":\"market_cap\"}, axis=1) \\\n",
    "    .query(\"returns_std < 0.10\") \\\n",
    "    .query(\"returns_count > 3*365\") \\\n",
    "    .query(\"market_cap > 1e9\") \\\n",
    "    .assign(reward_metric = lambda x: x['returns_mean'] / x['returns_std'] * 2500) \\\n",
    "    .to_pandas() "
   ]
  },
  {
   "cell_type": "code",
   "execution_count": 36,
   "metadata": {},
   "outputs": [
    {
     "data": {
      "text/html": [
       "<div>\n",
       "<style scoped>\n",
       "    .dataframe tbody tr th:only-of-type {\n",
       "        vertical-align: middle;\n",
       "    }\n",
       "\n",
       "    .dataframe tbody tr th {\n",
       "        vertical-align: top;\n",
       "    }\n",
       "\n",
       "    .dataframe thead th {\n",
       "        text-align: right;\n",
       "    }\n",
       "</style>\n",
       "<table border=\"1\" class=\"dataframe\">\n",
       "  <thead>\n",
       "    <tr style=\"text-align: right;\">\n",
       "      <th></th>\n",
       "      <th>symbol</th>\n",
       "      <th>returns_mean</th>\n",
       "      <th>returns_std</th>\n",
       "      <th>returns_count</th>\n",
       "      <th>date_max</th>\n",
       "      <th>date_min</th>\n",
       "      <th>company</th>\n",
       "      <th>market_cap</th>\n",
       "      <th>reward_metric</th>\n",
       "    </tr>\n",
       "  </thead>\n",
       "  <tbody>\n",
       "    <tr>\n",
       "      <th>18</th>\n",
       "      <td>ABMD</td>\n",
       "      <td>0.001734</td>\n",
       "      <td>0.029123</td>\n",
       "      <td>2707</td>\n",
       "      <td>2021-10-05</td>\n",
       "      <td>2011-01-03</td>\n",
       "      <td>ABIOMED Inc. Common Stock</td>\n",
       "      <td>1.518377e+10</td>\n",
       "      <td>148.830258</td>\n",
       "    </tr>\n",
       "    <tr>\n",
       "      <th>29</th>\n",
       "      <td>IOSP</td>\n",
       "      <td>0.000851</td>\n",
       "      <td>0.021225</td>\n",
       "      <td>2685</td>\n",
       "      <td>2021-10-05</td>\n",
       "      <td>2011-01-03</td>\n",
       "      <td>Innospec Inc. Common Stock</td>\n",
       "      <td>2.074109e+09</td>\n",
       "      <td>100.193368</td>\n",
       "    </tr>\n",
       "    <tr>\n",
       "      <th>34</th>\n",
       "      <td>OPRX</td>\n",
       "      <td>0.002726</td>\n",
       "      <td>0.055620</td>\n",
       "      <td>2707</td>\n",
       "      <td>2021-10-05</td>\n",
       "      <td>2011-01-03</td>\n",
       "      <td>OptimizeRx Corporation Common Stock</td>\n",
       "      <td>1.437326e+09</td>\n",
       "      <td>122.536623</td>\n",
       "    </tr>\n",
       "    <tr>\n",
       "      <th>37</th>\n",
       "      <td>RGLD</td>\n",
       "      <td>0.000617</td>\n",
       "      <td>0.024319</td>\n",
       "      <td>2685</td>\n",
       "      <td>2021-10-05</td>\n",
       "      <td>2011-01-03</td>\n",
       "      <td>Royal Gold Inc. Common Stock</td>\n",
       "      <td>6.167069e+09</td>\n",
       "      <td>63.442816</td>\n",
       "    </tr>\n",
       "    <tr>\n",
       "      <th>38</th>\n",
       "      <td>SABR</td>\n",
       "      <td>0.000432</td>\n",
       "      <td>0.033235</td>\n",
       "      <td>1860</td>\n",
       "      <td>2021-10-05</td>\n",
       "      <td>2014-04-17</td>\n",
       "      <td>Sabre Corporation Common Stock</td>\n",
       "      <td>3.755731e+09</td>\n",
       "      <td>32.475457</td>\n",
       "    </tr>\n",
       "    <tr>\n",
       "      <th>...</th>\n",
       "      <td>...</td>\n",
       "      <td>...</td>\n",
       "      <td>...</td>\n",
       "      <td>...</td>\n",
       "      <td>...</td>\n",
       "      <td>...</td>\n",
       "      <td>...</td>\n",
       "      <td>...</td>\n",
       "      <td>...</td>\n",
       "    </tr>\n",
       "    <tr>\n",
       "      <th>3925</th>\n",
       "      <td>PRGS</td>\n",
       "      <td>0.000410</td>\n",
       "      <td>0.019933</td>\n",
       "      <td>2685</td>\n",
       "      <td>2021-10-05</td>\n",
       "      <td>2011-01-03</td>\n",
       "      <td>Progress Software Corporation Common Stock (DE)</td>\n",
       "      <td>2.147921e+09</td>\n",
       "      <td>51.386023</td>\n",
       "    </tr>\n",
       "    <tr>\n",
       "      <th>3927</th>\n",
       "      <td>SAIA</td>\n",
       "      <td>0.001486</td>\n",
       "      <td>0.025431</td>\n",
       "      <td>2687</td>\n",
       "      <td>2021-10-05</td>\n",
       "      <td>2011-01-03</td>\n",
       "      <td>Saia Inc. Common Stock</td>\n",
       "      <td>6.476327e+09</td>\n",
       "      <td>146.092258</td>\n",
       "    </tr>\n",
       "    <tr>\n",
       "      <th>3931</th>\n",
       "      <td>ZBRA</td>\n",
       "      <td>0.001272</td>\n",
       "      <td>0.022351</td>\n",
       "      <td>2685</td>\n",
       "      <td>2021-10-05</td>\n",
       "      <td>2011-01-03</td>\n",
       "      <td>Zebra Technologies Corporation Class A Common ...</td>\n",
       "      <td>2.700615e+10</td>\n",
       "      <td>142.307717</td>\n",
       "    </tr>\n",
       "    <tr>\n",
       "      <th>3948</th>\n",
       "      <td>SBNY</td>\n",
       "      <td>0.000868</td>\n",
       "      <td>0.021434</td>\n",
       "      <td>2685</td>\n",
       "      <td>2021-10-05</td>\n",
       "      <td>2011-01-03</td>\n",
       "      <td>Signature Bank Common Stock</td>\n",
       "      <td>1.739683e+10</td>\n",
       "      <td>101.210999</td>\n",
       "    </tr>\n",
       "    <tr>\n",
       "      <th>3963</th>\n",
       "      <td>MELI</td>\n",
       "      <td>0.001641</td>\n",
       "      <td>0.028381</td>\n",
       "      <td>2687</td>\n",
       "      <td>2021-10-05</td>\n",
       "      <td>2011-01-03</td>\n",
       "      <td>MercadoLibre Inc. Common Stock</td>\n",
       "      <td>7.705306e+10</td>\n",
       "      <td>144.548755</td>\n",
       "    </tr>\n",
       "  </tbody>\n",
       "</table>\n",
       "<p>823 rows × 9 columns</p>\n",
       "</div>"
      ],
      "text/plain": [
       "     symbol  returns_mean  returns_std  returns_count   date_max   date_min  \\\n",
       "18     ABMD      0.001734     0.029123           2707 2021-10-05 2011-01-03   \n",
       "29     IOSP      0.000851     0.021225           2685 2021-10-05 2011-01-03   \n",
       "34     OPRX      0.002726     0.055620           2707 2021-10-05 2011-01-03   \n",
       "37     RGLD      0.000617     0.024319           2685 2021-10-05 2011-01-03   \n",
       "38     SABR      0.000432     0.033235           1860 2021-10-05 2014-04-17   \n",
       "...     ...           ...          ...            ...        ...        ...   \n",
       "3925   PRGS      0.000410     0.019933           2685 2021-10-05 2011-01-03   \n",
       "3927   SAIA      0.001486     0.025431           2687 2021-10-05 2011-01-03   \n",
       "3931   ZBRA      0.001272     0.022351           2685 2021-10-05 2011-01-03   \n",
       "3948   SBNY      0.000868     0.021434           2685 2021-10-05 2011-01-03   \n",
       "3963   MELI      0.001641     0.028381           2687 2021-10-05 2011-01-03   \n",
       "\n",
       "                                                company    market_cap  \\\n",
       "18                            ABIOMED Inc. Common Stock  1.518377e+10   \n",
       "29                           Innospec Inc. Common Stock  2.074109e+09   \n",
       "34                  OptimizeRx Corporation Common Stock  1.437326e+09   \n",
       "37                         Royal Gold Inc. Common Stock  6.167069e+09   \n",
       "38                       Sabre Corporation Common Stock  3.755731e+09   \n",
       "...                                                 ...           ...   \n",
       "3925    Progress Software Corporation Common Stock (DE)  2.147921e+09   \n",
       "3927                             Saia Inc. Common Stock  6.476327e+09   \n",
       "3931  Zebra Technologies Corporation Class A Common ...  2.700615e+10   \n",
       "3948                        Signature Bank Common Stock  1.739683e+10   \n",
       "3963                     MercadoLibre Inc. Common Stock  7.705306e+10   \n",
       "\n",
       "      reward_metric  \n",
       "18       148.830258  \n",
       "29       100.193368  \n",
       "34       122.536623  \n",
       "37        63.442816  \n",
       "38        32.475457  \n",
       "...             ...  \n",
       "3925      51.386023  \n",
       "3927     146.092258  \n",
       "3931     142.307717  \n",
       "3948     101.210999  \n",
       "3963     144.548755  \n",
       "\n",
       "[823 rows x 9 columns]"
      ]
     },
     "execution_count": 36,
     "metadata": {},
     "output_type": "execute_result"
    }
   ],
   "source": [
    "nasdaq_screened_df"
   ]
  },
  {
   "cell_type": "code",
   "execution_count": 37,
   "metadata": {},
   "outputs": [
    {
     "data": {
      "text/plain": [
       "pandas.core.frame.DataFrame"
      ]
     },
     "execution_count": 37,
     "metadata": {},
     "output_type": "execute_result"
    }
   ],
   "source": [
    "type(nasdaq_screened_df)"
   ]
  },
  {
   "cell_type": "code",
   "execution_count": 39,
   "metadata": {},
   "outputs": [
    {
     "data": {
      "application/vnd.plotly.v1+json": {
       "config": {
        "plotlyServerURL": "https://plot.ly"
       },
       "data": [
        {
         "customdata": [
          [
           "ABIOMED Inc. Common Stock",
           "ABMD",
           15183772159
          ],
          [
           "Innospec Inc. Common Stock",
           "IOSP",
           2074109060
          ],
          [
           "OptimizeRx Corporation Common Stock",
           "OPRX",
           1437325959
          ],
          [
           "Royal Gold Inc. Common Stock",
           "RGLD",
           6167068528
          ],
          [
           "Sabre Corporation Common Stock",
           "SABR",
           3755731158
          ],
          [
           "Liberty Broadband Corporation Class C Common Stock",
           "LBRDK",
           31907848366
          ],
          [
           "Raven Industries Inc. Common Stock",
           "RAVN",
           2075321066
          ],
          [
           "Rambus Inc. Common Stock",
           "RMBS",
           2409897138
          ],
          [
           "Westamerica Bancorporation Common Stock",
           "WABC",
           1496424113
          ],
          [
           "Bruker Corporation Common Stock",
           "BRKR",
           11557560447
          ],
          [
           "CDW Corporation Common Stock",
           "CDW",
           24094705111
          ],
          [
           "Churchill Downs Incorporated Common Stock",
           "CHDN",
           9450893777
          ],
          [
           "Novanta Inc. Common Stock",
           "NOVT",
           5360261883
          ],
          [
           "Pinnacle Financial Partners Inc. Common Stock",
           "PNFP",
           7186113394
          ],
          [
           "Werner Enterprises Inc. Common Stock",
           "WERN",
           3018892436
          ],
          [
           "Central Garden & Pet Company Common Stock",
           "CENT",
           2647473274
          ],
          [
           "Cornerstone OnDemand Inc. Common Stock",
           "CSOD",
           3835629691
          ],
          [
           "Icahn Enterprises L.P. Common Stock",
           "IEP",
           13969895418
          ],
          [
           "MacroGenics Inc. Common Stock",
           "MGNX",
           1237117046
          ],
          [
           "Nektar Therapeutics  Common Stock",
           "NKTR",
           3018019661
          ],
          [
           "Principal Financial Group Inc Common Stock",
           "PFG",
           17888467565
          ],
          [
           "First Busey Corporation Class A Common Stock",
           "BUSE",
           1429201485
          ],
          [
           "Electronic Arts Inc. Common Stock",
           "EA",
           38282798423
          ],
          [
           "Genmab A/S ADS",
           "GMAB",
           28199203981
          ],
          [
           "Lamar Advertising Company Class A Common Stock",
           "LAMR",
           11719476730
          ],
          [
           "Sage Therapeutics Inc. Common Stock",
           "SAGE",
           2664733252
          ],
          [
           "Avis Budget Group Inc. Common Stock",
           "CAR",
           8516113117
          ],
          [
           "First Hawaiian Inc. Common Stock",
           "FHB",
           3786485505
          ],
          [
           "ICF International Inc. Common Stock",
           "ICFI",
           1741575825
          ],
          [
           "ICU Medical Inc. Common Stock",
           "ICUI",
           4941203205
          ],
          [
           "Match Group Inc. Common Stock",
           "MTCH",
           42908430792
          ],
          [
           "Prospect Capital Corporation Common Stock",
           "PSEC",
           3083819833
          ],
          [
           "Credit Acceptance Corporation Common Stock",
           "CACC",
           9628597709
          ],
          [
           "Canadian Solar Inc. Common Shares (BC)",
           "CSIQ",
           1921640509
          ],
          [
           "QAD Inc. Class B Common Stock",
           "QADB",
           1832472013
          ],
          [
           "Stagwell Inc. Class A Common Stock",
           "STGW",
           2017807715
          ],
          [
           "TPI Composites Inc. Common Stock",
           "TPIC",
           1183373408
          ],
          [
           "Ulta Beauty Inc. Common Stock",
           "ULTA",
           20159590502
          ],
          [
           "Anavex Life Sciences Corp. Common Stock",
           "AVXL",
           1287025494
          ],
          [
           "Hasbro Inc. Common Stock",
           "HAS",
           12030747094
          ],
          [
           "Interactive Brokers Group Inc. Class A Common Stock",
           "IBKR",
           6756181055
          ],
          [
           "Okta Inc. Class A Common Stock",
           "OKTA",
           35973744311
          ],
          [
           "Impinj Inc. Common Stock",
           "PI",
           1315811889
          ],
          [
           "T. Rowe Price Group Inc. Common Stock",
           "TROW",
           43973560400
          ],
          [
           "Zillow Group Inc. Class A Common Stock",
           "ZG",
           22563962945
          ],
          [
           "Iridium Communications Inc Common Stock",
           "IRDM",
           4931714675
          ],
          [
           "Agios Pharmaceuticals Inc. Common Stock",
           "AGIO",
           2553777637
          ],
          [
           "Mattel Inc. Common Stock",
           "MAT",
           6520510149
          ],
          [
           "Hancock Whitney Corporation Common Stock",
           "HWC",
           4135829001
          ],
          [
           "Schnitzer Steel Industries Inc. Class A Common Stock",
           "SCHN",
           1233365096
          ],
          [
           "Vicor Corporation Common Stock",
           "VICR",
           6098895682
          ],
          [
           "SolarEdge Technologies Inc. Common Stock",
           "SEDG",
           13637315008
          ],
          [
           "Alkermes plc Ordinary Shares",
           "ALKS",
           5003003429
          ],
          [
           "First Foundation Inc. Common Stock",
           "FFWM",
           1184585807
          ],
          [
           "IAC/InterActiveCorp Common Stock",
           "IAC",
           10436747703
          ],
          [
           "Independent Bank Group Inc Common Stock",
           "IBTX",
           3126688878
          ],
          [
           "Mercury Systems Inc Common Stock",
           "MRCY",
           2724866265
          ],
          [
           "Middlesex Water Company Common Stock",
           "MSEX",
           1849277015
          ],
          [
           "Tecnoglass Inc. Ordinary Shares",
           "TGLS",
           1123694400
          ],
          [
           "Arcturus Therapeutics Holdings Inc. Common Stock",
           "ARCT",
           1137461362
          ],
          [
           "NICE Ltd American Depositary Shares",
           "NICE",
           16799771522
          ],
          [
           "Grupo Aeroportuario del Centro Norte S.A.B. de C.V. ADS",
           "OMAB",
           2620020669
          ],
          [
           "Acadia Healthcare Company Inc. Common Stock",
           "ACHC",
           5396295909
          ],
          [
           "Rent-A-Center Inc. Common Stock",
           "RCII",
           3646419909
          ],
          [
           "Apple Inc. Common Stock",
           "AAPL",
           2441097472000
          ],
          [
           "Andersons Inc. (The) Common Stock",
           "ANDE",
           1045078319
          ],
          [
           "Atlantica Sustainable Infrastructure plc Ordinary Shares",
           "AY",
           3840370519
          ],
          [
           "First Bancorp Common Stock",
           "FBNC",
           1239861908
          ],
          [
           "Premier Financial Corp. Common Stock",
           "PFC",
           1171142721
          ],
          [
           "Take-Two Interactive Software Inc. Common Stock",
           "TTWO",
           19273297131
          ],
          [
           "Cisco Systems Inc. Common Stock (DE)",
           "CSCO",
           225422239282
          ],
          [
           "Caesars Entertainment Inc. Common Stock",
           "CZR",
           24538003296
          ],
          [
           "Myriad Genetics Inc. Common Stock",
           "MYGN",
           2406446903
          ],
          [
           "Logitech International S.A. Ordinary Shares",
           "LOGI",
           14695455345
          ],
          [
           "Analog Devices Inc. Common Stock",
           "ADI",
           355916430088
          ],
          [
           "Kura Oncology Inc. Common Stock",
           "KURA",
           1229781673
          ],
          [
           "Microchip Technology Incorporated Common Stock",
           "MCHP",
           323959328549
          ],
          [
           "Nova Ltd. Ordinary Shares",
           "NVMI",
           2785025858
          ],
          [
           "ViaSat Inc. Common Stock",
           "VSAT",
           4063718829
          ],
          [
           "AGNC Investment Corp. Common Stock",
           "AGNC",
           8338169648
          ],
          [
           "eHealth Inc. Common Stock",
           "EHTH",
           1056986426
          ],
          [
           "FirstService Corporation Common Shares",
           "FSV",
           7909934825
          ],
          [
           "Zumiez Inc. Common Stock",
           "ZUMZ",
           1013636550
          ],
          [
           "Celldex Therapeutics Inc.",
           "CLDX",
           2512343614
          ],
          [
           "Marten Transport Ltd. Common Stock",
           "MRTN",
           1273051085
          ],
          [
           "The ODP Corporation Common Stock",
           "ODP",
           2230186077
          ],
          [
           "Liberty Media Corporation Series A Liberty Formula One Common Stock",
           "FWONA",
           11276298334
          ],
          [
           "SunPower Corporation Common Stock",
           "SPWR",
           4000735317
          ],
          [
           "TriCo Bancshares Common Stock",
           "TCBK",
           1308513573
          ],
          [
           "C.H. Robinson Worldwide Inc. Common Stock",
           "CHRW",
           11664392226
          ],
          [
           "Commvault Systems Inc. Common Stock",
           "CVLT",
           3454312643
          ],
          [
           "MakeMyTrip Limited Ordinary Shares",
           "MMYT",
           2948757221
          ],
          [
           "Neogen Corporation Common Stock",
           "NEOG",
           4486758446
          ],
          [
           "Silgan Holdings Inc. Common Stock",
           "SLGN",
           4362776585
          ],
          [
           "Ambarella Inc. Ordinary Shares",
           "AMBA",
           5466454963
          ],
          [
           "Hibbett Inc. Common Stock",
           "HIBB",
           1122250381
          ],
          [
           "Houghton Mifflin Harcourt Company Common Stock",
           "HMHC",
           1784787037
          ],
          [
           "New Mountain Finance Corporation Common Stock",
           "NMFC",
           1290801080
          ],
          [
           "Service Properties Trust Common Stock",
           "SVC",
           1838163957
          ],
          [
           "Woodward Inc. Common Stock",
           "WWD",
           7308023536
          ],
          [
           "F5 Networks Inc. Common Stock",
           "FFIV",
           11809742260
          ],
          [
           "National Beverage Corp. Common Stock",
           "FIZZ",
           5091558078
          ],
          [
           "Gilead Sciences Inc. Common Stock",
           "GILD",
           84381375312
          ],
          [
           "Hologic Inc. Common Stock",
           "HOLX",
           17845512186
          ],
          [
           "Inovalon Holdings Inc. Class A Common Stock",
           "INOV",
           6117619188
          ],
          [
           "Vonage Holdings Corp. Common Stock",
           "VG",
           3876042002
          ],
          [
           "Amgen Inc. Common Stock",
           "AMGN",
           119334171983
          ],
          [
           "JetBlue Airways Corporation Common Stock",
           "JBLU",
           4934113719
          ],
          [
           "Perficient Inc. Common Stock",
           "PRFT",
           3925080455
          ],
          [
           "QUALCOMM Incorporated Common Stock",
           "QCOM",
           143492880000
          ],
          [
           "Hain Celestial Group Inc. (The) Common Stock",
           "HAIN",
           4197592138
          ],
          [
           "LPL Financial Holdings Inc. Common Stock",
           "LPLA",
           12936783603
          ],
          [
           "MarketAxess Holdings Inc. Common Stock",
           "MKTX",
           15733294019
          ],
          [
           "NBT Bancorp Inc. Common Stock",
           "NBTB",
           1576997804
          ],
          [
           "Paylocity Holding Corporation Common Stock",
           "PCTY",
           15058529483
          ],
          [
           "Vericel Corporation Common Stock",
           "VCEL",
           2381453239
          ],
          [
           "ChemoCentryx Inc. Common Stock",
           "CCXI",
           1331312253
          ],
          [
           "CyberArk Software Ltd. Ordinary Shares",
           "CYBR",
           6339280509
          ],
          [
           "Golden Ocean Group Limited Common Stock",
           "GOGL",
           2210804900
          ],
          [
           "Monster Beverage Corporation",
           "MNST",
           47398746382
          ],
          [
           "Northern Trust Corporation Common Stock",
           "NTRS",
           23004366222
          ],
          [
           "Cincinnati Financial Corporation Common Stock",
           "CINF",
           18574424847
          ],
          [
           "Exact Sciences Corporation Common Stock",
           "EXAS",
           15714397999
          ],
          [
           "Novavax Inc. Common Stock",
           "NVAX",
           12220989536
          ],
          [
           "uniQure N.V. Ordinary Shares",
           "QURE",
           1465651428
          ],
          [
           "Sanofi ADR",
           "SNY",
           120550694936
          ],
          [
           "Trupanion Inc. Common Stock",
           "TRUP",
           3253399189
          ],
          [
           "Advanced Energy Industries Inc. Common Stock",
           "AEIS",
           3270920828
          ],
          [
           "Formula Systems (1985) Ltd. American Depositary Shares",
           "FORTY",
           1482932128
          ],
          [
           "Magellan Health Inc. Common Stock",
           "MGLN",
           2487813696
          ],
          [
           "Silicon Laboratories Inc. Common Stock",
           "SLAB",
           6110745516
          ],
          [
           "CMC Materials Inc. Common Stock",
           "CCMP",
           3541603314
          ],
          [
           "Grupo Financiero Galicia S.A. American Depositary Shares",
           "GGAL",
           1490618674
          ],
          [
           "Hamilton Lane Incorporated Class A Common Stock",
           "HLNE",
           4768142585
          ],
          [
           "ViacomCBS Inc. Class B Common Stock",
           "VIAC",
           25143202040
          ],
          [
           "Addus HomeCare Corporation Common Stock",
           "ADUS",
           1172510998
          ],
          [
           "Sirius XM Holdings Inc. Common Stock",
           "SIRI",
           24889928138
          ],
          [
           "BioCryst Pharmaceuticals Inc. Common Stock",
           "BCRX",
           2432648908
          ],
          [
           "G-III Apparel Group LTD. Common Stock",
           "GIII",
           1335567943
          ],
          [
           "Renewable Energy Group Inc. Common Stock",
           "REGI",
           2591375983
          ],
          [
           "Dorman Products Inc. Common Stock",
           "DORM",
           3007864598
          ],
          [
           "Fate Therapeutics Inc. Common Stock",
           "FATE",
           5379830596
          ],
          [
           "Insmed Inc. Common Stock",
           "INSM",
           3163520982
          ],
          [
           "Ollie's Bargain Outlet Holdings Inc. Common Stock",
           "OLLI",
           3807307428
          ],
          [
           "EchoStar  Corporation Common Stock",
           "SATS",
           2293387227
          ],
          [
           "BOK Financial Corporation Common Stock",
           "BOKF",
           6320678907
          ],
          [
           "The Carlyle Group Inc. Common Stock",
           "CG",
           17025796170
          ],
          [
           "Meta Materials Inc. Common Stock",
           "MMAT",
           1391785043
          ],
          [
           "Renasant Corporation Common Stock",
           "RNST",
           2052341734
          ],
          [
           "Canopy Growth Corporation Common Shares",
           "CGC",
           5186036774
          ],
          [
           "Medpace Holdings Inc. Common Stock",
           "MEDP",
           6861189214
          ],
          [
           "Neurocrine Biosciences Inc. Common Stock",
           "NBIX",
           9797798123
          ],
          [
           "ePlus inc. Common Stock",
           "PLUS",
           1420898294
          ],
          [
           "Aspen Technology Inc. Common Stock",
           "AZPN",
           8397356109
          ],
          [
           "Coca-Cola Consolidated Inc. Common Stock",
           "COKE",
           3719386058
          ],
          [
           "Encore Capital Group Inc Common Stock",
           "ECPG",
           1524094953
          ],
          [
           "Atrion Corporation Common Stock",
           "ATRI",
           1230513846
          ],
          [
           "Everbridge Inc. Common Stock",
           "EVBG",
           5546701716
          ],
          [
           "FuelCell Energy Inc. Common Stock",
           "FCEL",
           2236343662
          ],
          [
           "MicroVision Inc. Common Stock",
           "MVIS",
           1762827401
          ],
          [
           "Trimble Inc. Common Stock",
           "TRMB",
           20547280136
          ],
          [
           "The Ensign Group Inc. Common Stock",
           "ENSG",
           4057614545
          ],
          [
           "Ericsson American Depositary Shares",
           "ERIC",
           37674200000
          ],
          [
           "B. Riley Financial Inc. Common Stock",
           "RILY",
           1651414591
          ],
          [
           "Tesla Inc. Common Stock",
           "TSLA",
           783722655299
          ],
          [
           "Amedisys Inc Common Stock",
           "AMED",
           4595424995
          ],
          [
           "Exelixis Inc. Common Stock",
           "EXEL",
           6549864303
          ],
          [
           "Expedia Group Inc. Common Stock",
           "EXPE",
           25678579489
          ],
          [
           "Ichor Holdings Ordinary Shares",
           "ICHR",
           1118194187
          ],
          [
           "Pilgrim's Pride Corporation Common Stock",
           "PPC",
           7078773914
          ],
          [
           "Xerox Holdings Corporation Common Stock",
           "XRX",
           3729455128
          ],
          [
           "Intel Corporation Common Stock",
           "INTC",
           217467371000
          ],
          [
           "OceanFirst Financial Corp. Common Stock",
           "OCFC",
           1302898231
          ],
          [
           "The Shyft Group Inc. Common Stock",
           "SHYF",
           1409061563
          ],
          [
           "Digital Turbine Inc. Common Stock",
           "APPS",
           7264881565
          ],
          [
           "Coherent Inc. Common Stock",
           "COHR",
           18460285985
          ],
          [
           "IRSA Propiedades Comerciales S.A. American Depositary Shares",
           "IRCP",
           8103534717
          ],
          [
           "Stock Yards Bancorp Inc. Common Stock",
           "SYBT",
           1606955753
          ],
          [
           "Texas Capital Bancshares Inc. Common Stock",
           "TCBI",
           3111005549
          ],
          [
           "Atara Biotherapeutics Inc. Common Stock",
           "ATRA",
           1468848359
          ],
          [
           "Cimpress plc Ordinary Shares (Ireland)",
           "CMPR",
           2257622698
          ],
          [
           "Penn Virginia Corporation Common Stock",
           "PVAC",
           1190064030
          ],
          [
           "Angi Inc. Class A Common Stock",
           "ANGI",
           6055381662
          ],
          [
           "Astec Industries Inc. Common Stock",
           "ASTE",
           1215724774
          ],
          [
           "Nuance Communications Inc. Common Stock",
           "NUAN",
           17323858926
          ],
          [
           "Washington Federal Inc. Common Stock",
           "WAFD",
           2352302672
          ],
          [
           "Equinix Inc. Common Stock REIT",
           "EQIX",
           2120432805
          ],
          [
           "Halozyme Therapeutics Inc. Common Stock",
           "HALO",
           5590914872
          ],
          [
           "Intuit Inc. Common Stock",
           "INTU",
           145836551925
          ],
          [
           "MannKind Corporation Common Stock",
           "MNKD",
           1233820600
          ],
          [
           "Ross Stores Inc. Common Stock",
           "ROST",
           37590575818
          ],
          [
           "Coca-Cola Europacific Partners plc Ordinary Shares",
           "CCEP",
           24862835661
          ],
          [
           "JD.com Inc. American Depositary Shares",
           "JD",
           111336149880
          ],
          [
           "Strategic Education Inc. Common Stock",
           "STRA",
           1756602975
          ],
          [
           "Cintas Corporation Common Stock",
           "CTAS",
           40879819595
          ],
          [
           "Helen of Troy Limited Common Stock",
           "HELE",
           62750224507
          ],
          [
           "ANSYS Inc. Common Stock",
           "ANSS",
           29759654282
          ],
          [
           "Casey's General Stores Inc. Common Stock",
           "CASY",
           6971512023
          ],
          [
           "Fulton Financial Corporation Common Stock",
           "FULT",
           2589631000
          ],
          [
           "AppFolio Inc. Class A Common Stock",
           "APPF",
           4351765377
          ],
          [
           "City Holding Company Common Stock",
           "CHCO",
           1186696227
          ],
          [
           "Lancaster Colony Corporation Common Stock",
           "LANC",
           4783337500
          ],
          [
           "Liberty Media Corporation Series C Liberty SiriusXM Common Stock",
           "LSXMK",
           16179108056
          ],
          [
           "Paychex Inc. Common Stock",
           "PAYX",
           42329746616
          ],
          [
           "Radware Ltd. Ordinary Shares",
           "RDWR",
           1548643309
          ],
          [
           "Viper Energy Partners LP Common Unit",
           "VNOM",
           3529606208
          ],
          [
           "Encore Wire Corporation Common Stock",
           "WIRE",
           2014761470
          ],
          [
           "Atlantic Union Bankshares Corporation Common Stock",
           "AUB",
           2882398013
          ],
          [
           "Coupa Software Incorporated Common Stock",
           "COUP",
           16295294403
          ],
          [
           "CSX Corporation Common Stock",
           "CSX",
           72290411354
          ],
          [
           "Green Plains Inc. Common Stock",
           "GPRE",
           1832674094
          ],
          [
           "GoPro Inc. Class A Common Stock",
           "GPRO",
           1378197234
          ],
          [
           "International Bancshares Corporation Common Stock",
           "IBOC",
           2723741497
          ],
          [
           "Monarch Casino & Resort Inc. Common Stock",
           "MCRI",
           1264767088
          ],
          [
           "PotlatchDeltic Corporation Common Stock",
           "PCH",
           3486356432
          ],
          [
           "Sanderson Farms Inc. Common Stock",
           "SAFM",
           4194186755
          ],
          [
           "Cassava Sciences Inc. Common Stock",
           "SAVA",
           2108774427
          ],
          [
           "Automatic Data Processing Inc. Common Stock",
           "ADP",
           86358150107
          ],
          [
           "First Midwest Bancorp Inc. Common Stock",
           "FMBI",
           2205968712
          ],
          [
           "Mimecast Limited Ordinary Shares",
           "MIME",
           4201367858
          ],
          [
           "Insight Enterprises Inc. Common Stock",
           "NSIT",
           3190702861
          ],
          [
           "Xenon Pharmaceuticals Inc. Common Shares",
           "XENE",
           1288626306
          ],
          [
           "Align Technology Inc. Common Stock",
           "ALGN",
           51241723678
          ],
          [
           "Malibu Boats Inc. Class A Common Stock",
           "MBUU",
           1497749023
          ],
          [
           "TechTarget Inc. Common Stock",
           "TTGT",
           2306507212
          ],
          [
           "Cerner Corporation Common Stock",
           "CERN",
           20691006700
          ],
          [
           "The Joint Corp. Common Stock",
           "JYNT",
           1365871741
          ],
          [
           "Qurate Retail Inc. Series A Common Stock",
           "QRTEA",
           4168298813
          ],
          [
           "TTEC Holdings Inc. Common Stock",
           "TTEC",
           4379972369
          ],
          [
           "Vertex Pharmaceuticals Incorporated Common Stock",
           "VRTX",
           46940973610
          ],
          [
           "Methanex Corporation Common Stock",
           "MEOH",
           3688529152
          ],
          [
           "Meta Financial Group Inc. Common Stock",
           "CASH",
           1767100334
          ],
          [
           "Kinsale Capital Group Inc. Common Stock",
           "KNSL",
           3662806131
          ],
          [
           "Dave & Buster's Entertainment Inc. Common Stock",
           "PLAY",
           1992505724
          ],
          [
           "PTC Inc. Common Stock",
           "PTC",
           14017732526
          ],
          [
           "Regency Centers Corporation Common Stock",
           "REG",
           11549714699
          ],
          [
           "Gibraltar Industries Inc. Common Stock",
           "ROCK",
           2279648349
          ],
          [
           "AMERISAFE Inc. Common Stock",
           "AMSF",
           1093875410
          ],
          [
           "Diodes Incorporated Common Stock",
           "DIOD",
           3956561951
          ],
          [
           "Ionis Pharmaceuticals Inc. Common Stock",
           "IONS",
           4643759264
          ],
          [
           "Ironwood Pharmaceuticals Inc. Class A Common Stock",
           "IRWD",
           2195824748
          ],
          [
           "Monolithic Power Systems Inc. Common Stock",
           "MPWR",
           32038827385
          ],
          [
           "Oaktree Specialty Lending Corporation Common Stock",
           "OCSL",
           1279658897
          ],
          [
           "United Community Banks Inc. Common Stock",
           "UCBI",
           2840522381
          ],
          [
           "Liberty Global plc Class A Ordinary Shares",
           "LBTYA",
           16355448289
          ],
          [
           "Landstar System Inc. Common Stock",
           "LSTR",
           6021931457
          ],
          [
           "Red Rock Resorts Inc. Class A Common Stock",
           "RRR",
           6258971696
          ],
          [
           "PTC Therapeutics Inc. Common Stock",
           "PTCT",
           2541777300
          ],
          [
           "Qualys Inc. Common Stock",
           "QLYS",
           4304583223
          ],
          [
           "Southside Bancshares Inc. Common Stock",
           "SBSI",
           1265663459
          ],
          [
           "E.W. Scripps Company (The) Class A Common Stock",
           "SSP",
           1485236307
          ],
          [
           "BlackLine Inc. Common Stock",
           "BL",
           6851951813
          ],
          [
           "National Instruments Corporation Common Stock",
           "NATI",
           5303279568
          ],
          [
           "Anterix Inc. Common Stock",
           "ATEX",
           1131552218
          ],
          [
           "Discovery Inc. Series C Common Stock",
           "DISCK",
           12418583404
          ],
          [
           "ImmunoGen Inc. Common Stock",
           "IMGN",
           1200261235
          ],
          [
           "Grand Canyon Education Inc. Common Stock",
           "LOPE",
           3851414561
          ],
          [
           "DexCom Inc. Common Stock",
           "DXCM",
           52307293326
          ],
          [
           "Liberty Media Corporation Series B Liberty SiriusXM Common Stock",
           "LSXMB",
           15982977509
          ],
          [
           "Bank OZK Common Stock",
           "OZK",
           5565561566
          ],
          [
           "The Trade Desk Inc. Class A Common Stock",
           "TTD",
           32980761380
          ],
          [
           "AAON Inc. Common Stock",
           "AAON",
           3512884242
          ],
          [
           "Liberty Global plc Class C Ordinary Shares",
           "LBTYK",
           16344337251
          ],
          [
           "RBC Bearings Incorporated Common Stock",
           "ROLL",
           6106453602
          ],
          [
           "Colliers International Group Inc. Subordinate Voting Shares",
           "CIGI",
           5629951232
          ],
          [
           "Amdocs Limited Ordinary Shares",
           "DOX",
           9651099150
          ],
          [
           "Energy Recovery Inc. Common Stock",
           "ERII",
           1111897997
          ],
          [
           "SSR Mining Inc. Common Stock",
           "SSRM",
           3203813136
          ],
          [
           "AstraZeneca PLC American Depositary Shares",
           "AZN",
           184672489924
          ],
          [
           "JOYY Inc. American Depositary Shares",
           "YY",
           4184465830
          ],
          [
           "AngioDynamics Inc. Common Stock",
           "ANGO",
           1036218136
          ],
          [
           "Cogent Communications Holdings Inc.",
           "CCOI",
           3430018807
          ],
          [
           "R1 RCM Inc. Common Stock",
           "RCM",
           6271795926
          ],
          [
           "Sleep Number Corporation Common Stock",
           "SNBR",
           2139680760
          ],
          [
           "First Solar Inc. Common Stock",
           "FSLR",
           10090764953
          ],
          [
           "Liberty Latin America Ltd. Class A Common Stock",
           "LILA",
           2990180013
          ],
          [
           "LivaNova PLC Ordinary Shares",
           "LIVN",
           4260171191
          ],
          [
           "Patrick Industries Inc. Common Stock",
           "PATK",
           1993972216
          ],
          [
           "Atlas Air Worldwide Holdings NEW Common Stock",
           "AAWW",
           2445346646
          ],
          [
           "PC Connection Inc. Common Stock",
           "CNXN",
           1152435812
          ],
          [
           "Wendy's Company (The) Common Stock",
           "WEN",
           4904671083
          ],
          [
           "German American Bancorp Inc. Common Stock",
           "GABC",
           1024664174
          ],
          [
           "Alphabet Inc. Class C Capital Stock",
           "GOOG",
           1830935636580
          ],
          [
           "The Goodyear Tire & Rubber Company Common Stock",
           "GT",
           5173949783
          ],
          [
           "PACCAR Inc. Common Stock",
           "PCAR",
           28291159714
          ],
          [
           "Pegasystems Inc. Common Stock",
           "PEGA",
           10124125473
          ],
          [
           "TowneBank Common Stock",
           "TOWN",
           2287926828
          ],
          [
           "AtriCure Inc. Common Stock",
           "ATRC",
           3189747854
          ],
          [
           "DISH Network Corporation Class A Common Stock",
           "DISH",
           23427724693
          ],
          [
           "ManTech International Corporation Common Stock $0.01 Par Value",
           "MANT",
           3136940175
          ],
          [
           "NortonLifeLock Inc. Common Stock",
           "NLOK",
           14624908488
          ],
          [
           "Star Bulk Carriers Corp. Common Shares",
           "SBLK",
           2555992900
          ],
          [
           "Splunk Inc. Common Stock",
           "SPLK",
           23469374115
          ],
          [
           "Blackbaud Inc. Common Stock",
           "BLKB",
           3553802461
          ],
          [
           "Casella Waste Systems Inc. Class A Common Stock",
           "CWST",
           4033328269
          ],
          [
           "Facebook Inc. Class A Common Stock",
           "FB",
           939072379948
          ],
          [
           "LGI Homes Inc. Common Stock",
           "LGIH",
           3388349810
          ],
          [
           "Netflix Inc. Common Stock",
           "NFLX",
           281654745247
          ],
          [
           "SEI Investments Company Common Stock",
           "SEIC",
           8374308638
          ],
          [
           "Tivity Health Inc. Common Stock",
           "TVTY",
           1186451137
          ],
          [
           "Wintrust Financial Corporation Common Stock",
           "WTFC",
           4641398179
          ],
          [
           "Avnet Inc. Common Stock",
           "AVT",
           3716461066
          ],
          [
           "Costco Wholesale Corporation Common Stock",
           "COST",
           197336718000
          ],
          [
           "Diamondback Energy Inc. Commmon Stock",
           "FANG",
           18771099064
          ],
          [
           "InterDigital Inc. Common Stock",
           "IDCC",
           2065055569
          ],
          [
           "Plains GP Holdings L.P. Class A Units representing Limited Partner Interests",
           "PAGP",
           2062566108
          ],
          [
           "PRA Group Inc. Common Stock",
           "PRAA",
           1966388939
          ],
          [
           "Verint Systems Inc. Common Stock",
           "VRNT",
           2961523003
          ],
          [
           "Blueprint Medicines Corporation Common Stock",
           "BPMC",
           5677580825
          ],
          [
           "CryoPort Inc. Common Stock",
           "CYRX",
           2999744529
          ],
          [
           "Itron Inc. Common Stock",
           "ITRI",
           3203138926
          ],
          [
           "Morningstar Inc. Common Stock",
           "MORN",
           11332968159
          ],
          [
           "Bio-Techne Corp Common Stock",
           "TECH",
           18814771084
          ],
          [
           "UFP Industries Inc. Common Stock",
           "UFPI",
           4329551310
          ],
          [
           "Xencor Inc. Common Stock",
           "XNCR",
           2070498947
          ],
          [
           "Axsome Therapeutics Inc. Common Stock",
           "AXSM",
           1179444972
          ],
          [
           "First Citizens BancShares Inc. Class A Common Stock",
           "FCNCA",
           8242737114
          ],
          [
           "MGE Energy Inc",
           "MGEE",
           2714060919
          ],
          [
           "National Research Corporation Common Stock (Delaware)",
           "NRC",
           1055719040
          ],
          [
           "Papa John's International Inc. Common Stock",
           "PZZA",
           4597531332
          ],
          [
           "Amyris Inc. Common Stock",
           "AMRS",
           3677714975
          ],
          [
           "Arena Pharmaceuticals Inc. Common Stock",
           "ARNA",
           3610414102
          ],
          [
           "Hollysys Automation Technologies Ltd. Common Shares (British Virgin Islands)",
           "HOLI",
           1248786518
          ],
          [
           "Office Properties Income Trust Common Shares of Beneficial Interest",
           "OPI",
           1232042760
          ],
          [
           "Liberty Media Corporation Series A Liberty Braves Common Stock",
           "BATRA",
           1391887679
          ],
          [
           "First Interstate BancSystem Inc. Class A Common Stock",
           "FIBK",
           2597273888
          ],
          [
           "Axcelis Technologies Inc. Common Stock",
           "ACLS",
           1538730472
          ],
          [
           "LKQ Corporation Common Stock",
           "LKQ",
           14734910751
          ],
          [
           "Sabra Health Care REIT Inc. Common Stock",
           "SBRA",
           3150055844
          ],
          [
           "Sangamo Therapeutics Inc. Common Stock",
           "SGMO",
           1260072189
          ],
          [
           "United Bankshares Inc. Common Stock",
           "UBSI",
           4655179694
          ],
          [
           "Veracyte Inc. Common Stock",
           "VCYT",
           3042820134
          ],
          [
           "WillScot Mobile Mini Holdings Corp. Class A Common Stock",
           "WSC",
           6997131967
          ],
          [
           "WW International Inc. Common Stock",
           "WW",
           1273083928
          ],
          [
           "Kratos Defense & Security Solutions Inc. Common Stock",
           "KTOS",
           2710951312
          ],
          [
           "Codexis Inc. Common Stock",
           "CDXS",
           1821899088
          ],
          [
           "Forward Air Corporation Common Stock",
           "FWRD",
           2295402948
          ],
          [
           "Gogo Inc. Common Stock",
           "GOGO",
           1691641077
          ],
          [
           "Northwest Bancshares Inc. Common Stock",
           "NWBI",
           1719330788
          ],
          [
           "QAD Inc. Class A Common Stock",
           "QADA",
           1835623117
          ],
          [
           "Weibo Corporation American Depositary Share",
           "WB",
           10282773516
          ],
          [
           "Popular Inc. Common Stock",
           "BPOP",
           6467019334
          ],
          [
           "Echo Global Logistics Inc. Common Stock",
           "ECHO",
           1281779502
          ],
          [
           "Lakeland Financial Corporation Common Stock",
           "LKFN",
           1846654299
          ],
          [
           "Tractor Supply Company Common Stock",
           "TSCO",
           22507503607
          ],
          [
           "Tower Semiconductor Ltd. Ordinary Shares",
           "TSEM",
           3136193546
          ],
          [
           "Euronet Worldwide Inc. Common Stock",
           "EEFT",
           6925804068
          ],
          [
           "Freshpet Inc. Common Stock",
           "FRPT",
           6265089290
          ],
          [
           "Intuitive Surgical Inc. Common Stock",
           "ISRG",
           118534414497
          ],
          [
           "NetScout Systems Inc. Common Stock",
           "NTCT",
           2015868686
          ],
          [
           "Patterson Companies Inc. Common Stock",
           "PDCO",
           3122089760
          ],
          [
           "Penn National Gaming Inc. Common Stock",
           "PENN",
           11192952586
          ],
          [
           "Yandex N.V. Class A Ordinary Shares",
           "YNDX",
           27155272759
          ],
          [
           "Global Blood Therapeutics Inc. Common Stock",
           "GBT",
           1592755822
          ],
          [
           "Seacoast Banking Corporation of Florida Common Stock",
           "SBCF",
           2043023907
          ],
          [
           "Calamos Convertible and High Income Fund Common Stock",
           "CHY",
           1177066144
          ],
          [
           "Entegris Inc. Common Stock",
           "ENTG",
           16276440031
          ],
          [
           "Elbit Systems Ltd. Ordinary Shares",
           "ESLT",
           6382580329
          ],
          [
           "Exelon Corporation Common Stock",
           "EXC",
           47278209111
          ],
          [
           "Kadmon Holdings Inc. Common Stock",
           "KDMN",
           1527919650
          ],
          [
           "MYR Group Inc. Common Stock",
           "MYRG",
           1718963868
          ],
          [
           "Ameris Bancorp Common Stock",
           "ABCB",
           3618782909
          ],
          [
           "CVB Financial Corporation Common Stock",
           "CVBF",
           2742081220
          ],
          [
           "Fiserv Inc. Common Stock",
           "FISV",
           71213495051
          ],
          [
           "Republic Bancorp Inc. Class A Common Stock",
           "RBCAA",
           1041667786
          ],
          [
           "Semtech Corporation Common Stock",
           "SMTC",
           5021657863
          ],
          [
           "2U Inc. Common Stock",
           "TWOU",
           2499667423
          ],
          [
           "Intra-Cellular Therapies Inc. Common Stock",
           "ITCI",
           3020213274
          ],
          [
           "Lumentum Holdings Inc. Common Stock",
           "LITE",
           5940842057
          ],
          [
           "Pacira BioSciences Inc. Common Stock",
           "PCRX",
           2167171110
          ],
          [
           "Expeditors International of Washington Inc. Common Stock",
           "EXPD",
           19615633103
          ],
          [
           "United Airlines Holdings Inc. Common Stock",
           "UAL",
           16127246928
          ],
          [
           "BGC Partners Inc Class A Common Stock",
           "BGCP",
           2087927618
          ],
          [
           "Otter Tail Corporation Common Stock",
           "OTTR",
           2393911818
          ],
          [
           "Plains All American Pipeline L.P. Common Units representing Limited Partner Interests",
           "PAA",
           7148607755
          ],
          [
           "Activision Blizzard Inc. Common Stock",
           "ATVI",
           60233519065
          ],
          [
           "Sandy Spring Bancorp Inc. Common Stock",
           "SASR",
           2222514479
          ],
          [
           "Centennial Resource Development Inc. Class A Common Stock",
           "CDEV",
           1951548419
          ],
          [
           "Enstar Group Limited Ordinary Shares",
           "ESGR",
           4412156688
          ],
          [
           "Fox Factory Holding Corp. Common Stock",
           "FOXF",
           6096148825
          ],
          [
           "KLA Corporation Common Stock",
           "KLAC",
           49915922935
          ],
          [
           "SLM Corporation Common Stock",
           "SLM",
           5365387728
          ],
          [
           "S&T Bancorp Inc. Common Stock",
           "STBA",
           1183655315
          ],
          [
           "Discovery Inc. Series B Common Stock",
           "DISCB",
           24806822072
          ],
          [
           "Grifols S.A. American Depositary Shares",
           "GRFS",
           10045177206
          ],
          [
           "HealthEquity Inc. Common Stock",
           "HQY",
           5295721650
          ],
          [
           "Hub Group Inc. Class A Common Stock",
           "HUBG",
           2440040310
          ],
          [
           "American Electric Power Company Inc. Common Stock",
           "AEP",
           41685944079
          ],
          [
           "Check Point Software Technologies Ltd. Ordinary Shares",
           "CHKP",
           15127044671
          ],
          [
           "Eagle Bancorp Inc. Common Stock",
           "EGBN",
           1861709785
          ],
          [
           "Natera Inc. Common Stock",
           "NTRA",
           10423988897
          ],
          [
           "Omnicell Inc. Common Stock ($0.001 par value)",
           "OMCL",
           6873291099
          ],
          [
           "Safety Insurance Group Inc. Common Stock",
           "SAFT",
           1197468720
          ],
          [
           "State Auto Financial Corporation Common Stock",
           "STFC",
           2262678542
          ],
          [
           "Agilysys Inc. Common Stock",
           "AGYS",
           1309012936
          ],
          [
           "Hope Bancorp Inc. Common Stock",
           "HOPE",
           1794927773
          ],
          [
           "iRobot Corporation Common Stock",
           "IRBT",
           2248570164
          ],
          [
           "Merit Medical Systems Inc. Common Stock",
           "MMSI",
           4040786328
          ],
          [
           "NetEase Inc. American Depositary Shares",
           "NTES",
           236587787063
          ],
          [
           "Balchem Corporation Common Stock",
           "BCPC",
           4830978643
          ],
          [
           "Laureate Education Inc. Class A Common Stock",
           "LAUR",
           3310808086
          ],
          [
           "Simmons First National Corporation Class A Common Stock",
           "SFNC",
           3268016251
          ],
          [
           "Agenus Inc. Common Stock",
           "AGEN",
           1320594464
          ],
          [
           "Brooks Automation Inc.",
           "BRKS",
           7549662117
          ],
          [
           "FirstCash Inc. Common Stock",
           "FCFS",
           3432753835
          ],
          [
           "51job Inc. American Depositary Shares",
           "JOBS",
           4554034724
          ],
          [
           "SecureWorks Corp. Class A Common Stock",
           "SCWX",
           1845249726
          ],
          [
           "SkyWest Inc. Common Stock",
           "SKYW",
           2565842756
          ],
          [
           "NuVasive Inc. Common Stock",
           "NUVA",
           3029620881
          ],
          [
           "Cirrus Logic Inc. Common Stock",
           "CRUS",
           4572683229
          ],
          [
           "Etsy Inc. Common Stock",
           "ETSY",
           26307721488
          ],
          [
           "Heartland Express Inc. Common Stock",
           "HTLD",
           1289332893
          ],
          [
           "Nutanix Inc. Class A Common Stock",
           "NTNX",
           8116801029
          ],
          [
           "T-Mobile US Inc. Common Stock",
           "TMUS",
           154966217538
          ],
          [
           "World Acceptance Corporation Common Stock",
           "WRLD",
           1319035550
          ],
          [
           "Zillow Group Inc. Class C Capital Stock",
           "Z",
           22456201576
          ],
          [
           "Aurinia Pharmaceuticals Inc Ordinary Shares",
           "AUPH",
           2569202499
          ],
          [
           "Five Below Inc. Common Stock",
           "FIVE",
           9650986151
          ],
          [
           "Ferroglobe PLC Ordinary Shares",
           "GSM",
           1533450940
          ],
          [
           "ICON plc Ordinary Shares",
           "ICLR",
           20935149269
          ],
          [
           "Patterson-UTI Energy Inc. Common Stock",
           "PTEN",
           1770349954
          ],
          [
           "Shenandoah Telecommunications Co Common Stock",
           "SHEN",
           1588891802
          ],
          [
           "BeiGene Ltd. American Depositary Shares",
           "BGNE",
           31470194856
          ],
          [
           "Exponent Inc. Common Stock",
           "EXPO",
           5957603121
          ],
          [
           "NXP Semiconductors N.V. Common Stock",
           "NXPI",
           50868778077
          ],
          [
           "Tandem Diabetes Care Inc. Common Stock",
           "TNDM",
           7682018519
          ],
          [
           "VEON Ltd. ADS",
           "VEON",
           3918045385
          ],
          [
           "Acceleron Pharma Inc. Common Stock",
           "XLRN",
           10756673003
          ],
          [
           "Magnite Inc. Common Stock",
           "MGNI",
           3516863739
          ],
          [
           "Power Integrations Inc. Common Stock",
           "POWI",
           5986253972
          ],
          [
           "Valley National Bancorp Common Stock",
           "VLY",
           5506880737
          ],
          [
           "CommScope Holding Company Inc. Common Stock",
           "COMM",
           2441233487
          ],
          [
           "Alphabet Inc. Class A Common Stock",
           "GOOGL",
           1830235543931
          ],
          [
           "Horizon Therapeutics Public Limited Company Ordinary Shares",
           "HZNP",
           25746197416
          ],
          [
           "MicroStrategy Incorporated Common Stock Class A",
           "MSTR",
           6885116073
          ],
          [
           "Galapagos NV American Depositary Shares",
           "GLPG",
           3245706893
          ],
          [
           "Helios Technologies Inc. Common Stock",
           "HLIO",
           2762355416
          ],
          [
           "NMI Holdings Inc. Class A Common Stock",
           "NMIH",
           1923292883
          ],
          [
           "TripAdvisor Inc. Common Stock",
           "TRIP",
           4975480711
          ],
          [
           "Ballard Power Systems Inc. Common Shares",
           "BLDP",
           3931377638
          ],
          [
           "Celsius Holdings Inc. Common Stock",
           "CELH",
           7058315444
          ],
          [
           "BRP Inc. (Recreational Products) Common Subordinate Voting Shares",
           "DOOO",
           7313919980
          ],
          [
           "Editas Medicine Inc. Common Stock",
           "EDIT",
           2559797063
          ],
          [
           "Enanta Pharmaceuticals Inc. Common Stock",
           "ENTA",
           1234520890
          ],
          [
           "II-VI Incorporated Common Stock",
           "IIVI",
           5894325266
          ],
          [
           "Keurig Dr Pepper Inc. Common Stock",
           "KDP",
           47548013668
          ],
          [
           "Herman Miller Inc. Common Stock",
           "MLHR",
           2808398995
          ],
          [
           "Stericycle Inc. Common Stock",
           "SRCL",
           6149640364
          ],
          [
           "ConnectOne Bancorp Inc. Common Stock",
           "CNOB",
           1255880587
          ],
          [
           "Jazz Pharmaceuticals plc Common Stock (Ireland)",
           "JAZZ",
           8305613746
          ],
          [
           "Marriott International Class A Common Stock",
           "MAR",
           50255289784
          ],
          [
           "Skyworks Solutions Inc. Common Stock",
           "SWKS",
           26588333891
          ],
          [
           "Atlassian Corporation Plc Class A Ordinary Shares",
           "TEAM",
           99467071744
          ],
          [
           "Cheesecake Factory Incorporated (The) Common Stock",
           "CAKE",
           2414303035
          ],
          [
           "CSG Systems International Inc. Common Stock",
           "CSGS",
           1637128700
          ],
          [
           "Calamos Strategic Total Return Common Stock",
           "CSQ",
           2787805494
          ],
          [
           "Insulet Corporation Common Stock",
           "PODD",
           19693449733
          ],
          [
           "Forterra Inc. Common Stock",
           "FRTA",
           1582677109
          ],
          [
           "Camtek Ltd. Ordinary Shares",
           "CAMT",
           1693421708
          ],
          [
           "Conduent Incorporated Common Stock",
           "CNDT",
           1456659658
          ],
          [
           "First Financial Bankshares Inc. Common Stock",
           "FFIN",
           6561941128
          ],
          [
           "TTM Technologies Inc. Common Stock",
           "TTMI",
           1391617803
          ],
          [
           "Autodesk Inc. Common Stock",
           "ADSK",
           60922755706
          ],
          [
           "ArcBest Corporation Common Stock",
           "ARCB",
           2260056357
          ],
          [
           "Alphatec Holdings Inc. Common Stock",
           "ATEC",
           1216924274
          ],
          [
           "Nasdaq Inc. Common Stock",
           "NDAQ",
           32624813651
          ],
          [
           "Option Care Health Inc. Common Stock",
           "OPCH",
           4390599361
          ],
          [
           "Prothena Corporation plc Ordinary Shares",
           "PRTA",
           3242515379
          ],
          [
           "Hostess Brands Inc. Class A Common Stock",
           "TWNK",
           2363139654
          ],
          [
           "Zynga Inc. Class A Common Stock",
           "ZNGA",
           7905288299
          ],
          [
           "CDK Global Inc. Common Stock",
           "CDK",
           5195889337
          ],
          [
           "Liberty Media Corporation Series C Liberty Formula One Common Stock",
           "FWONK",
           12252510878
          ],
          [
           "Pacific Premier Bancorp Inc",
           "PPBI",
           4015979049
          ],
          [
           "Revance Therapeutics Inc. Common Stock",
           "RVNC",
           1851051833
          ],
          [
           "Lam Research Corporation Common Stock",
           "LRCX",
           77949797694
          ],
          [
           "Ultra Clean Holdings Inc. Common Stock",
           "UCTT",
           1861308000
          ],
          [
           "American Airlines Group Inc. Common Stock",
           "AAL",
           13316653685
          ],
          [
           "Discovery Inc. Series A Common Stock",
           "DISCA",
           12850995899
          ],
          [
           "Heron Therapeutics Inc. Common Stock",
           "HRTX",
           1040495893
          ],
          [
           "Scientific Games Corp Common Stock",
           "SGMS",
           7714391123
          ],
          [
           "Super Micro Computer Inc. Common Stock",
           "SMCI",
           1824600674
          ],
          [
           "Hawaiian Holdings Inc. Common Stock",
           "HA",
           1112602473
          ],
          [
           "Ligand Pharmaceuticals Incorporated Common Stock",
           "LGND",
           2142100535
          ],
          [
           "Old National Bancorp Common Stock",
           "ONB",
           2839615267
          ],
          [
           "PriceSmart Inc. Common Stock",
           "PSMT",
           2420642122
          ],
          [
           "The Chefs' Warehouse Inc. Common Stock",
           "CHEF",
           1257567192
          ],
          [
           "LivePerson Inc. Common Stock",
           "LPSN",
           4208947547
          ],
          [
           "Open Text Corporation Common Shares",
           "OTEX",
           13142041720
          ],
          [
           "Texas Roadhouse Inc. Common Stock",
           "TXRH",
           6471880453
          ],
          [
           "APA Corporation Common Stock",
           "APA",
           8399638597
          ],
          [
           "BancFirst Corporation Common Stock",
           "BANF",
           2014936169
          ],
          [
           "Henry Schein Inc. Common Stock",
           "HSIC",
           10822032979
          ],
          [
           "Heartland Financial USA Inc. Common Stock",
           "HTLF",
           2073423275
          ],
          [
           "ChipMOS TECHNOLOGIES INC. American Depositary Shares",
           "IMOS",
           1183946915
          ],
          [
           "Incyte Corp. Common Stock",
           "INCY",
           14517732668
          ],
          [
           "Universal Display Corporation Common Stock",
           "OLED",
           7759707438
          ],
          [
           "Quidel Corporation Common Stock",
           "QDEL",
           5446813860
          ],
          [
           "Ingles Markets Incorporated Class A Common Stock",
           "IMKTA",
           1267304767
          ],
          [
           "Inter Parfums Inc. Common Stock",
           "IPAR",
           2499158934
          ],
          [
           "IVERIC bio Inc. Common Stock",
           "ISEE",
           1784801270
          ],
          [
           "Allscripts Healthcare Solutions Inc. Common Stock",
           "MDRX",
           1665144762
          ],
          [
           "SouthState Corporation Common Stock",
           "SSB",
           5329665152
          ],
          [
           "SS&C Technologies Holdings Inc. Common Stock",
           "SSNC",
           17827145667
          ],
          [
           "Triumph Bancorp Inc. Common Stock",
           "TBK",
           2650711137
          ],
          [
           "Trip.com Group Limited American Depositary Shares",
           "TCOM",
           19844018106
          ],
          [
           "Trustmark Corporation Common Stock",
           "TRMK",
           2056642063
          ],
          [
           "Western Digital Corporation Common Stock",
           "WDC",
           17209616251
          ],
          [
           "CoStar Group Inc. Common Stock",
           "CSGP",
           34086883005
          ],
          [
           "Meridian Bancorp Inc. Common Stock",
           "EBSB",
           1118551062
          ],
          [
           "Marvell Technology Inc. Common Stock",
           "MRVL",
           51584036210
          ],
          [
           "StoneX Group Inc. Common Stock",
           "SNEX",
           1341683377
          ],
          [
           "Texas Instruments Incorporated Common Stock",
           "TXN",
           178733450386
          ],
          [
           "Workday Inc. Class A Common Stock",
           "WDAY",
           62983320000
          ],
          [
           "MACOM Technology Solutions Holdings Inc. Common Stock",
           "MTSI",
           4507297573
          ],
          [
           "Nordson Corporation Common Stock",
           "NDSN",
           13732468874
          ],
          [
           "Rush Enterprises Inc. Class B",
           "RUSHB",
           2593881642
          ],
          [
           "Broadcom Inc. Common Stock",
           "AVGO",
           200105735431
          ],
          [
           "Banner Corporation Common Stock",
           "BANR",
           1948371378
          ],
          [
           "Selective Insurance Group Inc. Common Stock",
           "SIGI",
           4610848243
          ],
          [
           "Seagate Technology Holdings PLC Ordinary Shares (Ireland)",
           "STX",
           18278911885
          ],
          [
           "Tetra Tech Inc. Common Stock",
           "TTEK",
           8232878476
          ],
          [
           "AMC Networks Inc. Class A Common Stock",
           "AMCX",
           1892529069
          ],
          [
           "Avid Technology Inc. Common Stock",
           "AVID",
           1352622708
          ],
          [
           "Century Aluminum Company Common Stock",
           "CENX",
           1270820564
          ],
          [
           "Cognex Corporation Common Stock",
           "CGNX",
           14201954771
          ],
          [
           "Retail Opportunity Investments Corp. Common Stock (MD)",
           "ROIC",
           2148892678
          ],
          [
           "DENTSPLY SIRONA Inc. Common Stock",
           "XRAY",
           12411488631
          ],
          [
           "Applied Materials Inc. Common Stock",
           "AMAT",
           114990653261
          ],
          [
           "Ares Capital Corporation Common Stock",
           "ARCC",
           9476713018
          ],
          [
           "Nuveen NASDAQ 100 Dynamic Overwrite Fund Shares of Beneficial Interest",
           "QQQX",
           1214240302
          ],
          [
           "Rush Enterprises Inc. Common Stock Cl A",
           "RUSHA",
           2582744322
          ],
          [
           "Scholastic Corporation Common Stock",
           "SCHL",
           1279707788
          ],
          [
           "TFS Financial Corporation Common Stock",
           "TFSL",
           5469387113
          ],
          [
           "Commerce Bancshares Inc. Common Stock",
           "CBSH",
           8156438054
          ],
          [
           "Cowen Inc. Class A Common Stock",
           "COWN",
           1012939169
          ],
          [
           "NV5 Global Inc. Common Stock",
           "NVEE",
           1523087715
          ],
          [
           "Hello Group Inc. American Depositary Shares",
           "MOMO",
           2127109342
          ],
          [
           "Advanced Micro Devices Inc. Common Stock",
           "AMD",
           124747414427
          ],
          [
           "eBay Inc. Common Stock",
           "EBAY",
           46095457133
          ],
          [
           "Fifth Third Bancorp Common Stock",
           "FITB",
           29962152414
          ],
          [
           "Kaiser Aluminum Corporation Common Stock",
           "KALU",
           1726500005
          ],
          [
           "Steven Madden Ltd. Common Stock",
           "SHOO",
           3343406714
          ],
          [
           "Aclaris Therapeutics Inc. Common Stock",
           "ACRS",
           1057195260
          ],
          [
           "IDEXX Laboratories Inc. Common Stock",
           "IDXX",
           414932335550
          ],
          [
           "Purple Innovation Inc. Common Stock",
           "PRPL",
           1438627926
          ],
          [
           "Healthcare Services Group Inc. Common Stock",
           "HCSG",
           1835466930
          ],
          [
           "Alliant Energy Corporation Common Stock",
           "LNT",
           14094522450
          ],
          [
           "ON Semiconductor Corporation Common Stock",
           "ON",
           19352422884
          ],
          [
           "Bloomin' Brands Inc. Common Stock",
           "BLMN",
           2214546679
          ],
          [
           "Columbia Sportswear Company Common Stock",
           "COLM",
           6268186620
          ],
          [
           "OPKO Health Inc. Common Stock",
           "OPK",
           2503272625
          ],
          [
           "Ultragenyx Pharmaceutical Inc. Common Stock",
           "RARE",
           5903093941
          ],
          [
           "Starbucks Corporation Common Stock",
           "SBUX",
           130726817000
          ],
          [
           "Huntington Bancshares Incorporated Common Stock",
           "HBAN",
           23359729102
          ],
          [
           "Liberty Broadband Corporation Class A Common Stock",
           "LBRDA",
           31535114369
          ],
          [
           "RadNet Inc. Common Stock",
           "RDNT",
           1485756039
          ],
          [
           "Reata Pharmaceuticals Inc. Class A Common Stock",
           "RETA",
           3541949711
          ],
          [
           "Ryanair Holdings plc American Depositary Shares",
           "RYAAY",
           25320120561
          ],
          [
           "Verisk Analytics Inc. Common Stock",
           "VRSK",
           32729942637
          ],
          [
           "Criteo S.A. American Depositary Shares",
           "CRTO",
           2175458234
          ],
          [
           "Loral Space and Communications Inc. Common Stock",
           "LORL",
           1359571738
          ],
          [
           "Micron Technology Inc. Common Stock",
           "MU",
           78603490820
          ],
          [
           "Sanmina Corporation Common Stock",
           "SANM",
           2547164376
          ],
          [
           "Synaptics Incorporated Common Stock $0.001 Par Value",
           "SYNA",
           6960753334
          ],
          [
           "Xperi Holding Corporation Common Stock",
           "XPER",
           1887946192
          ],
          [
           "Liberty Media Corporation Series C Liberty Braves Common Stock",
           "BATRK",
           1365753851
          ],
          [
           "MGP Ingredients Inc.",
           "MGPI",
           1486838977
          ],
          [
           "News Corporation Class B Common Stock",
           "NWS",
           13896610590
          ],
          [
           "Repligen Corporation Common Stock",
           "RGEN",
           14668703029
          ],
          [
           "bluebird bio Inc. Common Stock",
           "BLUE",
           1233308519
          ],
          [
           "Dollar Tree Inc. Common Stock",
           "DLTR",
           21893955826
          ],
          [
           "Capitol Federal Financial Inc. Common Stock",
           "CFFN",
           1631289912
          ],
          [
           "CareTrust REIT Inc. Common Stock",
           "CTRE",
           1928087358
          ],
          [
           "Cognizant Technology Solutions Corporation Class A Common Stock",
           "CTSH",
           38855520000
          ],
          [
           "Enterprise Financial Services Corporation Common Stock",
           "EFSC",
           1793340132
          ],
          [
           "Cadence Design Systems Inc. Common Stock",
           "CDNS",
           41259594600
          ],
          [
           "Comcast Corporation Class A Common Stock",
           "CMCSA",
           258861179716
          ],
          [
           "Huron Consulting Group Inc. Common Stock",
           "HURN",
           1109051573
          ],
          [
           "LeMaitre Vascular Inc. Common Stock",
           "LMAT",
           1169427409
          ],
          [
           "Lantheus Holdings Inc. Common Stock",
           "LNTH",
           1673877442
          ],
          [
           "Copart Inc. (DE) Common Stock",
           "CPRT",
           32342881797
          ],
          [
           "Crocs Inc. Common Stock",
           "CROX",
           8667845955
          ],
          [
           "Descartes Systems Group Inc. (The) Common Stock",
           "DSGX",
           6630413096
          ],
          [
           "Virtu Financial Inc. Class A Common Stock",
           "VIRT",
           4750171980
          ],
          [
           "First Merchants Corporation Common Stock",
           "FRME",
           2290039545
          ],
          [
           "GDS Holdings Limited ADS",
           "GDS",
           10415800406
          ],
          [
           "O'Reilly Automotive Inc. Common Stock",
           "ORLY",
           41943342834
          ],
          [
           "Xilinx Inc. Common Stock",
           "XLNX",
           37714149108
          ],
          [
           "Enphase Energy Inc. Common Stock",
           "ENPH",
           20747145622
          ],
          [
           "Amerco Common Stock",
           "UHAL",
           13018002609
          ],
          [
           "Investors Bancorp Inc. Common Stock",
           "ISBC",
           3830615653
          ],
          [
           "J.B. Hunt Transport Services Inc. Common Stock",
           "JBHT",
           107438756591
          ],
          [
           "NetApp Inc. Common Stock",
           "NTAP",
           20088631158
          ],
          [
           "PayPal Holdings Inc. Common Stock",
           "PYPL",
           309826602151
          ],
          [
           "Franklin Electric Co. Inc. Common Stock",
           "FELE",
           3818604524
          ],
          [
           "Gentex Corporation Common Stock",
           "GNTX",
           8028857088
          ],
          [
           "Surgery Partners Inc. Common Stock",
           "SGRY",
           3418737141
          ],
          [
           "Altra Industrial Motion Corp. Common Stock",
           "AIMC",
           3515150371
          ],
          [
           "Bed Bath & Beyond Inc. Common Stock",
           "BBBY",
           1460723798
          ],
          [
           "Baozun Inc. American Depositary Shares",
           "BZUN",
           1352933368
          ],
          [
           "CRISPR Therapeutics AG Common Shares",
           "CRSP",
           7780140989
          ],
          [
           "Uniti Group Inc. Common Stock",
           "UNIT",
           2895418388
          ],
          [
           "Old Dominion Freight Line Inc. Common Stock",
           "ODFL",
           75748438541
          ],
          [
           "Rapid7 Inc. Common Stock",
           "RPD",
           6396132326
          ],
          [
           "Amkor Technology Inc. Common Stock",
           "AMKR",
           6113479624
          ],
          [
           "American Woodmark Corporation Common Stock",
           "AMWD",
           1098143875
          ],
          [
           "CareDx Inc. Common Stock",
           "CDNA",
           3362349572
          ],
          [
           "Columbus McKinnon Corporation Common Stock",
           "CMCO",
           1387849894
          ],
          [
           "j2 Global Inc. Common Stock",
           "JCOM",
           6605179272
          ],
          [
           "Johnson Outdoors Inc. Class A Common Stock",
           "JOUT",
           1107327290
          ],
          [
           "Visteon Corporation Common Stock",
           "VC",
           2681178082
          ],
          [
           "Varex Imaging Corporation Common Stock",
           "VREX",
           1081924000
          ],
          [
           "WD-40 Company Common Stock",
           "WDFC",
           3172525594
          ],
          [
           "Clean Energy Fuels Corp. Common Stock",
           "CLNE",
           1770579835
          ],
          [
           "Cytokinetics Incorporated Common Stock",
           "CYTK",
           3020235711
          ],
          [
           "Golub Capital BDC Inc. Common Stock",
           "GBDC",
           2697972119
          ],
          [
           "Riot Blockchain Inc.  Common Stock",
           "RIOT",
           2562858395
          ],
          [
           "Sarepta Therapeutics Inc. Common Stock (DE)",
           "SRPT",
           7823179199
          ],
          [
           "Brookline Bancorp Inc. Common Stock",
           "BRKL",
           1199474315
          ],
          [
           "Jack Henry & Associates Inc. Common Stock",
           "JKHY",
           12012472038
          ],
          [
           "People's United Financial Inc. Common Stock",
           "PBCT",
           7570519970
          ],
          [
           "Viavi Solutions Inc. Common Stock",
           "VIAV",
           3638129755
          ],
          [
           "Alnylam Pharmaceuticals Inc. Common Stock",
           "ALNY",
           23632863753
          ],
          [
           "Pacific Biosciences of California Inc. Common Stock",
           "PACB",
           5263989256
          ],
          [
           "21Vianet Group Inc. American Depositary Shares",
           "VNET",
           2385085527
          ],
          [
           "Avid Bioservices Inc. Common Stock",
           "CDMO",
           1300439461
          ],
          [
           "Virtus Investment Partners Inc. Common Stock",
           "VRTS",
           2421656783
          ],
          [
           "Infinera Corporation Common Stock",
           "INFN",
           1647901562
          ],
          [
           "Regeneron Pharmaceuticals Inc. Common Stock",
           "REGN",
           58889631677
          ],
          [
           "Syneos Health Inc. Class A Common Stock",
           "SYNH",
           8990615898
          ],
          [
           "Teradyne Inc. Common Stock",
           "TER",
           17944134855
          ],
          [
           "Gentherm Inc Common Stock",
           "THRM",
           2726634551
          ],
          [
           "Umpqua Holdings Corporation Common Stock",
           "UMPQ",
           4488516682
          ],
          [
           "Beacon Roofing Supply Inc. Common Stock",
           "BECN",
           3344157976
          ],
          [
           "CorVel Corp. Common Stock",
           "CRVL",
           3016479503
          ],
          [
           "Five9 Inc. Common Stock",
           "FIVN",
           10087688178
          ],
          [
           "Madrigal Pharmaceuticals Inc. Common Stock",
           "MDGL",
           1293309662
          ],
          [
           "Rocket Pharmaceuticals Inc. Common Stock",
           "RCKT",
           1872328797
          ],
          [
           "NeoGenomics Inc. Common Stock",
           "NEO",
           5292628585
          ],
          [
           "Sprouts Farmers Market Inc. Common Stock",
           "SFM",
           2539680714
          ],
          [
           "SPS Commerce Inc. Common Stock",
           "SPSC",
           5760294929
          ],
          [
           "STAAR Surgical Company Common Stock",
           "STAA",
           5593637918
          ],
          [
           "Veritex Holdings Inc. Common Stock",
           "VBTX",
           1984413978
          ],
          [
           "Varonis Systems Inc. Common Stock",
           "VRNS",
           6723990949
          ],
          [
           "The Kraft Heinz Company Common Stock",
           "KHC",
           45253090161
          ],
          [
           "Littelfuse Inc. Common Stock",
           "LFUS",
           13497576217
          ],
          [
           "Allegiant Travel Company Common Stock",
           "ALGT",
           3530751324
          ],
          [
           "WSFS Financial Corporation Common Stock",
           "WSFS",
           2526972029
          ],
          [
           "Cathay General Bancorp Common Stock",
           "CATY",
           3235105395
          ],
          [
           "Mr. Cooper Group Inc. Common Stock",
           "COOP",
           3079993190
          ],
          [
           "FormFactor Inc. FormFactor Inc. Common Stock",
           "FORM",
           2791249688
          ],
          [
           "Liberty Global plc Class B Ordinary Shares",
           "LBTYB",
           16555446978
          ],
          [
           "Liberty Latin America Ltd. Class C Common Stock",
           "LILAK",
           3004187123
          ],
          [
           "Plexus Corp. Common Stock",
           "PLXS",
           2590554436
          ],
          [
           "Alliance Resource Partners L.P. Common Units representing Limited Partners Interests",
           "ARLP",
           1465276203
          ],
          [
           "Glacier Bancorp Inc. Common Stock",
           "GBCI",
           5200386914
          ],
          [
           "Heska Corporation Common Stock",
           "HSKA",
           2709564244
          ],
          [
           "Lattice Semiconductor Corporation Common Stock",
           "LSCC",
           8716342470
          ],
          [
           "Mirati Therapeutics Inc. Common Stock",
           "MRTX",
           8289652332
          ],
          [
           "News Corporation Class A Common Stock",
           "NWSA",
           14011824836
          ],
          [
           "Walgreens Boots Alliance Inc. Common Stock",
           "WBA",
           40447325421
          ],
          [
           "ACI Worldwide Inc. Common Stock",
           "ACIW",
           3568001957
          ],
          [
           "Gaming and Leisure Properties Inc. Common Stock",
           "GLPI",
           11171475637
          ],
          [
           "Middleby Corporation (The) Common Stock",
           "MIDD",
           9435070649
          ],
          [
           "Monro Inc. Common Stock",
           "MNRO",
           1874634795
          ],
          [
           "Integra LifeSciences Holdings Corporation Common Stock",
           "IART",
           5709964880
          ],
          [
           "Qorvo Inc. Common Stock",
           "QRVO",
           18422819350
          ],
          [
           "Supernus Pharmaceuticals Inc. Common Stock",
           "SUPN",
           1405708632
          ],
          [
           "Arrowhead Pharmaceuticals Inc. Common Stock",
           "ARWR",
           6156509067
          ],
          [
           "Jack In The Box Inc. Common Stock",
           "JACK",
           2100189620
          ],
          [
           "lululemon athletica inc. Common Stock",
           "LULU",
           51772236422
          ],
          [
           "NovoCure Limited Ordinary Shares",
           "NVCR",
           11527716213
          ],
          [
           "Trillium Therapeutics Inc. Common Shares",
           "TRIL",
           1851589029
          ],
          [
           "Akamai Technologies Inc. Common Stock",
           "AKAM",
           16755190639
          ],
          [
           "Masimo Corporation Common Stock",
           "MASI",
           14746440364
          ],
          [
           "REGENXBIO Inc. Common Stock",
           "RGNX",
           1375571049
          ],
          [
           "Golar Lng Ltd",
           "GLNG",
           1422120388
          ],
          [
           "iRhythm Technologies Inc. Common Stock",
           "IRTC",
           1781843616
          ],
          [
           "AudioCodes Ltd. Common Stock",
           "AUDC",
           1061160839
          ],
          [
           "Erie Indemnity Company Class A Common Stock",
           "ERIE",
           9543423809
          ],
          [
           "1-800-FLOWERS.COM Inc. Common Stock",
           "FLWS",
           2013879542
          ],
          [
           "James River Group Holdings Ltd. Common Shares",
           "JRVR",
           1429175681
          ],
          [
           "Preferred Bank Common Stock",
           "PFBC",
           1014808773
          ],
          [
           "Playa Hotels & Resorts N.V. Ordinary Shares",
           "PLYA",
           1435268300
          ],
          [
           "Stratasys Ltd. Ordinary Shares (Israel)",
           "SSYS",
           1494952560
          ],
          [
           "Cavco Industries Inc. Common Stock When Issued",
           "CVCO",
           2175479517
          ],
          [
           "Huazhu Group Limited American Depositary Shares",
           "HTHT",
           15415511133
          ],
          [
           "PDC Energy Inc. Common Stock (Delaware)",
           "PDCE",
           4502823596
          ],
          [
           "BioMarin Pharmaceutical Inc. Common Stock",
           "BMRN",
           14393152018
          ],
          [
           "Cohu Inc. Common Stock",
           "COHU",
           1516713369
          ],
          [
           "Kforce Inc. Common Stock",
           "KFRC",
           1386861675
          ],
          [
           "Kornit Digital Ltd. Ordinary Shares",
           "KRNT",
           6724129032
          ],
          [
           "New York Mortgage Trust Inc. Common Stock",
           "NYMT",
           1631413451
          ],
          [
           "Verra Mobility Corporation Class A Common Stock",
           "VRRM",
           2289867827
          ],
          [
           "Newell Brands Inc. Common Stock",
           "NWL",
           9324768000
          ],
          [
           "VeriSign Inc. Common Stock",
           "VRSN",
           23158567624
          ],
          [
           "American National Group Inc. Common Stock",
           "ANAT",
           5135186328
          ],
          [
           "CyrusOne Inc Common Stock",
           "CONE",
           9499817100
          ],
          [
           "OSI Systems Inc. Common Stock (DE)",
           "OSIS",
           1711260733
          ],
          [
           "LHC Group Common Stock",
           "LHCG",
           4580998961
          ],
          [
           "United Therapeutics Corporation Common Stock",
           "UTHR",
           8543548377
          ],
          [
           "Zions Bancorporation N.A. Common Stock",
           "ZION",
           10145610984
          ],
          [
           "Ascendis Pharma A/S American Depositary Shares",
           "ASND",
           9256237664
          ],
          [
           "J & J Snack Foods Corp. Common Stock",
           "JJSF",
           2926595069
          ],
          [
           "PacWest Bancorp Common Stock",
           "PACW",
           5502793842
          ],
          [
           "1st Source Corporation Common Stock",
           "SRCE",
           1190795101
          ],
          [
           "Blink Charging Co. Common Stock",
           "BLNK",
           1146228600
          ],
          [
           "Cerus Corporation Common Stock",
           "CERS",
           1038342086
          ],
          [
           "Cracker Barrel Old Country Store Inc Common Stock",
           "CBRL",
           3356100220
          ],
          [
           "Materialise NV American Depositary Shares",
           "MTLS",
           1118039067
          ],
          [
           "Precigen Inc. Common Stock",
           "PGEN",
           1000133527
          ],
          [
           "TriMas Corporation Common Stock",
           "TRS",
           1376354893
          ],
          [
           "Amarin Corporation plc",
           "AMRN",
           1940934804
          ],
          [
           "Amazon.com Inc. Common Stock",
           "AMZN",
           1645931690000
          ],
          [
           "Himax Technologies Inc. American Depositary Shares",
           "HIMX",
           1820728941
          ],
          [
           "Qurate Retail Inc. Series B Common Stock",
           "QRTEB",
           4166262516
          ],
          [
           "Biogen Inc. Common Stock",
           "BIIB",
           42297181458
          ],
          [
           "Cardiovascular Systems Inc. Common Stock",
           "CSII",
           1309962266
          ],
          [
           "Fulgent Genetics Inc. Common Stock",
           "FLGT",
           2317123619
          ],
          [
           "Microsoft Corporation Common Stock",
           "MSFT",
           2190064004916
          ],
          [
           "Premier Inc. Class A Common Stock",
           "PINC",
           4699462147
          ],
          [
           "Primoris Services Corporation Common Stock",
           "PRIM",
           1330921973
          ],
          [
           "Silicon Motion Technology Corporation American Depositary Shares",
           "SIMO",
           2411407879
          ],
          [
           "Vodafone Group Plc American Depositary Shares",
           "VOD",
           42441514260
          ],
          [
           "H&E Equipment Services Inc. Common Stock",
           "HEES",
           1362134837
          ],
          [
           "NanoString Technologies Inc. Common Stock",
           "NSTG",
           2078517808
          ],
          [
           "Host Hotels & Resorts Inc. Common Stock",
           "HST",
           11530671750
          ],
          [
           "Innoviva Inc. Common Stock",
           "INVA",
           1139363672
          ],
          [
           "Mondelez International Inc. Class A Common Stock",
           "MDLZ",
           83128203335
          ],
          [
           "UMB Financial Corporation Common Stock",
           "UMBF",
           4799943176
          ],
          [
           "WesBanco Inc. Common Stock",
           "WSBC",
           2305806562
          ],
          [
           "Hive Blockchain Technologies Ltd. Common Shares",
           "HIVE",
           1154015491
          ],
          [
           "Honeywell International Inc. Common Stock",
           "HON",
           148995065380
          ],
          [
           "Sapiens International Corporation N.V. Common Shares (Cayman Islands)",
           "SPNS",
           1503360405
          ],
          [
           "LendingTree Inc. Common Stock",
           "TREE",
           1787677002
          ],
          [
           "Veeco Instruments Inc. Common Stock",
           "VECO",
           1128820186
          ],
          [
           "FARO Technologies Inc. Common Stock",
           "FARO",
           1153740938
          ],
          [
           "Liberty Media Corporation Series A Liberty SiriusXM Common Stock",
           "LSXMA",
           16109298878
          ],
          [
           "Pan American Silver Corp. Common Stock",
           "PAAS",
           4918902615
          ],
          [
           "SVB Financial Group Common Stock",
           "SIVB",
           38431634740
          ],
          [
           "Adobe Inc. Common Stock",
           "ADBE",
           270849150000
          ],
          [
           "AeroVironment Inc. Common Stock",
           "AVAV",
           2110709541
          ],
          [
           "Pool Corporation Common Stock",
           "POOL",
           39902626727
          ],
          [
           "Willis Towers Watson Public Limited Company Ordinary Shares",
           "WLTW",
           30900335539
          ],
          [
           "Air Transport Services Group Inc",
           "ATSG",
           1909238430
          ],
          [
           "Booking Holdings Inc. Common Stock",
           "BKNG",
           100013766007
          ],
          [
           "Columbia Banking System Inc. Common Stock",
           "COLB",
           3055527974
          ],
          [
           "Dime Community Bancshares Inc. Common Stock",
           "DCOM",
           1383600531
          ],
          [
           "Extreme Networks Inc. Common Stock",
           "EXTR",
           1316555962
          ],
          [
           "Fastenal Company Common Stock",
           "FAST",
           29535857406
          ],
          [
           "Green Brick Partners Inc. Common Stock",
           "GRBK",
           1028397033
          ],
          [
           "Lincoln Electric Holdings Inc. Common Shares",
           "LECO",
           7895448603
          ],
          [
           "Seagen Inc. Common Stock",
           "SGEN",
           30593195848
          ],
          [
           "Viatris Inc. Common Stock",
           "VTRS",
           16295188949
          ],
          [
           "Wynn Resorts Limited Common stock",
           "WYNN",
           9751118662
          ],
          [
           "Central Garden & Pet Company Class A Common Stock Nonvoting",
           "CENTA",
           2359746826
          ],
          [
           "CSW Industrials Inc. Common Stock",
           "CSWI",
           2080061240
          ],
          [
           "Dicerna Pharmaceuticals Inc. Common Stock",
           "DRNA",
           1521646417
          ],
          [
           "Flex Ltd. Ordinary Shares",
           "FLEX",
           8631830924
          ],
          [
           "Fortinet Inc. Common Stock",
           "FTNT",
           49440290944
          ],
          [
           "Kulicke and Soffa Industries Inc. Common Stock",
           "KLIC",
           3423760122
          ],
          [
           "ACADIA Pharmaceuticals Inc. Common Stock",
           "ACAD",
           2718887582
          ],
          [
           "Citrix Systems Inc. Common Stock",
           "CTXS",
           13070457347
          ],
          [
           "Synopsys Inc. Common Stock",
           "SNPS",
           44687882005
          ],
          [
           "Aurora Cannabis Inc. Common Shares",
           "ACB",
           1451486959
          ],
          [
           "Garmin Ltd. Common Stock (Switzerland)",
           "GRMN",
           30069523280
          ],
          [
           "Matthews International Corporation Class A Common Stock",
           "MATW",
           1101701584
          ],
          [
           "Navient Corporation Common Stock",
           "NAVI",
           3094973067
          ],
          [
           "Omega Flex Inc. Common Stock",
           "OFLX",
           1446405305
          ],
          [
           "Children's Place Inc. (The) Common Stock",
           "PLCE",
           1184173972
          ],
          [
           "ViewRay Inc. Common Stock",
           "VRAY",
           1068078135
          ],
          [
           "Cal-Maine Foods Inc. Common Stock",
           "CALM",
           1744695219
          ],
          [
           "Calamos Convertible Opportunities and Income Fund Common Stock",
           "CHI",
           1093124648
          ],
          [
           "Bottomline Technologies Inc. Common Stock",
           "EPAY",
           1762617997
          ],
          [
           "McGrath RentCorp Common Stock",
           "MGRC",
           1810636017
          ],
          [
           "NorthWestern Corporation Common Stock",
           "NWE",
           3039018719
          ],
          [
           "SBA Communications Corporation Class A Common Stock",
           "SBAC",
           36499375836
          ],
          [
           "Sinclair Broadcast Group Inc. Class A Common Stock",
           "SBGI",
           2305836491
          ],
          [
           "Golden Entertainment Inc. Common Stock",
           "GDEN",
           1450124478
          ],
          [
           "IPG Photonics Corporation Common Stock",
           "IPGP",
           8197873078
          ],
          [
           "Mesa Laboratories Inc. Common Stock",
           "MLAB",
           1571274322
          ],
          [
           "Intellia Therapeutics Inc. Common Stock",
           "NTLA",
           9519511939
          ],
          [
           "ASML Holding N.V. New York Registry Shares",
           "ASML",
           301767509787
          ],
          [
           "Coherus BioSciences Inc. Common Stock",
           "CHRS",
           1270335325
          ],
          [
           "MKS Instruments Inc. Common Stock",
           "MKSI",
           7934611799
          ],
          [
           "PepsiCo Inc. Common Stock",
           "PEP",
           211518872866
          ],
          [
           "Live Oak Bancshares Inc. Common Stock",
           "LOB",
           2899906827
          ],
          [
           "Manhattan Associates Inc. Common Stock",
           "MANH",
           9787675173
          ],
          [
           "NVIDIA Corporation Common Stock",
           "NVDA",
           514975000000
          ],
          [
           "Plug Power Inc. Common Stock",
           "PLUG",
           14114785135
          ],
          [
           "Steel Dynamics Inc.",
           "STLD",
           11776901587
          ],
          [
           "Home BancShares Inc. Common Stock",
           "HOMB",
           3890443448
          ],
          [
           "Illumina Inc. Common Stock",
           "ILMN",
           122830590000
          ],
          [
           "Sunrun Inc. Common Stock",
           "RUN",
           8498851237
          ],
          [
           "Arch Capital Group Ltd. Common Stock",
           "ACGL",
           15718789180
          ],
          [
           "Alarm.com Holdings Inc. Common Stock",
           "ALRM",
           3891434614
          ],
          [
           "The Bancorp Inc Common Stock",
           "TBBK",
           1533902560
          ],
          [
           "Xcel Energy Inc. Common Stock",
           "XEL",
           34212264805
          ],
          [
           "CME Group Inc. Class A Common Stock",
           "CME",
           71186592188
          ],
          [
           "First Financial Bancorp. Common Stock",
           "FFBC",
           2262403176
          ],
          [
           "Amicus Therapeutics Inc. Common Stock",
           "FOLD",
           2902738590
          ],
          [
           "Nexstar Media Group Inc. Class A Common Stock",
           "NXST",
           6397860000
          ],
          [
           "Tellurian Inc. Common Stock",
           "TELL",
           1631373282
          ],
          [
           "Charter Communications Inc. Class A Common Stock New",
           "CHTR",
           151420491803
          ],
          [
           "Denny's Corporation Common Stock",
           "DENN",
           1039397968
          ],
          [
           "Independent Bank Corp. Common Stock",
           "INDB",
           2568877797
          ],
          [
           "Inovio Pharmaceuticals Inc. Common Stock",
           "INO",
           1352068949
          ],
          [
           "Melco Resorts & Entertainment Limited American Depositary Shares",
           "MLCO",
           4790772296
          ],
          [
           "Urban Outfitters Inc. Common Stock",
           "URBN",
           2914521231
          ],
          [
           "Wingstop Inc. Common Stock",
           "WING",
           4810141894
          ],
          [
           "Wix.com Ltd. Ordinary Shares",
           "WIX",
           9865107478
          ],
          [
           "Corcept Therapeutics Incorporated Common Stock",
           "CORT",
           2269843396
          ],
          [
           "HUTCHMED (China) Limited American Depositary Shares",
           "HCM",
           5734544236
          ],
          [
           "Overstock.com Inc. Common Stock",
           "OSTK",
           3212656655
          ],
          [
           "Baidu Inc. ADS",
           "BIDU",
           52003446632
          ],
          [
           "Dynavax Technologies Corporation Common Stock",
           "DVAX",
           2040434436
          ],
          [
           "East West Bancorp Inc. Common Stock",
           "EWBC",
           11057231302
          ],
          [
           "ExlService Holdings Inc. Common Stock",
           "EXLS",
           4159340145
          ],
          [
           "Progress Software Corporation Common Stock (DE)",
           "PRGS",
           2147920530
          ],
          [
           "Saia Inc. Common Stock",
           "SAIA",
           6476326808
          ],
          [
           "Zebra Technologies Corporation Class A Common Stock",
           "ZBRA",
           27006147427
          ],
          [
           "Signature Bank Common Stock",
           "SBNY",
           17396829716
          ],
          [
           "MercadoLibre Inc. Common Stock",
           "MELI",
           77053057500
          ]
         ],
         "hovertemplate": "returns_std=%{x}<br>returns_mean=%{y}<br>company=%{customdata[0]}<br>symbol=%{customdata[1]}<br>market_cap=%{customdata[2]}<br>reward_metric=%{marker.color}<extra></extra>",
         "legendgroup": "",
         "marker": {
          "color": [
           148.83025816256344,
           100.19336758775711,
           122.53662262155574,
           63.44281622125017,
           32.475456889854335,
           131.75105770158967,
           69.64307395435999,
           46.37905680520642,
           38.48349020665653,
           104.03264687539077,
           183.2561140708766,
           151.68562842578166,
           138.3514494772421,
           112.9435410774807,
           75.23166705873844,
           90.05573992590527,
           72.69993490811774,
           85.21535545496886,
           54.2219726310659,
           52.258713838286795,
           72.5767072416451,
           67.92814286824064,
           122.47776299008396,
           150.10599594457034,
           85.54823091483341,
           71.67829658685561,
           91.61320075089931,
           52.947681520267636,
           88.06637187202588,
           111.41015902801452,
           156.73564904239268,
           76.90875054606877,
           121.23237219409411,
           72.36161211158506,
           104.40306317601319,
           50.84940490034482,
           100.38833143712617,
           123.04232613850164,
           83.78933775460203,
           76.60367426690095,
           97.006293170862,
           219.87364400438045,
           105.82937442373137,
           103.18026494213187,
           106.49308278589262,
           93.27654130265239,
           61.07220357494543,
           33.79821325504499,
           52.72754184751041,
           34.38577836688554,
           100.08591016131845,
           150.79645926875415,
           66.1143316732145,
           94.21422179193064,
           133.5817656997945,
           77.45108285634426,
           70.68446380559008,
           128.9422569301841,
           74.26203597985545,
           78.56124576989778,
           144.39543055442516,
           93.34322515941653,
           106.18480388835441,
           65.96691417372162,
           159.15035522868993,
           47.99595720726605,
           52.112367885557084,
           76.44737761352425,
           109.83699437198747,
           136.56785467808183,
           93.10670123391759,
           167.92159894350044,
           54.05522469082182,
           98.84323934852905,
           111.75582525756475,
           66.30460528339708,
           105.02881294645002,
           130.64804475300284,
           33.718893586622684,
           71.60880651695634,
           76.8767107905595,
           186.680589094473,
           51.98733710838021,
           64.5729205931263,
           77.18649693676741,
           43.64303239852938,
           75.12680083224542,
           74.53942753683577,
           81.63516376070118,
           38.27978632603711,
           72.82320678788082,
           42.51505222769128,
           91.33122018129677,
           86.53205856054396,
           146.81206506265474,
           68.75107086758435,
           44.54109214078927,
           85.3988398420497,
           31.785227180009525,
           79.96595278013547,
           45.71393132076307,
           114.48060156554578,
           99.97283143877377,
           95.33727193166813,
           59.614057713470615,
           95.50426812942204,
           113.34661624281026,
           61.98661590224489,
           115.50424719920814,
           87.44964485598706,
           71.10696389503714,
           100.8747482932712,
           173.89197550960841,
           58.168171751844056,
           149.8412816142925,
           60.19499860486471,
           63.865157543322994,
           118.48555133674991,
           3.4754283791447707,
           133.88349150397624,
           75.7961512015249,
           114.25915479298429,
           118.43743894405635,
           106.80176802026219,
           75.64967313416204,
           70.04227831881876,
           132.61696315079578,
           96.15115941327143,
           95.97792482219681,
           56.922537036350334,
           76.4110365487093,
           92.39642385857994,
           37.291244625061026,
           194.46210652870457,
           62.314603877180694,
           126.91898267049724,
           92.98760427956431,
           88.56139984449725,
           58.61277704617668,
           88.54534825541421,
           97.8170572116345,
           119.94177852074411,
           84.5197819518959,
           108.30882285305181,
           29.510906142823323,
           59.89454890004774,
           94.77143807874391,
           82.67514399479475,
           70.91622735344912,
           96.89390737570162,
           168.93333304468996,
           108.66763275902481,
           118.33363682168466,
           127.41532716195947,
           119.30259977322075,
           59.719733680672434,
           101.24732708406692,
           194.53351783881754,
           27.10778811199578,
           78.24651528814528,
           93.8663112875989,
           135.6073498742873,
           44.07691532504341,
           100.5549703573316,
           174.82700428462906,
           80.90642158971602,
           71.80210302302503,
           86.65200381711018,
           135.59836805383833,
           91.98202922693525,
           30.73938478676456,
           87.62155081612835,
           62.533571358167826,
           102.34376123635954,
           132.8117219888416,
           92.08146795520906,
           31.242356151843126,
           102.89423186150398,
           70.5210285912558,
           73.7943286178204,
           58.72299797504164,
           63.90628743392532,
           38.49258726710447,
           56.55635595698154,
           80.75672825591674,
           71.38811883276252,
           159.78560643429046,
           90.14743291586166,
           162.03449135552952,
           33.639102149112716,
           130.7119697132202,
           104.08386628811976,
           99.57346268673936,
           15.503479167081759,
           182.99130648616375,
           117.25225803995627,
           122.13585705977883,
           113.30788578995984,
           59.712576170293474,
           162.05168719725995,
           81.21686646515377,
           104.16266580178484,
           71.3664850049084,
           128.63316851274047,
           57.300861441137016,
           36.08387770905933,
           80.25385002801217,
           78.0104225596706,
           156.64205254873644,
           109.711062673899,
           80.23445391558809,
           14.116674530643193,
           69.3840162812589,
           91.06431327729226,
           68.7553692807958,
           106.98606353316853,
           97.73402017606566,
           140.5014083911555,
           56.26577217274445,
           147.2047460615463,
           108.0617186751881,
           74.02961043878733,
           149.88940970324933,
           100.20890027714324,
           115.86421424680562,
           82.95228446431264,
           153.83296064554034,
           41.17935026629383,
           109.20263964785553,
           86.58507689499012,
           52.71191010299335,
           122.4822511940592,
           209.45560998692517,
           81.03089928864472,
           103.13489333759459,
           68.71097203112843,
           92.76349641812172,
           110.86147802676345,
           77.68389200217295,
           79.38006790106586,
           49.6522174588017,
           169.95157494624095,
           52.69202916351841,
           78.39375563186266,
           46.92462905979134,
           106.62355235755741,
           97.52049604177233,
           89.25916622393956,
           121.11089040137175,
           83.72207155837228,
           60.98197625415935,
           153.71165195305352,
           62.77001517072225,
           61.27107175365002,
           45.07630743309624,
           50.59592975819752,
           91.32287750047954,
           152.54708712983407,
           58.21338367194567,
           94.44944431582852,
           202.70541783446762,
           117.57027351615606,
           50.130406301605404,
           102.31838384679887,
           114.86959202857538,
           107.09804477915202,
           77.3738007871705,
           27.737596562335295,
           109.62199626013489,
           101.63354945339582,
           51.48199502908661,
           119.5878390091962,
           183.8247820682568,
           104.51597124627,
           33.58093391015649,
           -29.27668768452907,
           44.02373676188915,
           163.06107161279795,
           49.58495491573584,
           98.72512996283994,
           104.3954438025022,
           91.43963678702184,
           151.53384452694675,
           49.21928407874509,
           60.32569885695638,
           104.29558525407883,
           67.37568766837069,
           102.23457833019083,
           68.82142212680485,
           65.8631081648632,
           92.45517014178743,
           3.903989760826053,
           86.97478275998604,
           75.77046685541067,
           122.11675723526514,
           134.4488502247532,
           134.54046027674164,
           132.1029734376654,
           81.34600977131316,
           66.54260472749228,
           65.6806284253745,
           40.37829044498727,
           175.08505536112256,
           95.59539882665563,
           58.36284170555091,
           -3.844688361640209,
           49.86571694837425,
           72.01600842249714,
           116.76372463854898,
           108.71139867673322,
           47.141520098672885,
           133.0440264721504,
           142.0348076839927,
           102.04470574525658,
           94.55854847810811,
           97.61231796204437,
           103.88843607859948,
           94.76669201655012,
           84.68788904854098,
           125.4089464041072,
           14.217768129750404,
           75.93014585631558,
           45.27425197941454,
           0.5950080335489151,
           52.02935854856224,
           90.32931315587923,
           74.28992071264086,
           92.06720488747848,
           57.88100707342882,
           64.66298891785794,
           53.735776808704635,
           92.4682530022238,
           110.5542672328774,
           44.648175736367165,
           53.122708874597414,
           69.03047229343764,
           82.85112702699428,
           54.001704547790645,
           58.6934348555826,
           129.70675814808232,
           79.86650403260099,
           69.68278386361067,
           67.22927996857331,
           116.07089584022032,
           132.72410060349608,
           44.6488382681623,
           114.30520694535926,
           132.84430329617112,
           143.16814572168303,
           35.70365683382002,
           40.681021072554564,
           104.47591468301451,
           59.211357914658784,
           37.7976589552922,
           86.92951576150422,
           98.63861010378359,
           141.8286058584874,
           92.01858160100421,
           55.15233252449666,
           51.855885963952915,
           92.80972220883811,
           97.35572589376483,
           80.37159281384767,
           150.20280590733185,
           73.11767378243603,
           77.79687113013182,
           90.15802015254333,
           78.94037802634067,
           118.548643409839,
           95.95132012692288,
           77.07791925110959,
           59.17338528548842,
           57.74255906912924,
           95.29634062238276,
           21.017991144489283,
           118.43575832372066,
           77.86273625528182,
           55.065084618433296,
           72.6416257233423,
           130.79455175845695,
           140.46107907509733,
           91.95348016913867,
           51.44595039781842,
           68.15350151824484,
           69.90107383522124,
           101.21093322788494,
           54.97490978512391,
           109.4474729419739,
           72.17143676667264,
           91.90672447705711,
           119.00124074717704,
           132.33389812149656,
           80.06067271247865,
           61.07617875184059,
           106.5866785582608,
           52.65767696825846,
           76.85947378548273,
           99.87286543464127,
           131.8388468448864,
           94.5182364894735,
           59.05701812048511,
           67.58806536523943,
           48.1882641600414,
           118.5693241203754,
           74.99194870752163,
           72.09869212842965,
           58.455771883269215,
           75.7115896497882,
           63.66800964755953,
           85.59661705725978,
           128.18150007534237,
           29.140007352333296,
           60.26604426537327,
           102.94158685698991,
           77.75518641715018,
           104.58785572472264,
           102.01359213819195,
           114.13858336555843,
           46.213218333536595,
           147.65789163327008,
           24.568593150233138,
           94.29112890506494,
           162.83327215370957,
           163.64495260252582,
           113.16783228058937,
           50.920031969848274,
           -17.583156245218053,
           109.14822489310096,
           71.00869158978202,
           94.95509553634403,
           47.648976812416095,
           27.521026457547638,
           150.8328397109302,
           111.33195218473469,
           103.72136215537559,
           79.58309401729329,
           80.58198640147693,
           57.82100461049337,
           52.152095267976975,
           102.66897698202517,
           162.43551075179948,
           94.14402447699845,
           107.1565233455549,
           87.70926106937242,
           68.09929361963941,
           151.31464674085473,
           57.869921477451555,
           15.04070289490865,
           94.42246054316716,
           105.44352036773523,
           90.10442546241897,
           95.75045590829386,
           210.69633716762746,
           52.768083351627325,
           82.55470508741587,
           123.2298038798281,
           137.07384445458695,
           82.04612864640146,
           112.49196384859648,
           15.68615341461236,
           115.6330063777237,
           29.654570782453174,
           108.34686975097353,
           70.05021772270348,
           43.023025932551214,
           151.9125873453482,
           56.32046740971367,
           116.9739739845137,
           78.42326057829908,
           34.60856613642344,
           53.4231761173227,
           76.0185833182574,
           115.85703008728431,
           46.15317886182402,
           129.57060290976904,
           86.72291484846168,
           61.660520649092625,
           39.997250632793424,
           65.20819045877684,
           95.31522773657886,
           75.28722946565105,
           69.39606707370967,
           119.51152494260833,
           55.739176642019544,
           66.9637220791022,
           65.42053240257798,
           88.79058850328681,
           101.8821389720105,
           110.54483832182149,
           -1.9090942657194627,
           82.14790394855243,
           90.99020330825222,
           75.3210562560718,
           117.69489900959934,
           85.1232296440283,
           94.40138482204908,
           106.96599014129094,
           90.79686680659327,
           90.99019442696061,
           49.71600639108925,
           23.17634870415467,
           72.73426265804284,
           121.79919687880606,
           151.57594399118307,
           48.15766259750211,
           53.108669737681744,
           62.99197093258539,
           154.36861127032253,
           97.6378061214047,
           82.35072724947858,
           71.58089836110611,
           133.9209420113271,
           110.96764046305971,
           78.86627125948928,
           108.23177952226067,
           81.44016162300765,
           159.01361021984056,
           92.65623047195677,
           116.21043945305871,
           113.19671641091189,
           117.23681551937896,
           40.53299961106627,
           56.29421324633468,
           51.57431638380577,
           124.36886568770261,
           74.16744974469694,
           57.67505980974399,
           128.07194187059554,
           90.87415687693114,
           129.23852775954967,
           80.26764699838976,
           39.34280062272379,
           86.72854356332886,
           84.98773107809991,
           54.46759908962521,
           144.84110017657525,
           41.54778010121074,
           107.81900661858911,
           117.31701310990135,
           81.99972553804047,
           77.6848926338865,
           77.69083552158148,
           73.23021994029929,
           182.50153745200603,
           90.67913255755848,
           61.1376253372728,
           125.35746040168405,
           86.47477787534129,
           70.40153133805818,
           82.44566774840933,
           43.239820706309246,
           75.4286098348539,
           143.14623995552577,
           74.79563469035372,
           135.46734991395414,
           106.45753745587274,
           139.85166980435815,
           90.88277489038451,
           138.37900904413635,
           41.99829342041236,
           43.449026160784854,
           105.36367874633095,
           74.66343680471007,
           90.86251063304141,
           40.507524736346625,
           54.480265652471665,
           97.77718212474575,
           54.389697478081715,
           169.3169892427082,
           43.89682907667522,
           84.75500595707135,
           65.88343283189845,
           102.3302894692141,
           61.259449819853685,
           95.82185523621584,
           174.5235543851707,
           131.90397063595594,
           56.04421865964612,
           111.62000839515977,
           100.89829123438541,
           176.65660868343997,
           99.00218550737323,
           137.7339196100053,
           54.87201523124405,
           105.01483334618673,
           139.79641952283438,
           150.18306653674338,
           113.15628608216612,
           129.2860570403739,
           120.47737169516593,
           86.66625791791655,
           111.33287709616606,
           55.00568474735606,
           181.44792358884314,
           97.4546346248224,
           74.1888098293633,
           95.01402115292983,
           73.26788818931134,
           30.610739435581227,
           84.75211697432565,
           146.2894687043533,
           29.396553661405665,
           180.81938784419717,
           124.08938897880596,
           74.8520022150627,
           68.13336801129874,
           123.49748959889594,
           64.44186967462203,
           109.1335930360415,
           114.268065856266,
           66.12017023418538,
           46.30304691989421,
           132.0286820589082,
           40.39908598517119,
           78.87345489472553,
           68.70772653710242,
           152.75033597857797,
           96.40658215483047,
           55.23189266628335,
           149.4649491653465,
           59.976205360551496,
           57.84782245974091,
           120.01949434112525,
           67.25776138211432,
           51.36414220586892,
           84.72389338556395,
           106.57439559101974,
           41.300438070092675,
           140.02835406242124,
           109.39923800864412,
           115.45227443930453,
           106.76837133678085,
           64.19382070985779,
           71.49816920924604,
           113.27617121398943,
           177.1963035221764,
           45.705756563466736,
           80.7258477666178,
           146.35117502301733,
           -1.4494528355629217,
           150.41636713107124,
           120.46501738593903,
           92.21887598833412,
           109.71232986942191,
           -11.638274233158612,
           110.55605916793834,
           88.19012393651307,
           75.45058771534399,
           73.1869724748823,
           79.20053250522186,
           80.3896808023133,
           47.56198382572566,
           -2.9233632777054526,
           73.39094020383749,
           24.44873952282876,
           100.76871891277499,
           167.64625348388049,
           111.93748254936334,
           130.08146922944567,
           52.74102060405177,
           50.070103429761694,
           80.09821730977153,
           86.56823659314554,
           104.4492189704373,
           52.65375976007919,
           82.34969728520362,
           87.1146361904563,
           85.92424532404415,
           102.2331490676649,
           99.73888390313856,
           120.13280763841023,
           125.72703069660135,
           90.32467003918426,
           59.15989248631647,
           133.62999010132646,
           56.513438958040645,
           49.7323214877497,
           81.44904491634425,
           92.84841438477264,
           101.01872492795587,
           113.81919804136314,
           84.5308421950795,
           113.8855313907131,
           30.862027180622587,
           35.26082231059941,
           92.03200909193959,
           109.9187711412679,
           54.66114156868573,
           74.81094477092262,
           61.624867352452476,
           91.02020146359288,
           151.90793967920885,
           68.65517059343574,
           71.49325680906907,
           56.233181692735755,
           131.45344785261645,
           85.55806232783418,
           120.64869946413744,
           69.18233217139394,
           91.2663726850593,
           77.26537356067266,
           69.22350930224863,
           135.619646115712,
           93.13062495115524,
           75.44874778365353,
           76.73023267569873,
           61.37944633168527,
           66.19692062624652,
           89.37960953333318,
           73.02695552529123,
           29.41165352663145,
           57.218642335788914,
           54.52544882601112,
           159.11254507633078,
           95.6323326949635,
           45.761988352750116,
           88.33312995165012,
           69.60928819541458,
           150.13233596549748,
           173.25912055119016,
           39.707144003660176,
           72.95822053467548,
           131.96611346349246,
           30.006374507464656,
           92.02122340838018,
           109.51699759294411,
           35.52098288586476,
           28.70736669210497,
           109.102988769578,
           71.021765231829,
           66.04936653339168,
           -4.445243672476686,
           128.55552419571225,
           129.70495873790992,
           125.25833499478593,
           21.272697444853303,
           61.654603898431574,
           66.65989010743884,
           26.66364366719885,
           122.19694644572607,
           168.3006403909228,
           78.83224838393515,
           189.63114708872803,
           91.13774083234225,
           75.48986217441424,
           107.47909670584193,
           68.40247359301584,
           72.53326799811727,
           76.65418588974265,
           105.97449863850137,
           65.02845910542315,
           105.90584544137062,
           112.06323933028095,
           13.633640629318043,
           45.49715373509009,
           85.34253426810356,
           156.0849248315834,
           34.69553134252107,
           65.85373677013571,
           137.52426916953968,
           106.95184432538915,
           102.16816619091048,
           56.090761339850964,
           174.10567213075018,
           76.95397574218292,
           141.349957719543,
           34.19466725912928,
           64.71159177067591,
           117.80207163439947,
           57.00746872498616,
           70.62691912950996,
           75.21653297455269,
           97.13337664299961,
           56.51010785864492,
           86.46176468980822,
           93.68591984002202,
           155.09337100215356,
           88.80792073367509,
           104.49864334089081,
           91.63661653646338,
           128.55059366967515,
           139.64750847407336,
           176.0404772030247,
           59.52014985735025,
           107.19879256479315,
           110.10408783845887,
           108.5258445940473,
           149.54785402584318,
           177.83092447044191,
           100.49839085477993,
           85.53843254699629,
           95.11713200057837,
           101.86677653797011,
           109.00811445019372,
           104.46378942399741,
           125.33081285902206,
           68.33496883552547,
           127.24298974144767,
           111.63838839458757,
           56.49377482158997,
           74.4830120137943,
           147.71010996264195,
           44.95379975515436,
           176.84697150424208,
           86.73012677855283,
           85.00492512140158,
           75.37902932386181,
           68.43903476595631,
           31.308391822324126,
           160.0874338224232,
           145.81871069658297,
           86.83234871369902,
           101.93489537158588,
           87.24016626689823,
           49.03982748881349,
           53.39300037416183,
           92.05161525377099,
           109.33794875090264,
           51.38602347352295,
           146.09225751731853,
           142.3077174898366,
           101.21099878837931,
           144.54875490869574
          ],
          "coloraxis": "coloraxis",
          "symbol": "circle"
         },
         "mode": "markers",
         "name": "",
         "orientation": "v",
         "showlegend": false,
         "type": "scatter",
         "x": [
          0.0291230038537928,
          0.0212254161445521,
          0.05561978268317704,
          0.024318832051931073,
          0.033235470175119394,
          0.01677266978102183,
          0.026534286627744787,
          0.028562681305175672,
          0.01667617904396448,
          0.021063394262108636,
          0.017797923532876594,
          0.021364049227978663,
          0.02246289594386805,
          0.021993058068483225,
          0.017729833294343224,
          0.023816447275258557,
          0.026013952713451267,
          0.021283064023093063,
          0.07155983320500155,
          0.036116653342677316,
          0.02064622903086337,
          0.020144825275508038,
          0.02134394950472924,
          0.027201050346238553,
          0.022314798358013033,
          0.046554197617652,
          0.03706222876534378,
          0.021949026608066316,
          0.019891967676427633,
          0.019071802994142066,
          0.02124086570302712,
          0.016014581683032013,
          0.02391380841150716,
          0.0413234348688687,
          0.029629528505534405,
          0.04234662889131471,
          0.03683227500609911,
          0.024706676101597252,
          0.0658083453360715,
          0.018615518455334525,
          0.018176871857622914,
          0.03064148088152068,
          0.047003442387516386,
          0.01714263207855798,
          0.033743844472069975,
          0.027591717537385114,
          0.041223362726789295,
          0.02301769283151259,
          0.023366730990984023,
          0.02780293068025952,
          0.03157706455513402,
          0.0403936482090215,
          0.027951866758769494,
          0.020919490233294792,
          0.024729896859073692,
          0.02426152319233421,
          0.0250344633356781,
          0.017909641332502887,
          0.028814245174300576,
          0.05981504057992016,
          0.016203412774537424,
          0.022475785067870253,
          0.02904200778930798,
          0.02788763812236661,
          0.017796986770263458,
          0.02544015097194654,
          0.022482455953156674,
          0.023533951121147274,
          0.02148887969359907,
          0.02214232632834915,
          0.016475845697309314,
          0.038795177057329586,
          0.034131690218356436,
          0.023945531314941898,
          0.017989768491879738,
          0.04966603697583822,
          0.020471674136064738,
          0.022807081442030346,
          0.023703134071895733,
          0.014218326255763683,
          0.03793864326515291,
          0.018257795052780943,
          0.0317967110123215,
          0.05264433430679678,
          0.021148890490641125,
          0.03626753695570177,
          0.020655460433647996,
          0.044111543454398314,
          0.01956403591302666,
          0.015174861532797276,
          0.023209157004244665,
          0.033718075158629804,
          0.020404968961183753,
          0.013351384105613723,
          0.034180956043802786,
          0.030293053509539043,
          0.03966301810550367,
          0.016465567982974667,
          0.02789016880513391,
          0.022316572722383857,
          0.02143364239731831,
          0.025785905585221716,
          0.01798767579596505,
          0.018002107249654765,
          0.029420383970895796,
          0.02927999584656268,
          0.015622387283645848,
          0.02744991157257342,
          0.024778657427236707,
          0.019989735425920606,
          0.020912850016843856,
          0.022854407660864287,
          0.02020578341677119,
          0.017712701169404047,
          0.0280068180028848,
          0.04923676115890036,
          0.07266816415291005,
          0.03116485706544369,
          0.03706758364763087,
          0.020782342579016296,
          0.017261145632871854,
          0.016152991923819623,
          0.03817476025933322,
          0.061085735417141636,
          0.045777107336240665,
          0.014697329132635672,
          0.03101051059067684,
          0.027075673770452963,
          0.026376628986259133,
          0.02113834117891315,
          0.022912977365491652,
          0.023112364927182154,
          0.03558946289786404,
          0.02289625446713667,
          0.023734239155927605,
          0.029546130269357405,
          0.018378963687043354,
          0.05165173404952818,
          0.03802830214708551,
          0.036472879775325075,
          0.02144492848444489,
          0.050767439782022236,
          0.049414985869449535,
          0.02658910335283272,
          0.018918022490903397,
          0.019784472765770205,
          0.020931393977724616,
          0.07371306258735849,
          0.02006572468754043,
          0.04539122058802225,
          0.029707133810728974,
          0.03481478613236189,
          0.023477714279582118,
          0.021532835598717274,
          0.020264398126477526,
          0.03004001232866957,
          0.017363844126441777,
          0.030692194108967098,
          0.07028249146827792,
          0.07495968571372354,
          0.021767324637704297,
          0.02393869814012239,
          0.021282516303383885,
          0.0496443654689978,
          0.03484451953875296,
          0.029612717445668207,
          0.03880808389062226,
          0.02646321925039617,
          0.04040223173384222,
          0.026916704582854844,
          0.021843352110014695,
          0.0182440901125791,
          0.01859997852574549,
          0.0314675473904199,
          0.04888209579453169,
          0.026517592180576775,
          0.03761587030061403,
          0.018650346266025287,
          0.025364098929966595,
          0.050692073775742426,
          0.030486031126795488,
          0.07401629338155492,
          0.03912151601366786,
          0.02385098311842472,
          0.021639544293326804,
          0.01765990980999098,
          0.01727826991206658,
          0.03640993741784433,
          0.01671764823566928,
          0.05763262408708742,
          0.01811314303232001,
          0.016188627867389935,
          0.027057529822656558,
          0.027928788637446127,
          0.016069569680465825,
          0.020734429668566014,
          0.017162760182114732,
          0.0169975829073002,
          0.019728557414115958,
          0.028401755677778254,
          0.017144097508165534,
          0.01541811192570424,
          0.019910216163402,
          0.01397089573918397,
          0.019155789213968683,
          0.032150195309888246,
          0.02094315016286693,
          0.02132950227773436,
          0.03163590901440524,
          0.01809974905339385,
          0.035236438209104236,
          0.04140981564576688,
          0.022572402284100904,
          0.026755530657340366,
          0.019835876778159893,
          0.01984396427578254,
          0.08793666437707386,
          0.013915629419872632,
          0.020736179691394425,
          0.029960079077799337,
          0.024101127709655182,
          0.04087283895600263,
          0.027858486421486427,
          0.028904513681153456,
          0.028666900996674342,
          0.016130657169405784,
          0.035945556363864255,
          0.024926255573417176,
          0.020420049544356247,
          0.030391855724716147,
          0.02791569975485868,
          0.026226467119547764,
          0.02365860129166943,
          0.04479275822925106,
          0.02157289106214316,
          0.01840648192903815,
          0.02622853436709236,
          0.017090952732712043,
          0.024357229974444877,
          0.03415718295293423,
          0.028796227364329574,
          0.02319141498557825,
          0.017695219682624816,
          0.024732166659636776,
          0.019015687759395078,
          0.015549634681094994,
          0.036296092263815284,
          0.051872322445129015,
          0.027706094104319467,
          0.01843204195008625,
          0.029169518068585035,
          0.027804794620494247,
          0.018956626018652785,
          0.034285534252514696,
          0.021068270736451025,
          0.04740733391929148,
          0.02067402887517662,
          0.02966472947831927,
          0.024808767453468526,
          0.0222202635054197,
          0.04339380984084376,
          0.022156603175789796,
          0.01847144112328797,
          0.023278577493591548,
          0.020977999845317785,
          0.012186249669940329,
          0.052581577249524496,
          0.03484270177052325,
          0.014971245486170421,
          0.03562419993242533,
          0.022916433886457477,
          0.019992982790345296,
          0.030434724178747388,
          0.03347138898579848,
          0.03437798641560987,
          0.030008360681075794,
          0.025291961800766125,
          0.03558746875623869,
          0.028565633347978,
          0.024305332116681035,
          0.022396643076610646,
          0.019066855489849464,
          0.016202000434778308,
          0.02660913319821744,
          0.01661864575190356,
          0.024190722869114265,
          0.020046286610195738,
          0.027513739739112576,
          0.022745725775270866,
          0.019224175401707448,
          0.019644889591821965,
          0.03905412832503942,
          0.02876434692688605,
          0.021456771557962887,
          0.02345990328806078,
          0.023221291822411175,
          0.03137749040667634,
          0.03153279005699801,
          0.017142206550129612,
          0.03612335324586115,
          0.021547629070114364,
          0.019157514628062994,
          0.012118076754003344,
          0.0324880143397763,
          0.025876486215798612,
          0.03274702586817492,
          0.025133844087831595,
          0.021096230979914088,
          0.03615879444003873,
          0.06069044546499227,
          0.02490813202620987,
          0.013779023679305873,
          0.015918062676434218,
          0.023856663763624487,
          0.034998561220202014,
          0.06857473084423041,
          0.018291906329931187,
          0.01609354289508816,
          0.02518952305029006,
          0.022035513154546375,
          0.05760523912705586,
          0.04287579081144947,
          0.029353454621374602,
          0.019956331185447734,
          0.02217141160875204,
          0.018934210742994288,
          0.033499939753068524,
          0.020792114108953583,
          0.02338868953666437,
          0.04700416532900803,
          0.019613382218734945,
          0.03714114210009014,
          0.024196960308791475,
          0.04671027948264629,
          0.029976404229956226,
          0.037892508706360864,
          0.01870074419101394,
          0.045311112941531825,
          0.0148752353079474,
          0.022243237551507696,
          0.033379571222334696,
          0.02311911740840546,
          0.025453338577936118,
          0.018144982659574652,
          0.018414344894086113,
          0.028978512448116465,
          0.022267281772758923,
          0.031096081760814895,
          0.019502382160602124,
          0.02298752529422819,
          0.01962523990796382,
          0.032920072759615726,
          0.027571593101942217,
          0.04499917648075732,
          0.02389941059359938,
          0.013420935655197395,
          0.022794056635168206,
          0.01618428089714331,
          0.014811338761479715,
          0.04749795346009399,
          0.025582543836028402,
          0.022041505790586922,
          0.018879095288751275,
          0.014552132049304315,
          0.02132522095014552,
          0.02407127440580428,
          0.03656073521538549,
          0.06609138323120094,
          0.03259723993561836,
          0.03209226131397937,
          0.014866922037755742,
          0.03037918986226722,
          0.026051409964829828,
          0.016816484237345913,
          0.027420646038621377,
          0.019649809695645948,
          0.020611702433550528,
          0.05704232887679591,
          0.01823752327864262,
          0.025529301353392715,
          0.021491758797953845,
          0.021440737631050928,
          0.020641141958772237,
          0.04522889095745793,
          0.018403997097653307,
          0.029679209108526672,
          0.02058242579772422,
          0.012145329437224232,
          0.015529668000573522,
          0.021846081253709185,
          0.04028734006541759,
          0.021127866681582532,
          0.01448470957924613,
          0.043789088536552986,
          0.028125953501282296,
          0.021310823402285003,
          0.031987259162476474,
          0.024230758793550706,
          0.02492934606496836,
          0.020055683599949314,
          0.028647664617604644,
          0.020448444472821972,
          0.04152679889823461,
          0.027642535649353057,
          0.019948316561114295,
          0.025429557503506194,
          0.03488783900713774,
          0.03243946382886317,
          0.026086982271098506,
          0.030298477624540878,
          0.03776963910751232,
          0.016672573330334454,
          0.03989959320175074,
          0.023471994869583616,
          0.03134262781575815,
          0.03312044307155982,
          0.04898170770956709,
          0.026510063197698015,
          0.04330568068776687,
          0.018576286126446896,
          0.0364482822388842,
          0.026854210506383553,
          0.035393839400246464,
          0.016965789285584777,
          0.027222710235682467,
          0.048200546033886765,
          0.02601438632933398,
          0.03673363347739813,
          0.04517772433571675,
          0.02347502406679812,
          0.018915208698481657,
          0.028675735656385506,
          0.016185011376928224,
          0.04005400634947831,
          0.029773863717006514,
          0.027195375055586724,
          0.02596356426480806,
          0.02787983589908397,
          0.03090883598084154,
          0.04834923235195362,
          0.08299485868955471,
          0.027597955609253103,
          0.04805767649892688,
          0.031751041897757265,
          0.027840657405952908,
          0.014069481383976842,
          0.024535904133294085,
          0.01859476396438355,
          0.02134061731116983,
          0.023294634711111702,
          0.01971093898131267,
          0.026465862096627366,
          0.028341636283742547,
          0.02391053643415872,
          0.017192689936693734,
          0.013328159220746412,
          0.02517895095741787,
          0.05227218059139094,
          0.03822927417663182,
          0.04555166852839339,
          0.019437050126179734,
          0.026231464956893106,
          0.022458995290586196,
          0.031626006045790404,
          0.046630092715781536,
          0.01598848810249939,
          0.041037566874280715,
          0.046542882725784815,
          0.016674390716474082,
          0.029280746541304466,
          0.017456818959543877,
          0.022719793278062804,
          0.020894158263606813,
          0.03847050949233829,
          0.023181173032249935,
          0.03561591645298968,
          0.03281982894893985,
          0.02163812150676372,
          0.04863538541827092,
          0.041444259724114745,
          0.030634595065276136,
          0.032280942423445085,
          0.029976818752589753,
          0.018365634111716163,
          0.020450254122688787,
          0.03769831144781255,
          0.03167911761414721,
          0.01804783336722182,
          0.021101832710656025,
          0.03316296801299658,
          0.02088890381188384,
          0.01541464325903867,
          0.02251293310829624,
          0.027774478997921466,
          0.02796917207890518,
          0.03483293559784914,
          0.029253154944767153,
          0.0235438983773153,
          0.02383731551630971,
          0.04893007152872724,
          0.025534595672694907,
          0.02066012962573525,
          0.01877917899212475,
          0.025624864831204804,
          0.0281257789311633,
          0.018177012094031098,
          0.027256247069457354,
          0.019069631541632083,
          0.019184305803049667,
          0.02358656792829404,
          0.021938261037620935,
          0.016968513019519446,
          0.02440106739619027,
          0.033233320612488876,
          0.01912048258286685,
          0.02454671263337812,
          0.022362519645580187,
          0.021998174370085496,
          0.016769320828962344,
          0.025772476581126923,
          0.01850199084363326,
          0.024470195263399865,
          0.03622224965071048,
          0.04287246777962998,
          0.024287968262352376,
          0.01928596218605889,
          0.016812650526888198,
          0.02221031831118464,
          0.015683891281082683,
          0.012461450357716808,
          0.021765080564401105,
          0.019945054597702135,
          0.014254734854352745,
          0.015700383550862822,
          0.026522085005016814,
          0.031853684773090814,
          0.03854442410103638,
          0.03628494998038844,
          0.018663934112041394,
          0.021617937329062607,
          0.021011411133531152,
          0.023045877232007468,
          0.07501923183855498,
          0.01727911706504801,
          0.0378789472593334,
          0.02053025833902737,
          0.012443243251789813,
          0.027256146612496184,
          0.02860044286001146,
          0.020205687391176938,
          0.03646481303465729,
          0.03813710531830983,
          0.016303915034401824,
          0.02078064486110165,
          0.01699823273747147,
          0.03350687816456512,
          0.04915294492457488,
          0.020198833575621918,
          0.013824331135807442,
          0.03375204612852894,
          0.02238182526873678,
          0.03001942529386324,
          0.027622907355625392,
          0.030249152718097673,
          0.026832084821157263,
          0.02203492709835259,
          0.03094490608762935,
          0.01817326793541465,
          0.02917594882953154,
          0.04433052679142158,
          0.01830418653481463,
          0.01289009551832398,
          0.030600782610503932,
          0.01877672261129655,
          0.02138252738641047,
          0.018320312800736996,
          0.014886028587492214,
          0.022257515950845855,
          0.024986315574371323,
          0.0433211678894614,
          0.015863502232903393,
          0.033282542998930645,
          0.020156646976830957,
          0.023371637511025042,
          0.019897291423356295,
          0.035569098512345396,
          0.01644452409731858,
          0.019994635318504598,
          0.05332900676087355,
          0.01952768644514625,
          0.017750338836296186,
          0.015808169783756407,
          0.02146255284984698,
          0.021671862294742605,
          0.020752717442785628,
          0.01904472900734036,
          0.04461746958757826,
          0.02638064221281681,
          0.03593154196333431,
          0.04270585244045338,
          0.042173785387671615,
          0.031262468785054315,
          0.017952901353443847,
          0.02969773772373754,
          0.030337367820310643,
          0.030683301628747134,
          0.04707207009036142,
          0.02541470703639381,
          0.01873746375261157,
          0.02603273207539301,
          0.023954433512301667,
          0.028975907530895958,
          0.016321682389887605,
          0.04328675914648417,
          0.043273853145300314,
          0.01381447818421937,
          0.07895730420554914,
          0.07116544220132916,
          0.017896864967356513,
          0.013468091527770483,
          0.017843371559508922,
          0.025257964028071074,
          0.037055980681109914,
          0.04937781300088371,
          0.038792416375849535,
          0.05489002190757904,
          0.025427452138094612,
          0.03590306017831913,
          0.024901794788929427,
          0.028755566694397224,
          0.022706791939630093,
          0.024591667936605766,
          0.02035120700627925,
          0.025156489577671953,
          0.020852454445052047,
          0.030339560236637197,
          0.056594322968830164,
          0.07175804742631316,
          0.03276006619170632,
          0.02245952209415088,
          0.023009860022064475,
          0.035406286647884894,
          0.02420143734216305,
          0.03135038989672059,
          0.018638703503441018,
          0.02015912403959411,
          0.025074693148683633,
          0.02140763002847451,
          0.021747030432234884,
          0.037635285481543296,
          0.029908366026508152,
          0.027908098787979205,
          0.03608790731673597,
          0.021492653748996664,
          0.03133183485813084,
          0.019911048366738546,
          0.027855071913447615,
          0.029267879205118537,
          0.05260753774443428,
          0.018422371150362434,
          0.01775621992387463,
          0.020513329749255887,
          0.019538752141877606,
          0.022307169239543782,
          0.021134293820639714,
          0.0187947426884946,
          0.027580270727885887,
          0.04192225718298933,
          0.04928099785974835,
          0.023361347641536242,
          0.02518683826355372,
          0.04232698913950106,
          0.07390136236381625,
          0.02287785217423303,
          0.01906939840712069,
          0.04190884755680417,
          0.03754363759517049,
          0.03727356525772126,
          0.030356810927704744,
          0.015574358236805363,
          0.030899717764189365,
          0.02131625167962378,
          0.022628689932029072,
          0.030599855966909135,
          0.03658371964766665,
          0.02714988618645123,
          0.02862858833040779,
          0.04861360756792993,
          0.02416309975329508,
          0.029720006625579547,
          0.02488677283772515,
          0.03142743123109431,
          0.02800597639134063,
          0.024977704366625293,
          0.02225663334195452,
          0.0166308569521959,
          0.01564342624739881,
          0.01825990441373479,
          0.0234246219401076,
          0.02263331110504614,
          0.022664925728361325,
          0.021184528301499573,
          0.03299327032806961,
          0.017096212934053126,
          0.023420917110783337,
          0.019490128991551437,
          0.08900562554777572,
          0.03289353933190802,
          0.020402682641843653,
          0.03767244952900258,
          0.05453728965005364,
          0.022340642062158664,
          0.07730047066961732,
          0.019628859919689493,
          0.03963805286669226,
          0.04230549474766681,
          0.025613818453450822,
          0.029923989961768236,
          0.059087763936410576,
          0.01600572964833655,
          0.017045095013550223,
          0.025212448685880906,
          0.030080689963632334,
          0.015874223009124812,
          0.03465165834206489,
          0.039733385513899766,
          0.020831161226007505,
          0.02993410567878118,
          0.013028723070723575,
          0.01927466972088404,
          0.01909865978621922,
          0.031555968910794534,
          0.014689264009615363,
          0.024951490628586724,
          0.03321563930458811,
          0.03136215336469375,
          0.028386123002214304,
          0.020539603037214072,
          0.030952762049233615,
          0.023884691204649283,
          0.01841150437416326,
          0.026926208425660556,
          0.016923463968920402,
          0.014261941335084934,
          0.02580360860510186,
          0.019899366051712723,
          0.020884624184900696,
          0.025652258165891242,
          0.034234364193180475,
          0.017131913882418328,
          0.05911777964893684,
          0.017443748462570397,
          0.026922726234631017,
          0.022665412715936643,
          0.02925706630838093,
          0.02387677639096946,
          0.01901869893070229,
          0.045597709650491904,
          0.023445608247371918,
          0.025220281970390414,
          0.026092283814917468,
          0.05116833277378978,
          0.019308852279104775,
          0.015194029936838993,
          0.064328561013237,
          0.0166867700214135,
          0.019891868577105808,
          0.02646123055502595,
          0.02843643667433386,
          0.031014070590332836,
          0.05342805439007768,
          0.018926490001332747,
          0.01307133078778719,
          0.02355337303747606,
          0.01976477579012401,
          0.014622922790986401,
          0.015142059635960771,
          0.028577814451416127,
          0.03336617713705292,
          0.027952798051220053,
          0.021057763328425086,
          0.04945000677377374,
          0.021315744567516545,
          0.04140945654556672,
          0.022941929815878326,
          0.011013392955449484,
          0.028371634259256793,
          0.022875358551613833,
          0.02662683234469136,
          0.060882527216841315,
          0.02393367893870689,
          0.021437805707947146,
          0.026394925357064117,
          0.04261238470412658,
          0.015044994130384872,
          0.0261863831940014,
          0.03041626182281811,
          0.012082465599788051,
          0.0159629305470313,
          0.02140231157240455,
          0.0443131531587146,
          0.027855289581557047,
          0.06047715205982768,
          0.017717888049121933,
          0.027203644618140257,
          0.01921320272358037,
          0.05555280825716958,
          0.029348481947304775,
          0.02713158590071268,
          0.025629373479479734,
          0.0313652051539485,
          0.03969886200215783,
          0.03314525341240809,
          0.04718935892250359,
          0.025160541322489734,
          0.05196517016467631,
          0.021530965313270048,
          0.01867985722500474,
          0.019932674163814987,
          0.025430946211231684,
          0.022351116934407975,
          0.021434232458895735,
          0.028381258021805484
         ],
         "xaxis": "x",
         "y": [
          0.0017337536728117247,
          0.0008506583687896891,
          0.0027261841283765624,
          0.0006171420770344445,
          0.00043173483155445173,
          0.0008839267936516467,
          0.0007391717143768862,
          0.0005298840875047,
          0.00025670302916914323,
          0.0008765122629068319,
          0.0013046313220662288,
          0.0012962476931461116,
          0.0012431096853162428,
          0.0009935895429508614,
          0.000533537966162786,
          0.0008579231127118879,
          0.000756485067588304,
          0.000725457546359494,
          0.001552046127010094,
          0.0007549639407326313,
          0.0005993741280067699,
          0.0005473602277481821,
          0.0010456636754850191,
          0.0016332163011842152,
          0.0007635966090996978,
          0.0013347702336804588,
          0.0013581557616620778,
          0.0004648600282095102,
          0.0007007253690634377,
          0.0008499170418113324,
          0.0013316803488745018,
          0.0004926645871039805,
          0.0011596510887688378,
          0.0011960921460397703,
          0.0012373654145755167,
          0.0008613203514636407,
          0.0014790122523582624,
          0.0012159867594764213,
          0.0022056150697742334,
          0.0005704068448247716,
          0.0007053083841399038,
          0.0026949016236442035,
          0.001989737961453103,
          0.0007075125278684405,
          0.0014373944091513732,
          0.0010294639921948083,
          0.0010070406401977174,
          0.00031118275638343317,
          0.0004928281144666514,
          0.0003824101649285144,
          0.0012641676984893185,
          0.0024364876507472375,
          0.000739207595909914,
          0.0007883653970455049,
          0.0013213853152035464,
          0.000751632497196238,
          0.0007078190470172442,
          0.0009237238296892127,
          0.0008559218047465144,
          0.0018796576414942066,
          0.0009358795056121617,
          0.0008391849064899459,
          0.0012335279606526916,
          0.0007358645722103861,
          0.0011329587065950896,
          0.0004884097589583736,
          0.0004686456062406934,
          0.0007196435392386272,
          0.0009441095831864628,
          0.001209572001697861,
          0.0006136046571662019,
          0.0026058192651051953,
          0.0007379984735323129,
          0.0009467415532361999,
          0.0008041845696010225,
          0.0013172347910694229,
          0.0008600462534149689,
          0.0011918802387695044,
          0.0003196973821758811,
          0.00040726294953757675,
          0.0011666392424325473,
          0.0013633503744077205,
          0.0006612105337341213,
          0.0013597593675483133,
          0.0006529635084287603,
          0.0006331301161490216,
          0.0006207114648387994,
          0.0013152196787428422,
          0.0006388453102320681,
          0.0002323561828010719,
          0.0006760660959570006,
          0.0005734102905545464,
          0.0007454442851945599,
          0.000462129100516513,
          0.0020072706970426066,
          0.0008330719474519374,
          0.0007066536576076128,
          0.0005624561612345739,
          0.00035459814062399847,
          0.0007138264002130427,
          0.0003919264226019219,
          0.0011807943933234196,
          0.0007193115521301298,
          0.0006865087176813562,
          0.000701547387197379,
          0.0011185458296633943,
          0.000708297894494386,
          0.0006806108500798782,
          0.0011448160690960174,
          0.0006992381055047601,
          0.0005948197084360172,
          0.0009221730480725976,
          0.001405449438024651,
          0.0004121261775243935,
          0.0016786310013961994,
          0.0011855227077072256,
          0.001856385500803863,
          0.0014770341086920405,
          0.00005153029286211958,
          0.0011129650344441808,
          0.0005233313617202785,
          0.0007382508818374126,
          0.0018085283349675066,
          0.00260962581734747,
          0.0013852092828056232,
          0.00041177376706054035,
          0.0016450078961164612,
          0.001041342969969822,
          0.0010126296455624626,
          0.0004812992034574773,
          0.0007003217403657326,
          0.0008541999464744398,
          0.0005308701467995125,
          0.0017809815501186638,
          0.0005915958845311601,
          0.0014999859182547306,
          0.0006836063209597078,
          0.0018297399487287591,
          0.000891577758076706,
          0.001291801536633605,
          0.0008390719185849424,
          0.0024356548073602097,
          0.0016706175323367566,
          0.001151933793945378,
          0.00022331519445474834,
          0.00047399282861243454,
          0.0007934793233046886,
          0.0024376952254828725,
          0.0005691941975813335,
          0.0017592530893303473,
          0.002007410051940419,
          0.0015132961576061967,
          0.0011112813259853403,
          0.0010974453170140995,
          0.0009670381517313411,
          0.0007175926144129053,
          0.0007032171222826419,
          0.0023882641960836807,
          0.0007620811546820916,
          0.0023461336776773732,
          0.0008172873881363891,
          0.0012985053656890113,
          0.000375227067603243,
          0.001996795079257444,
          0.0024367051866789617,
          0.0009583436008305481,
          0.0011146008150562628,
          0.0009172363901993409,
          0.0021913906755368015,
          0.0009903412430531744,
          0.00026858048221701093,
          0.0006394301875573498,
          0.0004652492337600379,
          0.0012882028627275853,
          0.002596846126758107,
          0.0009767115258500331,
          0.00047008336675732876,
          0.0007676052211974963,
          0.000715480938332646,
          0.0014963150202103729,
          0.0007160924576503472,
          0.0018920426078541574,
          0.000602355347671014,
          0.0005395698764678345,
          0.0006990155192312266,
          0.0005042830960366017,
          0.0011043275344139651,
          0.0013129049563383372,
          0.001083534251410935,
          0.0007754838915147792,
          0.0009470418413807355,
          0.0006739899913350174,
          0.001077684774476652,
          0.0001731973571209903,
          0.0011762366201995545,
          0.000972463479124011,
          0.0008384753697416114,
          0.0007703840731062979,
          0.00047121719492816287,
          0.0018410209707793296,
          0.0005569559511945023,
          0.0006423966559246576,
          0.0005683688573079655,
          0.0007188482343569517,
          0.00043905728941809856,
          0.0004640414863537521,
          0.0006723073729139445,
          0.0006655693942694056,
          0.0019822054889046038,
          0.0007942970811114947,
          0.0011308705510551364,
          0.00023382755593809093,
          0.0006264655710348731,
          0.0009745896102720961,
          0.0005455292131562982,
          0.000849211049103519,
          0.00343776149217794,
          0.0007820662128566013,
          0.0004666948648996356,
          0.0017641063330525193,
          0.0010417637129262155,
          0.0012103201381760665,
          0.001670276833977035,
          0.0011585958116136117,
          0.0013285871835482565,
          0.0005352299448451411,
          0.0022118445430017526,
          0.0004105788036339619,
          0.0008919693247934767,
          0.0010525924659623973,
          0.0005885959423761057,
          0.0012849106934676735,
          0.0019821707059936304,
          0.001451838992374022,
          0.0008899671274710731,
          0.0005058909060070445,
          0.0009732202215257419,
          0.0007578913123336035,
          0.0007568657691227462,
          0.0010845598008452193,
          0.0005719186172347152,
          0.0015765670008123511,
          0.00037295881262869275,
          0.0007755389717448265,
          0.0003569216377705715,
          0.0006631829150242491,
          0.0014158451687780807,
          0.0018520321006206249,
          0.0013422038906073309,
          0.0006172674940448162,
          0.0007115259432814899,
          0.0017095683653326186,
          0.0004759630811106174,
          0.0008402845717192214,
          0.00037987193951998855,
          0.0009594472548015545,
          0.0007552047225636525,
          0.0018101072289648508,
          0.0005776809192787367,
          0.0008394766162552697,
          0.0035184641420870667,
          0.0010419831582266154,
          0.00037039233939464334,
          0.0009527305709587013,
          0.0009638937135228686,
          0.0005220494051364783,
          0.0016273745932719698,
          0.00038658112194101587,
          0.0006564711266778141,
          0.0014482455542279239,
          0.00047191349417079827,
          0.0009563670428981775,
          0.002237862615786298,
          0.001399317891524973,
          0.00046177795591474105,
          -0.0003514181614338232,
          0.00044537866740347354,
          0.0023211723165516983,
          0.0005665702566795718,
          0.0009598188288037291,
          0.0009352429974676027,
          0.0006973865362649874,
          0.000982060565963688,
          0.0005238729943888924,
          0.00040101256761590866,
          0.0010091942397414005,
          0.0005402529382236758,
          0.0011251422322059155,
          0.0006261572780641848,
          0.0005064655775451841,
          0.0007265086438514116,
          0.00006098676683957625,
          0.0010007091300795145,
          0.0006503158392626982,
          0.0011459389258363668,
          0.0012488303945026584,
          0.001688616800657312,
          0.0016662301309260353,
          0.0005577800406114847,
          0.0009614968065883654,
          0.0005661047273607917,
          0.000309419075942408,
          0.0008486776557380032,
          0.001242281875158809,
          0.0006040901075634098,
          -0.000050360843693481187,
          0.0005013268620433519,
          0.0006077065391729752,
          0.0016888142069034313,
          0.0026390972851253244,
          0.00046968288261358814,
          0.0007332867164599831,
          0.0009043675883796305,
          0.0009737784935290344,
          0.0013237652591218025,
          0.002677495372531452,
          0.0007601270166051142,
          0.0006100527291975832,
          0.0008532990133074519,
          0.0011053801952742022,
          0.0003276071731869223,
          0.0013022260200072932,
          0.0005315822803977695,
          0.0000047496709502016585,
          0.0004614257296478061,
          0.0006841257006253375,
          0.0009954831472534825,
          0.0007657087318851445,
          0.0005415043618039604,
          0.0012157719287051237,
          0.00042157613174790285,
          0.0013737506098010725,
          0.001070030886480584,
          0.0008342115068144068,
          0.000636971118006086,
          0.0010462951089533152,
          0.0006197510929876085,
          0.0009787509335200699,
          0.0003492314618033892,
          0.0011540392934095004,
          0.0010663638638540344,
          0.0006444017845949426,
          0.000684483850156382,
          0.0008424417569208373,
          0.000977610945708064,
          0.000517542766219152,
          0.001018106500458334,
          0.0016523749267024915,
          0.0011168479564356145,
          0.0003282954858255523,
          0.000319349919299926,
          0.0013757418851968969,
          0.0006530205869745751,
          0.0006803454103554684,
          0.0008310256759547832,
          0.0005295289757283933,
          0.0012931397097701244,
          0.0005957018289549421,
          0.0003267519522024383,
          0.0009852193832591107,
          0.0009497235147268879,
          0.0008583467184136842,
          0.0006069371836965389,
          0.0008743084262958078,
          0.0006237002195084443,
          0.0007490679331545584,
          0.0013184974009362103,
          0.002086911510621902,
          0.0015457434293090337,
          0.0012317179355737988,
          0.00045836456653547153,
          0.0007190558025523769,
          0.0006017100314913154,
          0.0006410197639812187,
          0.0002305307582463677,
          0.0009308960448882506,
          0.000641953420142358,
          0.001256416266573307,
          0.0005299213360511599,
          0.0013356374108894273,
          0.0012075022527929255,
          0.0007886201770274186,
          0.00042476126614613,
          0.0012330029154150558,
          0.0005145836639945044,
          0.0012015441805358108,
          0.0004526068005555585,
          0.0005317102459807833,
          0.0004483193808443246,
          0.0008031207082752211,
          0.00191769738167526,
          0.0011183731827860417,
          0.00046386223718373153,
          0.0010697880795354736,
          0.0011991407859943063,
          0.0004488713818580505,
          0.0009834095628271213,
          0.0009679981249470162,
          0.001314662495121014,
          0.0007582511381832258,
          0.0006767382593725831,
          0.0005528283206586242,
          0.0008004417420116182,
          0.0013110227075668697,
          0.000598385252940995,
          0.0007333751349629964,
          0.000815758223400586,
          0.000982417349548014,
          0.0006643624955648056,
          0.0010373788746583117,
          0.0019365475992420976,
          0.0001943355637713048,
          0.0009618362600268386,
          0.0009664977594296254,
          0.0009748207474470528,
          0.0013855984486028752,
          0.0019987199810063637,
          0.001210328423326671,
          0.0008005179506824758,
          0.0010971740975230058,
          0.00035819320694080583,
          0.0010128455298004642,
          0.0023053178734500084,
          0.0011105463134015846,
          0.0012322940424699187,
          0.000981749338003863,
          -0.00018296600778085757,
          0.0016037643551727171,
          0.00128320443763324,
          0.0008916292611923164,
          0.0003605161362703855,
          0.00031567427187561105,
          0.0009764924906943185,
          0.0017837162878828715,
          0.001235274280542572,
          0.0008657168359537243,
          0.0008368782330082541,
          0.0006448160480242931,
          0.000644784223478049,
          0.001985586489376525,
          0.005392524904404497,
          0.0010392730433570563,
          0.0020598774134761534,
          0.0011139441692139896,
          0.0007583716413007102,
          0.0008515674421773951,
          0.0005679563382288031,
          0.00011187132807569867,
          0.0008060134384123052,
          0.0009825073158480236,
          0.0007104171328943905,
          0.0010136473447032418,
          0.0023885915817286737,
          0.0005046852718159238,
          0.0005677349789532535,
          0.0006569705787406811,
          0.0013805502428267079,
          0.0017154920213716762,
          0.0017201944514543001,
          0.0002858121843311793,
          0.0008990258164818706,
          0.00031115313371665065,
          0.0009733447349947482,
          0.0008861634436828618,
          0.0008024670752593345,
          0.0009715410381563994,
          0.000924501979086749,
          0.0021777223812520902,
          0.0005230640352569672,
          0.0004053458612794351,
          0.00037303948548957224,
          0.0006908505993128006,
          0.0009682940490380699,
          0.000710214522202155,
          0.0012014394263777212,
          0.0012354864359210198,
          0.0008094750962423175,
          0.0003461861476515465,
          0.0012685701901562513,
          0.0015801076215911682,
          0.0009225575153066983,
          0.0008960681782479821,
          0.0014330301288200719,
          0.0004094741295582587,
          0.0005477700534074983,
          0.000986497442237639,
          0.001125122998489988,
          0.0007355007469051927,
          0.0009330794741174377,
          -0.00002532449282713989,
          0.0006863918655716736,
          0.0005610326096256433,
          0.000678279160455665,
          0.001307565800281842,
          0.000952330503130396,
          0.0013153109431416838,
          0.001251637073369448,
          0.0008550848820292259,
          0.0008675847893783303,
          0.000973043099535463,
          0.0002367194773319904,
          0.000601079717898976,
          0.0009149155677136566,
          0.0015536452305745343,
          0.0005417887088235583,
          0.0003861427728478978,
          0.0006867698892522494,
          0.0011775010154073937,
          0.000749245412228761,
          0.0007769484088856967,
          0.0006281441734213433,
          0.0009089756992422051,
          0.0010830915494941323,
          0.0010483952313112498,
          0.0008277775421072281,
          0.0007996352976703351,
          0.001422377992982326,
          0.0008153071657587736,
          0.0007795080571452179,
          0.001166943889104277,
          0.0008676457949105085,
          0.00039674016603764097,
          0.0008156412184396269,
          0.0008844472869684622,
          0.0012082668250590746,
          0.0005721562524850593,
          0.00038786824987944025,
          0.001137807438270985,
          0.0005701041586871361,
          0.0006441997991920136,
          0.0006988127214539448,
          0.00031387772257869426,
          0.0004945169571197737,
          0.0005337359900175012,
          0.0005778377172296865,
          0.0018454890988849183,
          0.0006405741026710668,
          0.0015648829048362707,
          0.0008758388011618781,
          0.0007090659710726773,
          0.000652907687197926,
          0.0007161813829929806,
          0.002197469938915874,
          0.0012613861720737823,
          0.0013739320318679438,
          0.0005020684969635504,
          0.0006239413492819055,
          0.0009427876896213374,
          0.0008054059897165757,
          0.0006663485557124791,
          0.0006306927910830677,
          0.0011506515349142094,
          0.0009335376534915951,
          0.0006217206086643741,
          0.0009210822168663514,
          0.0014268238948934222,
          0.002749648569401379,
          0.0007342904179606349,
          0.0007651988973084135,
          0.0005670113347381006,
          0.0003889874046509839,
          0.0012651828331248353,
          0.000824968479083639,
          0.0010994055841954573,
          0.00043476053584831143,
          0.0004801874727804383,
          0.0012102822873453153,
          0.00039537541807813017,
          0.0019759935256462384,
          0.0007783878229768019,
          0.0006205485755190237,
          0.00033969749691130125,
          0.0012525547770069442,
          0.0004601006786352132,
          0.0008195653775220178,
          0.001278930442973105,
          0.0007854105110762295,
          0.0004989620363079066,
          0.0011155891016701755,
          0.0017484127257298328,
          0.0011209570025227564,
          0.001318017798454903,
          0.0011105015977256366,
          0.0005129795397936323,
          0.0008358042971457089,
          0.0019889730470723445,
          0.0009878756226690704,
          0.0009050074696837156,
          0.002757878803997113,
          0.0009410577352794152,
          0.0006153421774867425,
          0.0007039876094601112,
          0.00047222496637286057,
          0.0015729257654737549,
          0.0008089793983435409,
          0.0005651623114309331,
          0.0016957140796737455,
          0.0007731415776043555,
          0.0004399564274233117,
          0.0014477645606086381,
          0.00246783226304556,
          0.0003676035364911475,
          0.0012984930531027901,
          0.0014740696512765708,
          0.0009083250893140256,
          0.0008362226726692442,
          0.002325312994553164,
          0.0006551084954631957,
          0.000817954697482036,
          0.0011898839772838147,
          0.0006335484886787446,
          0.0005366691223798366,
          0.0008619720859683807,
          0.0006994982019112838,
          0.0013652633216707283,
          0.0003796645557336447,
          0.004824301898144167,
          0.0027443268200669116,
          0.00039539108997600065,
          0.0008052030462209796,
          0.0004280710867910924,
          0.0005844472875161512,
          0.0017789760254645272,
          0.0013284164657536394,
          0.0007970156764953656,
          0.0018601985456115982,
          0.0010839661372148064,
          0.0005931248453685919,
          0.0013947829349975863,
          0.0012583348339495206,
          0.0010486203098601446,
          0.0010502449336185326,
          0.0005225686935161168,
          0.0007194571794140094,
          0.0009448344799798523,
          0.0021504231697682076,
          0.0010346745393950262,
          0.002317091685026519,
          0.0019177896723952179,
          -0.000013021607193902033,
          0.0013844238210853636,
          0.001706087574643598,
          0.0008927317395985491,
          0.0013758097271536005,
          -0.00008676893708943229,
          0.0008914853240380699,
          0.0008845361185809779,
          0.0006460873068964192,
          0.0006366397270617609,
          0.0011922938604497096,
          0.0009617295992758965,
          0.0005309458172642484,
          -0.00004219922520759355,
          0.0006309464264457591,
          0.0003064095476874909,
          0.0008025643344506177,
          0.0018679193787254234,
          0.0013104690871119321,
          0.002737306320935812,
          0.00038864586256670157,
          0.0003556223072439992,
          0.0006572324576011595,
          0.0006765741272611559,
          0.0009319865618046847,
          0.00044512001181235586,
          0.0006190965483803298,
          0.0009610581001976282,
          0.001440855324291539,
          0.002015260640159571,
          0.0009320138960960172,
          0.0012103062384540998,
          0.0021286586651347045,
          0.002670046468383157,
          0.0005413805099781871,
          0.0010192974081527154,
          0.0009473652392813133,
          0.0007468529018810338,
          0.0012143585163473711,
          0.0011274327041662898,
          0.000629320724261314,
          0.0014067924382497985,
          0.0007207522827683504,
          0.001030832151033924,
          0.0003777494346295544,
          0.0005159888151828633,
          0.0009994634289426417,
          0.0012587276995150668,
          0.00106291011417406,
          0.0007230657284552208,
          0.0007325965864061393,
          0.0009060796309873657,
          0.0019096305310902235,
          0.0007691020347132899,
          0.0007142949731136591,
          0.0005006245226346917,
          0.000874473394843923,
          0.0005353684951583299,
          0.0008812134879426261,
          0.0006482279904199385,
          0.0008262640825640129,
          0.0007004855812506955,
          0.000586586956777042,
          0.0017898142584371287,
          0.0006368723979385564,
          0.000706831547181339,
          0.0005981928529604492,
          0.0021852464066111103,
          0.0008709804049082535,
          0.0007294335231842002,
          0.0011004417185133,
          0.0006416127469875684,
          0.0005113204830826154,
          0.001685937143089117,
          0.0012492791435074308,
          0.0015162717836512264,
          0.0007743934231600239,
          0.0009050195016026582,
          0.0008331950564821673,
          0.0035483936107004793,
          0.0011092554570603604,
          0.0002707248169036435,
          0.0007357821565774752,
          0.0015878526979203375,
          0.00019053115225072466,
          0.0012754751975064056,
          0.0017405924342741123,
          0.0002959773285606809,
          0.00034373173932839723,
          0.0005685890507468385,
          0.0005475684271350677,
          0.0005045817522066164,
          -0.00005610958845183218,
          0.0007553544139221253,
          0.001294532824972075,
          0.0016642142700320302,
          0.0002668630398984873,
          0.0007000540679654721,
          0.0005476670725244429,
          0.0003301253671185443,
          0.0011674545328028932,
          0.0012394671906927814,
          0.0008490614202597121,
          0.0012836863540564537,
          0.000519920445265216,
          0.0007791643428806675,
          0.0008555063553027918,
          0.000571423981723092,
          0.0007442568465213926,
          0.0010496829266724824,
          0.0007262183937629056,
          0.0015377352465217225,
          0.0007389579714380507,
          0.0012068191653820358,
          0.00012360483667370225,
          0.0005324452974680527,
          0.000815081842943263,
          0.001187412877197273,
          0.0006328147057303269,
          0.0006175923655752613,
          0.001387360338491064,
          0.0011162471506667695,
          0.002091109890617746,
          0.00043321928997348136,
          0.001058146717811237,
          0.0019801354094968696,
          0.0009434696948010143,
          0.00027207833086258503,
          0.0006849393397706301,
          0.0013399484600547765,
          0.000707213463685165,
          0.0015093835506620305,
          0.0005694339837111146,
          0.000507864998654148,
          0.0005324014603130685,
          0.0006835589574050082,
          0.0005479847889692732,
          0.0009393732291427192,
          0.001015174512217215,
          0.0013946880977175513,
          0.0010245999344563413,
          0.0010827951908898238,
          0.0027622280959934214,
          0.0015009735382413574,
          0.0009858788236414258,
          0.0009837388701473535,
          0.00048504783414650963,
          0.0012316222281997004,
          0.0013683843125862276,
          0.0018940296846303713,
          0.002447438406585958,
          0.0008188997526000181,
          0.0008156410381302244,
          0.0010755063852337806,
          0.0018580382835292459,
          0.0006286628394887209,
          0.001312784276616812,
          0.0008313977215021834,
          0.0006149636185460902,
          0.0007128303361301226,
          0.00048363894825317275,
          0.0013202308476358583,
          0.0016458031548532105,
          0.0010874711133838056,
          0.001253341937175367,
          0.0009437502186280004,
          0.0006532867435441035,
          0.0016750067050560233,
          0.000803432710527853,
          0.000339778528856223,
          0.0016411762523225522,
          0.0018294535105130357,
          0.0013788581715633535,
          0.0013514631754634075,
          0.0016467230073710201,
          0.0004935474423920239,
          0.0011098305400183781,
          0.0007927840540237693,
          0.0008169669087766988,
          0.0004097043449887525,
          0.001486105737120134,
          0.001272294573713613,
          0.0008677520301708547,
          0.0016409902039177663
         ],
         "yaxis": "y"
        }
       ],
       "layout": {
        "coloraxis": {
         "colorbar": {
          "title": {
           "text": "reward_metric"
          }
         },
         "colorscale": [
          [
           0,
           "#0d0887"
          ],
          [
           0.1111111111111111,
           "#46039f"
          ],
          [
           0.2222222222222222,
           "#7201a8"
          ],
          [
           0.3333333333333333,
           "#9c179e"
          ],
          [
           0.4444444444444444,
           "#bd3786"
          ],
          [
           0.5555555555555556,
           "#d8576b"
          ],
          [
           0.6666666666666666,
           "#ed7953"
          ],
          [
           0.7777777777777778,
           "#fb9f3a"
          ],
          [
           0.8888888888888888,
           "#fdca26"
          ],
          [
           1,
           "#f0f921"
          ]
         ]
        },
        "legend": {
         "tracegroupgap": 0
        },
        "margin": {
         "t": 60
        },
        "template": {
         "data": {
          "bar": [
           {
            "error_x": {
             "color": "#f2f5fa"
            },
            "error_y": {
             "color": "#f2f5fa"
            },
            "marker": {
             "line": {
              "color": "rgb(17,17,17)",
              "width": 0.5
             },
             "pattern": {
              "fillmode": "overlay",
              "size": 10,
              "solidity": 0.2
             }
            },
            "type": "bar"
           }
          ],
          "barpolar": [
           {
            "marker": {
             "line": {
              "color": "rgb(17,17,17)",
              "width": 0.5
             },
             "pattern": {
              "fillmode": "overlay",
              "size": 10,
              "solidity": 0.2
             }
            },
            "type": "barpolar"
           }
          ],
          "carpet": [
           {
            "aaxis": {
             "endlinecolor": "#A2B1C6",
             "gridcolor": "#506784",
             "linecolor": "#506784",
             "minorgridcolor": "#506784",
             "startlinecolor": "#A2B1C6"
            },
            "baxis": {
             "endlinecolor": "#A2B1C6",
             "gridcolor": "#506784",
             "linecolor": "#506784",
             "minorgridcolor": "#506784",
             "startlinecolor": "#A2B1C6"
            },
            "type": "carpet"
           }
          ],
          "choropleth": [
           {
            "colorbar": {
             "outlinewidth": 0,
             "ticks": ""
            },
            "type": "choropleth"
           }
          ],
          "contour": [
           {
            "colorbar": {
             "outlinewidth": 0,
             "ticks": ""
            },
            "colorscale": [
             [
              0,
              "#0d0887"
             ],
             [
              0.1111111111111111,
              "#46039f"
             ],
             [
              0.2222222222222222,
              "#7201a8"
             ],
             [
              0.3333333333333333,
              "#9c179e"
             ],
             [
              0.4444444444444444,
              "#bd3786"
             ],
             [
              0.5555555555555556,
              "#d8576b"
             ],
             [
              0.6666666666666666,
              "#ed7953"
             ],
             [
              0.7777777777777778,
              "#fb9f3a"
             ],
             [
              0.8888888888888888,
              "#fdca26"
             ],
             [
              1,
              "#f0f921"
             ]
            ],
            "type": "contour"
           }
          ],
          "contourcarpet": [
           {
            "colorbar": {
             "outlinewidth": 0,
             "ticks": ""
            },
            "type": "contourcarpet"
           }
          ],
          "heatmap": [
           {
            "colorbar": {
             "outlinewidth": 0,
             "ticks": ""
            },
            "colorscale": [
             [
              0,
              "#0d0887"
             ],
             [
              0.1111111111111111,
              "#46039f"
             ],
             [
              0.2222222222222222,
              "#7201a8"
             ],
             [
              0.3333333333333333,
              "#9c179e"
             ],
             [
              0.4444444444444444,
              "#bd3786"
             ],
             [
              0.5555555555555556,
              "#d8576b"
             ],
             [
              0.6666666666666666,
              "#ed7953"
             ],
             [
              0.7777777777777778,
              "#fb9f3a"
             ],
             [
              0.8888888888888888,
              "#fdca26"
             ],
             [
              1,
              "#f0f921"
             ]
            ],
            "type": "heatmap"
           }
          ],
          "heatmapgl": [
           {
            "colorbar": {
             "outlinewidth": 0,
             "ticks": ""
            },
            "colorscale": [
             [
              0,
              "#0d0887"
             ],
             [
              0.1111111111111111,
              "#46039f"
             ],
             [
              0.2222222222222222,
              "#7201a8"
             ],
             [
              0.3333333333333333,
              "#9c179e"
             ],
             [
              0.4444444444444444,
              "#bd3786"
             ],
             [
              0.5555555555555556,
              "#d8576b"
             ],
             [
              0.6666666666666666,
              "#ed7953"
             ],
             [
              0.7777777777777778,
              "#fb9f3a"
             ],
             [
              0.8888888888888888,
              "#fdca26"
             ],
             [
              1,
              "#f0f921"
             ]
            ],
            "type": "heatmapgl"
           }
          ],
          "histogram": [
           {
            "marker": {
             "pattern": {
              "fillmode": "overlay",
              "size": 10,
              "solidity": 0.2
             }
            },
            "type": "histogram"
           }
          ],
          "histogram2d": [
           {
            "colorbar": {
             "outlinewidth": 0,
             "ticks": ""
            },
            "colorscale": [
             [
              0,
              "#0d0887"
             ],
             [
              0.1111111111111111,
              "#46039f"
             ],
             [
              0.2222222222222222,
              "#7201a8"
             ],
             [
              0.3333333333333333,
              "#9c179e"
             ],
             [
              0.4444444444444444,
              "#bd3786"
             ],
             [
              0.5555555555555556,
              "#d8576b"
             ],
             [
              0.6666666666666666,
              "#ed7953"
             ],
             [
              0.7777777777777778,
              "#fb9f3a"
             ],
             [
              0.8888888888888888,
              "#fdca26"
             ],
             [
              1,
              "#f0f921"
             ]
            ],
            "type": "histogram2d"
           }
          ],
          "histogram2dcontour": [
           {
            "colorbar": {
             "outlinewidth": 0,
             "ticks": ""
            },
            "colorscale": [
             [
              0,
              "#0d0887"
             ],
             [
              0.1111111111111111,
              "#46039f"
             ],
             [
              0.2222222222222222,
              "#7201a8"
             ],
             [
              0.3333333333333333,
              "#9c179e"
             ],
             [
              0.4444444444444444,
              "#bd3786"
             ],
             [
              0.5555555555555556,
              "#d8576b"
             ],
             [
              0.6666666666666666,
              "#ed7953"
             ],
             [
              0.7777777777777778,
              "#fb9f3a"
             ],
             [
              0.8888888888888888,
              "#fdca26"
             ],
             [
              1,
              "#f0f921"
             ]
            ],
            "type": "histogram2dcontour"
           }
          ],
          "mesh3d": [
           {
            "colorbar": {
             "outlinewidth": 0,
             "ticks": ""
            },
            "type": "mesh3d"
           }
          ],
          "parcoords": [
           {
            "line": {
             "colorbar": {
              "outlinewidth": 0,
              "ticks": ""
             }
            },
            "type": "parcoords"
           }
          ],
          "pie": [
           {
            "automargin": true,
            "type": "pie"
           }
          ],
          "scatter": [
           {
            "marker": {
             "line": {
              "color": "#283442"
             }
            },
            "type": "scatter"
           }
          ],
          "scatter3d": [
           {
            "line": {
             "colorbar": {
              "outlinewidth": 0,
              "ticks": ""
             }
            },
            "marker": {
             "colorbar": {
              "outlinewidth": 0,
              "ticks": ""
             }
            },
            "type": "scatter3d"
           }
          ],
          "scattercarpet": [
           {
            "marker": {
             "colorbar": {
              "outlinewidth": 0,
              "ticks": ""
             }
            },
            "type": "scattercarpet"
           }
          ],
          "scattergeo": [
           {
            "marker": {
             "colorbar": {
              "outlinewidth": 0,
              "ticks": ""
             }
            },
            "type": "scattergeo"
           }
          ],
          "scattergl": [
           {
            "marker": {
             "line": {
              "color": "#283442"
             }
            },
            "type": "scattergl"
           }
          ],
          "scattermapbox": [
           {
            "marker": {
             "colorbar": {
              "outlinewidth": 0,
              "ticks": ""
             }
            },
            "type": "scattermapbox"
           }
          ],
          "scatterpolar": [
           {
            "marker": {
             "colorbar": {
              "outlinewidth": 0,
              "ticks": ""
             }
            },
            "type": "scatterpolar"
           }
          ],
          "scatterpolargl": [
           {
            "marker": {
             "colorbar": {
              "outlinewidth": 0,
              "ticks": ""
             }
            },
            "type": "scatterpolargl"
           }
          ],
          "scatterternary": [
           {
            "marker": {
             "colorbar": {
              "outlinewidth": 0,
              "ticks": ""
             }
            },
            "type": "scatterternary"
           }
          ],
          "surface": [
           {
            "colorbar": {
             "outlinewidth": 0,
             "ticks": ""
            },
            "colorscale": [
             [
              0,
              "#0d0887"
             ],
             [
              0.1111111111111111,
              "#46039f"
             ],
             [
              0.2222222222222222,
              "#7201a8"
             ],
             [
              0.3333333333333333,
              "#9c179e"
             ],
             [
              0.4444444444444444,
              "#bd3786"
             ],
             [
              0.5555555555555556,
              "#d8576b"
             ],
             [
              0.6666666666666666,
              "#ed7953"
             ],
             [
              0.7777777777777778,
              "#fb9f3a"
             ],
             [
              0.8888888888888888,
              "#fdca26"
             ],
             [
              1,
              "#f0f921"
             ]
            ],
            "type": "surface"
           }
          ],
          "table": [
           {
            "cells": {
             "fill": {
              "color": "#506784"
             },
             "line": {
              "color": "rgb(17,17,17)"
             }
            },
            "header": {
             "fill": {
              "color": "#2a3f5f"
             },
             "line": {
              "color": "rgb(17,17,17)"
             }
            },
            "type": "table"
           }
          ]
         },
         "layout": {
          "annotationdefaults": {
           "arrowcolor": "#f2f5fa",
           "arrowhead": 0,
           "arrowwidth": 1
          },
          "autotypenumbers": "strict",
          "coloraxis": {
           "colorbar": {
            "outlinewidth": 0,
            "ticks": ""
           }
          },
          "colorscale": {
           "diverging": [
            [
             0,
             "#8e0152"
            ],
            [
             0.1,
             "#c51b7d"
            ],
            [
             0.2,
             "#de77ae"
            ],
            [
             0.3,
             "#f1b6da"
            ],
            [
             0.4,
             "#fde0ef"
            ],
            [
             0.5,
             "#f7f7f7"
            ],
            [
             0.6,
             "#e6f5d0"
            ],
            [
             0.7,
             "#b8e186"
            ],
            [
             0.8,
             "#7fbc41"
            ],
            [
             0.9,
             "#4d9221"
            ],
            [
             1,
             "#276419"
            ]
           ],
           "sequential": [
            [
             0,
             "#0d0887"
            ],
            [
             0.1111111111111111,
             "#46039f"
            ],
            [
             0.2222222222222222,
             "#7201a8"
            ],
            [
             0.3333333333333333,
             "#9c179e"
            ],
            [
             0.4444444444444444,
             "#bd3786"
            ],
            [
             0.5555555555555556,
             "#d8576b"
            ],
            [
             0.6666666666666666,
             "#ed7953"
            ],
            [
             0.7777777777777778,
             "#fb9f3a"
            ],
            [
             0.8888888888888888,
             "#fdca26"
            ],
            [
             1,
             "#f0f921"
            ]
           ],
           "sequentialminus": [
            [
             0,
             "#0d0887"
            ],
            [
             0.1111111111111111,
             "#46039f"
            ],
            [
             0.2222222222222222,
             "#7201a8"
            ],
            [
             0.3333333333333333,
             "#9c179e"
            ],
            [
             0.4444444444444444,
             "#bd3786"
            ],
            [
             0.5555555555555556,
             "#d8576b"
            ],
            [
             0.6666666666666666,
             "#ed7953"
            ],
            [
             0.7777777777777778,
             "#fb9f3a"
            ],
            [
             0.8888888888888888,
             "#fdca26"
            ],
            [
             1,
             "#f0f921"
            ]
           ]
          },
          "colorway": [
           "#636efa",
           "#EF553B",
           "#00cc96",
           "#ab63fa",
           "#FFA15A",
           "#19d3f3",
           "#FF6692",
           "#B6E880",
           "#FF97FF",
           "#FECB52"
          ],
          "font": {
           "color": "#f2f5fa"
          },
          "geo": {
           "bgcolor": "rgb(17,17,17)",
           "lakecolor": "rgb(17,17,17)",
           "landcolor": "rgb(17,17,17)",
           "showlakes": true,
           "showland": true,
           "subunitcolor": "#506784"
          },
          "hoverlabel": {
           "align": "left"
          },
          "hovermode": "closest",
          "mapbox": {
           "style": "dark"
          },
          "paper_bgcolor": "rgb(17,17,17)",
          "plot_bgcolor": "rgb(17,17,17)",
          "polar": {
           "angularaxis": {
            "gridcolor": "#506784",
            "linecolor": "#506784",
            "ticks": ""
           },
           "bgcolor": "rgb(17,17,17)",
           "radialaxis": {
            "gridcolor": "#506784",
            "linecolor": "#506784",
            "ticks": ""
           }
          },
          "scene": {
           "xaxis": {
            "backgroundcolor": "rgb(17,17,17)",
            "gridcolor": "#506784",
            "gridwidth": 2,
            "linecolor": "#506784",
            "showbackground": true,
            "ticks": "",
            "zerolinecolor": "#C8D4E3"
           },
           "yaxis": {
            "backgroundcolor": "rgb(17,17,17)",
            "gridcolor": "#506784",
            "gridwidth": 2,
            "linecolor": "#506784",
            "showbackground": true,
            "ticks": "",
            "zerolinecolor": "#C8D4E3"
           },
           "zaxis": {
            "backgroundcolor": "rgb(17,17,17)",
            "gridcolor": "#506784",
            "gridwidth": 2,
            "linecolor": "#506784",
            "showbackground": true,
            "ticks": "",
            "zerolinecolor": "#C8D4E3"
           }
          },
          "shapedefaults": {
           "line": {
            "color": "#f2f5fa"
           }
          },
          "sliderdefaults": {
           "bgcolor": "#C8D4E3",
           "bordercolor": "rgb(17,17,17)",
           "borderwidth": 1,
           "tickwidth": 0
          },
          "ternary": {
           "aaxis": {
            "gridcolor": "#506784",
            "linecolor": "#506784",
            "ticks": ""
           },
           "baxis": {
            "gridcolor": "#506784",
            "linecolor": "#506784",
            "ticks": ""
           },
           "bgcolor": "rgb(17,17,17)",
           "caxis": {
            "gridcolor": "#506784",
            "linecolor": "#506784",
            "ticks": ""
           }
          },
          "title": {
           "x": 0.05
          },
          "updatemenudefaults": {
           "bgcolor": "#506784",
           "borderwidth": 0
          },
          "xaxis": {
           "automargin": true,
           "gridcolor": "#283442",
           "linecolor": "#506784",
           "ticks": "",
           "title": {
            "standoff": 15
           },
           "zerolinecolor": "#283442",
           "zerolinewidth": 2
          },
          "yaxis": {
           "automargin": true,
           "gridcolor": "#283442",
           "linecolor": "#506784",
           "ticks": "",
           "title": {
            "standoff": 15
           },
           "zerolinecolor": "#283442",
           "zerolinewidth": 2
          }
         }
        },
        "xaxis": {
         "anchor": "y",
         "domain": [
          0,
          1
         ],
         "title": {
          "text": "returns_std"
         }
        },
        "yaxis": {
         "anchor": "x",
         "domain": [
          0,
          1
         ],
         "title": {
          "text": "returns_mean"
         }
        }
       }
      }
     },
     "metadata": {},
     "output_type": "display_data"
    }
   ],
   "source": [
    "nasdaq_screened_df \\\n",
    "    .pipe(\n",
    "        func           = px.scatter,\n",
    "        x              = 'returns_std',\n",
    "        y              = 'returns_mean',\n",
    "        color          = 'reward_metric',\n",
    "        hover_data     = ['company', 'symbol', 'market_cap'],\n",
    "        render_mode    = 'svg',\n",
    "        template       = 'plotly_dark'\n",
    "    )\n"
   ]
  }
 ],
 "metadata": {
  "kernelspec": {
   "display_name": ".env",
   "language": "python",
   "name": "python3"
  },
  "language_info": {
   "codemirror_mode": {
    "name": "ipython",
    "version": 3
   },
   "file_extension": ".py",
   "mimetype": "text/x-python",
   "name": "python",
   "nbconvert_exporter": "python",
   "pygments_lexer": "ipython3",
   "version": "3.10.6"
  },
  "orig_nbformat": 4,
  "vscode": {
   "interpreter": {
    "hash": "10ebf108ba2a141fb4aad0f5fef406ec63161a211d109c2d763fc37de1c44759"
   }
  }
 },
 "nbformat": 4,
 "nbformat_minor": 2
}
